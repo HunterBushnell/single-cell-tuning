{
  "cells": [
    {
      "cell_type": "markdown",
      "metadata": {
        "id": "wj5V_SKWdn8R"
      },
      "source": [
        "# Run cells from AllenDB"
      ]
    },
    {
      "cell_type": "code",
      "execution_count": 1,
      "metadata": {
        "id": "ni3ndt_-kYPm"
      },
      "outputs": [],
      "source": [
        "!git clone -b release_candidate https://github.com/V-Marco/ACT.git > /dev/null 2>&1"
      ]
    },
    {
      "cell_type": "markdown",
      "metadata": {
        "id": "0Gu2U1vURE0f"
      },
      "source": [
        "#choose specimen id and model type"
      ]
    },
    {
      "cell_type": "code",
      "execution_count": null,
      "metadata": {
        "id": "BVCtvRNcRG6v"
      },
      "outputs": [],
      "source": [
        "# Mouse L2/3 SST (Som) cell\n",
        "# http://celltypes.brain-map.org/mouse/experiment/electrophysiology/476686112\n",
        "specimen_id = 476686112\n",
        "\n",
        "model_type = 'perisomatic'#or 'all active'\n",
        "work_dir = 'OriginalFromAllenDB'"
      ]
    },
    {
      "cell_type": "code",
      "execution_count": 3,
      "metadata": {
        "id": "Fg6QlbRJvcha"
      },
      "outputs": [
        {
          "name": "stderr",
          "output_type": "stream",
          "text": [
            "/home/hrbncv/miniconda3/envs/BMTK/lib/python3.9/site-packages/torch/__init__.py:1240: UserWarning: torch.set_default_tensor_type() is deprecated as of PyTorch 2.1, please use torch.set_default_dtype() and torch.set_default_device() as alternatives. (Triggered internally at /pytorch/torch/csrc/tensor/python_tensor.cpp:434.)\n",
            "  _C._set_default_tensor_type(t)\n"
          ]
        }
      ],
      "source": [
        "from allensdk.model.biophys_sim.config import Config\n",
        "from allensdk.model.biophysical.utils import Utils\n",
        "import os\n",
        "import json\n",
        "import matplotlib.pyplot as plt\n",
        "import numpy as np\n",
        "import sys\n",
        "sys.path.append(\"ACT\")\n",
        "from act.passive import ACTPassiveModule\n",
        "\n",
        "# If error, restart env"
      ]
    },
    {
      "cell_type": "code",
      "execution_count": 4,
      "metadata": {
        "id": "ogrbnkqXG_JM"
      },
      "outputs": [],
      "source": [
        "from allensdk.api.queries.biophysical_api import BiophysicalApi\n",
        "from allensdk.model.biophys_sim.config import Config\n",
        "from allensdk.model.biophysical.utils import Utils"
      ]
    },
    {
      "cell_type": "markdown",
      "metadata": {
        "id": "hLtoKzYFPS83"
      },
      "source": [
        "#Download the cell -  if using HOC: upload the hoc template to the working directory and modfiles into a folder named 'modfiles' and skip to 'Build the Cell' then 'Simulation Parameters'"
      ]
    },
    {
      "cell_type": "markdown",
      "metadata": {
        "id": "zoN2RvxqW5yk"
      },
      "source": [
        "#Also if using hoc, double check parameters every time build_cell() is used"
      ]
    },
    {
      "cell_type": "code",
      "execution_count": 5,
      "metadata": {
        "colab": {
          "base_uri": "https://localhost:8080/"
        },
        "id": "70jAoqLNPSXw",
        "outputId": "cf9f359d-ee25-4f90-bca0-f778c1fd1016"
      },
      "outputs": [
        {
          "name": "stdout",
          "output_type": "stream",
          "text": [
            "model id = 477878284\n",
            "\n"
          ]
        },
        {
          "data": {
            "text/plain": [
              "[{'id': 477878284,\n",
              "  'name': 'Biophysical - perisomatic_Sst-IRES-Cre;Ai14-188740.03.02.01',\n",
              "  'neuron_reconstruction_id': 491119369,\n",
              "  'neuronal_model_template_id': 329230710,\n",
              "  'specimen_id': 476686112},\n",
              " {'id': 497232660,\n",
              "  'name': 'Biophysical - all active_Sst-IRES-Cre;Ai14-188740.03.02.01',\n",
              "  'neuron_reconstruction_id': 491119369,\n",
              "  'neuronal_model_template_id': 491455321,\n",
              "  'specimen_id': 476686112}]"
            ]
          },
          "execution_count": 5,
          "metadata": {},
          "output_type": "execute_result"
        }
      ],
      "source": [
        "#get the model id\n",
        "\n",
        "bp = BiophysicalApi()#using AllenDB's API\n",
        "models = bp.get_neuronal_models(specimen_id)\n",
        "\n",
        "for model in models:\n",
        "  if model_type in model['name'].lower():\n",
        "    print(f\"model id = {model['id']}\\n\")\n",
        "    model_id = model['id']\n",
        "models"
      ]
    },
    {
      "cell_type": "markdown",
      "metadata": {
        "id": "y2VH-bGEdn8T"
      },
      "source": [
        "## Build the cell"
      ]
    },
    {
      "cell_type": "markdown",
      "metadata": {},
      "source": [
        "if you need additonal modfiles from a public repo, provide a list of the names of the modfiles and a link to the folder"
      ]
    },
    {
      "cell_type": "code",
      "execution_count": 6,
      "metadata": {
        "id": "4AnfVUXO8MXO"
      },
      "outputs": [],
      "source": [
        "# Compile the modfiles\n",
        "os.chdir(work_dir)\n",
        "!nrnivmodl modfiles > /dev/null 2>&1"
      ]
    },
    {
      "cell_type": "code",
      "execution_count": 7,
      "metadata": {
        "id": "Y17foN45FNMK"
      },
      "outputs": [],
      "source": [
        "import sys, os\n",
        "from functools import wraps\n",
        "\n",
        "def suppress_output(fn):\n",
        "    @wraps(fn)\n",
        "    def wrapper(*args, **kwargs):\n",
        "        devnull = open(os.devnull, 'w')\n",
        "        old_stdout, old_stderr = sys.stdout, sys.stderr\n",
        "        sys.stdout = sys.stderr = devnull\n",
        "        try:\n",
        "            return fn(*args, **kwargs)\n",
        "        finally:\n",
        "            sys.stdout, sys.stderr = old_stdout, old_stderr\n",
        "            devnull.close()\n",
        "    return wrapper"
      ]
    },
    {
      "cell_type": "markdown",
      "metadata": {
        "id": "pGmLIqlFdn8T"
      },
      "source": [
        "**NOTE:** Control the soma area in the `build_cell` function below."
      ]
    },
    {
      "cell_type": "code",
      "execution_count": 30,
      "metadata": {
        "id": "c_uh5-8Jdn8U"
      },
      "outputs": [],
      "source": [
        "@suppress_output\n",
        "def build_cell(soma_diam_multiplier = 1,using_hoc=False,hoc_filename=None,cell_name=None):\n",
        "\n",
        "    if using_hoc:\n",
        "      from neuron import h\n",
        "      h.load_file(hoc_filename)\n",
        "      return getattr(h, cell_name)()\n",
        "    # Create the h object\n",
        "    description = Config().load('manifest.json')\n",
        "    utils = Utils(description)\n",
        "    h = utils.h\n",
        "    # Convert all \"value\" attributes to floats\n",
        "    for dict in utils.description.data['genome']:\n",
        "        for key, value in dict.items():\n",
        "            if key == 'value': dict[key] = float(value)\n",
        "    # Configure morphology\n",
        "    morphology_path = description.manifest.get_path('MORPHOLOGY')\n",
        "    utils.generate_morphology(morphology_path.encode('ascii', 'ignore'))\n",
        "    utils.load_cell_parameters()\n",
        "    # To match PP\n",
        "    h.soma[0].diam = h.soma[0].diam * soma_diam_multiplier\n",
        "\n",
        "    return h\n",
        "\n",
        "def set_simulation(hoc_object,sim_params, soma_diam_multiplier = 1.0):\n",
        "    from neuron import h\n",
        "    h.load_file(\"stdrun.hoc\")\n",
        "    stim = h.IClamp(hoc_object.soma[0](0.5))\n",
        "    stim.amp = sim_params['stim_amp']\n",
        "    stim.delay = sim_params['stim_delay']\n",
        "    stim.dur = sim_params['stim_dur']\n",
        "    h.tstop = sim_params['h_tstop']\n",
        "    h.dt = sim_params['h_dt']\n",
        "    # h.steps_per_ms = 1 / h.dt\n",
        "    return h, stim"
      ]
    },
    {
      "cell_type": "code",
      "execution_count": null,
      "metadata": {
        "id": "qRbAPN3zDZkD"
      },
      "outputs": [],
      "source": [
        "\n",
        "soma_diam_multiplier = 1\n",
        "hobject = build_cell(soma_diam_multiplier)"
      ]
    },
    {
      "cell_type": "markdown",
      "metadata": {
        "id": "0YCmob0LSdVP"
      },
      "source": [
        "#Morphology"
      ]
    },
    {
      "cell_type": "code",
      "execution_count": 32,
      "metadata": {
        "colab": {
          "base_uri": "https://localhost:8080/"
        },
        "id": "rUgKdauIQ_VL",
        "outputId": "3757cf0b-a157-402a-8479-ce821cfadf2a"
      },
      "outputs": [
        {
          "name": "stdout",
          "output_type": "stream",
          "text": [
            "Soma area: 503.6323076932052\n",
            "Soma diam: 12.661399841308594\n",
            "Soma L: 12.661407470703125\n"
          ]
        }
      ],
      "source": [
        "print(f\"Soma area: {hobject.soma[0](0.5).area()}\")\n",
        "print(f\"Soma diam: {hobject.soma[0].diam}\")\n",
        "print(f\"Soma L: {hobject.soma[0].L}\")"
      ]
    },
    {
      "cell_type": "markdown",
      "metadata": {
        "id": "XMdDg3asdn8U"
      },
      "source": [
        "## Passive properties"
      ]
    },
    {
      "cell_type": "code",
      "execution_count": 33,
      "metadata": {
        "colab": {
          "base_uri": "https://localhost:8080/"
        },
        "id": "uGyQD1ijSYvf",
        "outputId": "3f38dbb6-b10f-405b-e9f0-645c69cc9815"
      },
      "outputs": [
        {
          "name": "stdout",
          "output_type": "stream",
          "text": [
            "SettablePassiveProperties(Cm=1.5852087355778763, g_bar_leak=0.00010161594458832541, e_rev_leak=-65.75, g_bar_h=None)\n"
          ]
        }
      ],
      "source": [
        "# Soma area from the previous cell\n",
        "computed_soma_area = hobject.soma[0](0.5).area() * 1e-8 #(cm2)\n",
        "# User-provided desired properties\n",
        "user_provided_Rin = 195.4 * 10e6 # (to Ohm from MOhm)\n",
        "user_provided_tau = 15.6 * 1e-3 # (to s from ms)\n",
        "user_provided_Vrest = -65.75 #-65.75 # (mV)\n",
        "spps = ACTPassiveModule.compute_spp(user_provided_Rin, computed_soma_area, user_provided_tau, user_provided_Vrest)\n",
        "print(spps)"
      ]
    },
    {
      "cell_type": "markdown",
      "metadata": {
        "id": "HsQ9GzT2bZTY"
      },
      "source": [
        "#set simulation parameters"
      ]
    },
    {
      "cell_type": "code",
      "execution_count": 34,
      "metadata": {
        "id": "y4mGz8rlXinq"
      },
      "outputs": [],
      "source": [
        "sim_params = {\n",
        "                'stim_amp': -0.1,\n",
        "                'stim_delay': 300,\n",
        "                'stim_dur': 1000,\n",
        "                'h_tstop': 1500,\n",
        "                'h_dt': 0.025\n",
        "                }\n"
      ]
    },
    {
      "cell_type": "markdown",
      "metadata": {
        "id": "t8v1LD7tiyRV"
      },
      "source": [
        "#run the simulation"
      ]
    },
    {
      "cell_type": "code",
      "execution_count": 35,
      "metadata": {
        "id": "IXX03NxhIGrX"
      },
      "outputs": [],
      "source": [
        "def count_voltage_events(t, v):\n",
        "    \"\"\"\n",
        "    Counts the number of times the voltage goes above -20 mV and the slope changes from positive to negative.\n",
        "\n",
        "    Args:\n",
        "        t: A NumPy array of time points.\n",
        "        v: A NumPy array of voltage values.\n",
        "\n",
        "    Returns:\n",
        "        The number of events.\n",
        "    \"\"\"\n",
        "\n",
        "    # Calculate the slope of the voltage\n",
        "    slope = np.diff(v)\n",
        "\n",
        "    # Find the indices where the voltage is above -20 mV\n",
        "    above_threshold_indices = np.where(v[:-1] > -20)[0]\n",
        "\n",
        "    # Find the indices where the slope changes from positive to negative\n",
        "    positive_to_negative_indices = np.where((slope[:-1] > 0) & (slope[1:] < 0))[0]\n",
        "\n",
        "    # Find the intersection of the two sets of indices\n",
        "    event_indices = np.intersect1d(above_threshold_indices, positive_to_negative_indices)\n",
        "\n",
        "    return len(event_indices)"
      ]
    },
    {
      "cell_type": "code",
      "execution_count": 36,
      "metadata": {
        "id": "5IDAmS5nLb3f"
      },
      "outputs": [],
      "source": [
        "#function to get the start and end index of the stim but in the voltage file\n",
        "def get_start_end_idx(sim_params):\n",
        "  start_idx = int(sim_params['stim_delay']/sim_params['h_dt'])\n",
        "  end_idx = int(sim_params['stim_dur']/sim_params['h_dt'])\n",
        "  return start_idx, end_idx"
      ]
    },
    {
      "cell_type": "code",
      "execution_count": 37,
      "metadata": {
        "id": "PQQAvRE3zvnc"
      },
      "outputs": [],
      "source": [
        "#function to calculate the frequency of a voltage trace\n",
        "def get_frequency(v,sim_params):\n",
        "\n",
        "  start_idx,end_idx = get_start_end_idx(sim_params)\n",
        "  spikes = count_voltage_events(np.arange(len(v.as_numpy()))[start_idx:end_idx], v.as_numpy()[start_idx:end_idx])\n",
        "\n",
        "  if spikes> 0:\n",
        "    duration_sec = sim_params['stim_dur'] / 1000.0\n",
        "    freq = spikes / duration_sec\n",
        "    return freq\n",
        "\n",
        "  else:\n",
        "    return 0"
      ]
    },
    {
      "cell_type": "code",
      "execution_count": 38,
      "metadata": {
        "colab": {
          "base_uri": "https://localhost:8080/",
          "height": 470
        },
        "id": "OzknfkcOWJ8r",
        "outputId": "fc1aeea9-082b-4401-a03c-4adcd43611d6"
      },
      "outputs": [
        {
          "data": {
            "image/png": "[encoded data removed]",
            "text/plain": [
              "<Figure size 640x480 with 1 Axes>"
            ]
          },
          "metadata": {},
          "output_type": "display_data"
        },
        {
          "name": "stdout",
          "output_type": "stream",
          "text": [
            "spike frequency = 0.00 Hz\n"
          ]
        }
      ],
      "source": [
        "#modify simulation parameters if needed\n",
        "sim_params['stim_amp'] = -0.1\n",
        "\n",
        "#rebuild the cell to make sure the set_simulation() is using the correct hobj\n",
        "#if using hoc call with the hoc filename and cell name\n",
        "\n",
        "soma_diam_multiplier = 1\n",
        "hobject = build_cell(soma_diam_multiplier)\n",
        "#hobject = build_cell(soma_diam_multiplier,using_hoc=True,'HYPO_TEMPLATE.hoc','HYPO')\n",
        "\n",
        "# run the simulation\n",
        "h, stim = set_simulation(hobject,sim_params)\n",
        "v = h.Vector().record(hobject.soma[0](0.5)._ref_v)\n",
        "h.finitialize()\n",
        "h.run()\n",
        "\n",
        "#plot the result and display spike frequency\n",
        "V = v.as_numpy()\n",
        "T = np.arange(0,h.tstop+h.dt,h.dt)\n",
        "plt.plot(T,V)\n",
        "plt.title(f\"Vm at {sim_params['stim_amp']} nA\")\n",
        "plt.show()\n",
        "\n",
        "print(f\"spike frequency = {get_frequency(v,sim_params):.2f} Hz\")"
      ]
    },
    {
      "cell_type": "code",
      "execution_count": null,
      "metadata": {
        "colab": {
          "base_uri": "https://localhost:8080/"
        },
        "id": "LghqBV23dn8V",
        "outputId": "f9065351-ebba-4525-aed3-bcbd89a90123"
      },
      "outputs": [
        {
          "name": "stdout",
          "output_type": "stream",
          "text": [
            "GettablePassiveProperties(R_in=70.71485417380778, tau1=0.9750000000000001, tau2=997.575, sag_ratio=0.9744728001748757, V_rest=-39.26875151165229)\n",
            "V-rest: -16.848812462038335\n"
          ]
        }
      ],
      "source": [
        "#find Rin, tau, sag ratio, and Vrest\n",
        "\n",
        "print(ACTPassiveModule.compute_gpp(v.as_numpy(), h.dt, sim_params['stim_delay'], 1290, sim_params['stim_amp']))\n",
        "print(f\"V-rest: {v.as_numpy()[sim_params['stim_dur']]}\")\n",
        "\n",
        "V = v.as_numpy()\n",
        "stim_start = int(sim_params['stim_delay']/h.dt)\n",
        "stim_dur = int(sim_params['stim_dur']/h.dt)\n",
        "stead_state_v = V[stim_start+stim_dur-10]\n",
        "end_of_sag = int(stim_start + stim_dur*0.2)\n",
        "minimum_v = np.min(V[stim_start:stim_start + end_of_sag])\n",
        "sag_ratio = stead_state_v / minimum_v\n",
        "print(f\"Sag ratio: {sag_ratio}\")"
      ]
    },
    {
      "cell_type": "markdown",
      "metadata": {
        "id": "bXj_B2M4dn8V"
      },
      "source": [
        "## FI-Curve"
      ]
    },
    {
      "cell_type": "code",
      "execution_count": 40,
      "metadata": {
        "id": "fx2SSTC5dn8W"
      },
      "outputs": [],
      "source": [
        "#test the cell at multiple frequencies to get an FI curve\n",
        "\n",
        "frequenies = []\n",
        "amps = [-0.1, -0.05, 0, 0.05, 0.1, 0.15, 0.2, 0.25, 0.3]\n",
        "\n",
        "\n",
        "for amp in amps:\n",
        "  #if using hoc call with the hoc filename and cell name\n",
        "    hobject = build_cell(soma_diam_multiplier)\n",
        "    #hobject = build_cell(soma_diam_multiplier,using_hoc=True,'HYPO_TEMPLATE.hoc','HYPO')\n",
        "\n",
        "    sim_params['stim_amp'] = amp\n",
        "    h, stim = set_simulation(hobject,sim_params)\n",
        "    v = h.Vector().record(hobject.soma[0](0.5)._ref_v)\n",
        "    h.finitialize()\n",
        "    h.run()\n",
        "    frequenies.append(get_frequency(v,sim_params))\n"
      ]
    },
    {
      "cell_type": "code",
      "execution_count": 41,
      "metadata": {
        "colab": {
          "base_uri": "https://localhost:8080/"
        },
        "id": "NgMVPPg3dn8W",
        "outputId": "1135859f-f6ca-4ac6-c67d-8e37613e3609"
      },
      "outputs": [
        {
          "name": "stdout",
          "output_type": "stream",
          "text": [
            "-0.1: 0\n",
            "-0.05: 0\n",
            "0: 0\n",
            "0.05: 0\n",
            "0.1: 0\n",
            "0.15: 0\n",
            "0.2: 0\n",
            "0.25: 0\n",
            "0.3: 0\n"
          ]
        }
      ],
      "source": [
        "for a, f in zip(amps, frequenies):\n",
        "    print(f\"{a}: {f}\")"
      ]
    },
    {
      "cell_type": "code",
      "execution_count": 42,
      "metadata": {
        "colab": {
          "base_uri": "https://localhost:8080/",
          "height": 472
        },
        "id": "6Ur37iRedn8W",
        "outputId": "4e38a6b4-4943-4032-c402-6c3ad4b77d04"
      },
      "outputs": [
        {
          "data": {
            "image/png": "[encoded data removed]",
            "text/plain": [
              "<Figure size 640x480 with 1 Axes>"
            ]
          },
          "metadata": {},
          "output_type": "display_data"
        }
      ],
      "source": [
        "\n",
        "plt.plot(amps, frequenies)\n",
        "plt.title(\"FI CURVE\")\n",
        "plt.xlabel(\"Stimulus Amplitude (nA)\")\n",
        "plt.ylabel(\"Frequency (Hz)\")\n",
        "plt.show()"
      ]
    }
  ],
  "metadata": {
    "colab": {
      "provenance": []
    },
    "kernelspec": {
      "display_name": "BMTK",
      "language": "python",
      "name": "python3"
    },
    "language_info": {
      "codemirror_mode": {
        "name": "ipython",
        "version": 3
      },
      "file_extension": ".py",
      "mimetype": "text/x-python",
      "name": "python",
      "nbconvert_exporter": "python",
      "pygments_lexer": "ipython3",
      "version": "3.9.18"
    }
  },
  "nbformat": 4,
  "nbformat_minor": 0
}
