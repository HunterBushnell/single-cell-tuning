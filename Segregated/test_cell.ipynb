{
  "cells": [
    {
      "cell_type": "markdown",
      "metadata": {},
      "source": [
        "# Run cells from AllenDB"
      ]
    },
    {
      "cell_type": "code",
      "execution_count": null,
      "metadata": {
        "colab": {
          "base_uri": "https://localhost:8080/"
        },
        "id": "ni3ndt_-kYPm",
        "outputId": "a2789eee-b162-49c8-e065-78d28943ed03"
      },
      "outputs": [
        {
          "name": "stdout",
          "output_type": "stream",
          "text": [
            "Requirement already satisfied: pip in /usr/local/lib/python3.11/dist-packages (24.1.2)\n",
            "Collecting pip\n",
            "  Downloading pip-25.0.1-py3-none-any.whl.metadata (3.7 kB)\n",
            "Downloading pip-25.0.1-py3-none-any.whl (1.8 MB)\n",
            "\u001b[2K   \u001b[90m━━━━━━━━━━━━━━━━━━━━━━━━━━━━━━━━━━━━━━━━\u001b[0m \u001b[32m1.8/1.8 MB\u001b[0m \u001b[31m16.6 MB/s\u001b[0m eta \u001b[36m0:00:00\u001b[0m\n",
            "\u001b[?25hInstalling collected packages: pip\n",
            "  Attempting uninstall: pip\n",
            "    Found existing installation: pip 24.1.2\n",
            "    Uninstalling pip-24.1.2:\n",
            "      Successfully uninstalled pip-24.1.2\n",
            "Successfully installed pip-25.0.1\n",
            "  Installing build dependencies ... \u001b[?25l\u001b[?25hdone\n",
            "  Getting requirements to build wheel ... \u001b[?25l\u001b[?25hdone\n",
            "  Preparing metadata (pyproject.toml) ... \u001b[?25l\u001b[?25hdone\n",
            "\u001b[2K   \u001b[90m━━━━━━━━━━━━━━━━━━━━━━━━━━━━━━━━━━━━━━━━\u001b[0m \u001b[32m3.1/3.1 MB\u001b[0m \u001b[31m2.8 MB/s\u001b[0m eta \u001b[36m0:00:00\u001b[0m\n",
            "\u001b[2K   \u001b[90m━━━━━━━━━━━━━━━━━━━━━━━━━━━━━━━━━━━━━━━━\u001b[0m \u001b[32m12.0/12.0 MB\u001b[0m \u001b[31m120.6 MB/s\u001b[0m eta \u001b[36m0:00:00\u001b[0m\n",
            "\u001b[2K   \u001b[90m━━━━━━━━━━━━━━━━━━━━━━━━━━━━━━━━━━━━━━━━\u001b[0m \u001b[32m15.2/15.2 MB\u001b[0m \u001b[31m3.1 MB/s\u001b[0m eta \u001b[36m0:00:00\u001b[0m\n",
            "\u001b[2K   \u001b[90m━━━━━━━━━━━━━━━━━━━━━━━━━━━━━━━━━━━━━━━━\u001b[0m \u001b[32m17.1/17.1 MB\u001b[0m \u001b[31m122.2 MB/s\u001b[0m eta \u001b[36m0:00:00\u001b[0m\n",
            "\u001b[2K   \u001b[90m━━━━━━━━━━━━━━━━━━━━━━━━━━━━━━━━━━━━━━━━\u001b[0m \u001b[32m34.1/34.1 MB\u001b[0m \u001b[31m55.0 MB/s\u001b[0m eta \u001b[36m0:00:00\u001b[0m\n",
            "\u001b[2K   \u001b[90m━━━━━━━━━━━━━━━━━━━━━━━━━━━━━━━━━━━━━━━━\u001b[0m \u001b[32m973.1/973.1 kB\u001b[0m \u001b[31m42.6 MB/s\u001b[0m eta \u001b[36m0:00:00\u001b[0m\n",
            "\u001b[2K   \u001b[90m━━━━━━━━━━━━━━━━━━━━━━━━━━━━━━━━━━━━━━━━\u001b[0m \u001b[32m2.7/2.7 MB\u001b[0m \u001b[31m37.8 MB/s\u001b[0m eta \u001b[36m0:00:00\u001b[0m\n",
            "\u001b[2K   \u001b[90m━━━━━━━━━━━━━━━━━━━━━━━━━━━━━━━━━━━━━━━━\u001b[0m \u001b[32m1.4/1.4 MB\u001b[0m \u001b[31m8.7 MB/s\u001b[0m eta \u001b[36m0:00:00\u001b[0m\n",
            "\u001b[2K   \u001b[90m━━━━━━━━━━━━━━━━━━━━━━━━━━━━━━━━━━━━━━━━\u001b[0m \u001b[32m3.0/3.0 MB\u001b[0m \u001b[31m93.2 MB/s\u001b[0m eta \u001b[36m0:00:00\u001b[0m\n",
            "\u001b[2K   \u001b[90m━━━━━━━━━━━━━━━━━━━━━━━━━━━━━━━━━━━━━━━━\u001b[0m \u001b[32m14.9/14.9 MB\u001b[0m \u001b[31m129.4 MB/s\u001b[0m eta \u001b[36m0:00:00\u001b[0m\n",
            "\u001b[2K   \u001b[90m━━━━━━━━━━━━━━━━━━━━━━━━━━━━━━━━━━━━━━━━\u001b[0m \u001b[32m52.3/52.3 MB\u001b[0m \u001b[31m51.0 MB/s\u001b[0m eta \u001b[36m0:00:00\u001b[0m\n",
            "\u001b[2K   \u001b[90m━━━━━━━━━━━━━━━━━━━━━━━━━━━━━━━━━━━━━━━━\u001b[0m \u001b[32m4.4/4.4 MB\u001b[0m \u001b[31m5.8 MB/s\u001b[0m eta \u001b[36m0:00:00\u001b[0m\n",
            "\u001b[2K   \u001b[90m━━━━━━━━━━━━━━━━━━━━━━━━━━━━━━━━━━━━━━━━\u001b[0m \u001b[32m13.4/13.4 MB\u001b[0m \u001b[31m141.4 MB/s\u001b[0m eta \u001b[36m0:00:00\u001b[0m\n",
            "\u001b[2K   \u001b[90m━━━━━━━━━━━━━━━━━━━━━━━━━━━━━━━━━━━━━━━━\u001b[0m \u001b[32m739.1/739.1 kB\u001b[0m \u001b[31m30.8 MB/s\u001b[0m eta \u001b[36m0:00:00\u001b[0m\n",
            "\u001b[?25h  Building wheel for argschema (pyproject.toml) ... \u001b[?25l\u001b[?25hdone\n",
            "\u001b[31mERROR: pip's dependency resolver does not currently take into account all the packages that are installed. This behaviour is the source of the following dependency conflicts.\n",
            "google-colab 1.0.0 requires pandas==2.2.2, but you have pandas 1.5.3 which is incompatible.\n",
            "imbalanced-learn 0.13.0 requires numpy<3,>=1.24.3, but you have numpy 1.23.5 which is incompatible.\n",
            "plotnine 0.14.5 requires pandas>=2.2.0, but you have pandas 1.5.3 which is incompatible.\n",
            "bigframes 1.36.0 requires numpy>=1.24.0, but you have numpy 1.23.5 which is incompatible.\n",
            "pymc 5.20.1 requires numpy>=1.25.0, but you have numpy 1.23.5 which is incompatible.\n",
            "numba 0.61.0 requires numpy<2.2,>=1.24, but you have numpy 1.23.5 which is incompatible.\n",
            "albumentations 2.0.4 requires numpy>=1.24.4, but you have numpy 1.23.5 which is incompatible.\n",
            "tensorflow 2.18.0 requires numpy<2.1.0,>=1.26.0, but you have numpy 1.23.5 which is incompatible.\n",
            "jax 0.4.33 requires numpy>=1.24, but you have numpy 1.23.5 which is incompatible.\n",
            "mizani 0.13.1 requires pandas>=2.2.0, but you have pandas 1.5.3 which is incompatible.\n",
            "chex 0.1.88 requires numpy>=1.24.1, but you have numpy 1.23.5 which is incompatible.\n",
            "albucore 0.0.23 requires numpy>=1.24.4, but you have numpy 1.23.5 which is incompatible.\n",
            "treescope 0.1.8 requires numpy>=1.25.2, but you have numpy 1.23.5 which is incompatible.\n",
            "jaxlib 0.4.33 requires numpy>=1.24, but you have numpy 1.23.5 which is incompatible.\n",
            "cudf-cu12 24.12.0 requires pandas<2.2.4dev0,>=2.0, but you have pandas 1.5.3 which is incompatible.\n",
            "langchain 0.3.18 requires numpy<2,>=1.26.4; python_version < \"3.12\", but you have numpy 1.23.5 which is incompatible.\u001b[0m\u001b[31m\n",
            "\u001b[0m"
          ]
        }
      ],
      "source": [
        "# If running in Colab\n",
        "!pip install --upgrade pip\n",
        "!pip install --quiet allensdk neuron\n",
        "!git clone -b release_candidate https://github.com/V-Marco/ACT.git"
      ]
    },
    {
      "cell_type": "code",
      "execution_count": 1,
      "metadata": {
        "id": "Fg6QlbRJvcha"
      },
      "outputs": [],
      "source": [
        "from allensdk.model.biophys_sim.config import Config\n",
        "from allensdk.model.biophysical.utils import Utils\n",
        "import os\n",
        "import json\n",
        "import matplotlib.pyplot as plt\n",
        "import numpy as np\n",
        "\n",
        "import sys\n",
        "sys.path.append(\"ACT\")\n",
        "from act.passive import ACTPassiveModule"
      ]
    },
    {
      "cell_type": "code",
      "execution_count": 2,
      "metadata": {
        "colab": {
          "base_uri": "https://localhost:8080/"
        },
        "id": "ohqoZc7OotdZ",
        "outputId": "00dba5d4-ead8-4e1e-86e2-74ecec7d8372"
      },
      "outputs": [],
      "source": [
        "# Compile the modfiles\n",
        "!nrnivmodl modfiles > /dev/null 2>&1"
      ]
    },
    {
      "cell_type": "markdown",
      "metadata": {},
      "source": [
        "## Build the cell"
      ]
    },
    {
      "cell_type": "markdown",
      "metadata": {},
      "source": [
        "**NOTE:** Control the soma area in the `build_cell` function below."
      ]
    },
    {
      "cell_type": "code",
      "execution_count": 3,
      "metadata": {},
      "outputs": [],
      "source": [
        "def build_cell():\n",
        "    # Create the h object\n",
        "    description = Config().load('manifest.json')\n",
        "    utils = Utils(description)\n",
        "    h = utils.h\n",
        "\n",
        "    # Convert all \"value\" attributes to floats\n",
        "    for dict in utils.description.data['genome']:\n",
        "        for key, value in dict.items():\n",
        "            if key == 'value': dict[key] = float(value)\n",
        "\n",
        "    # Configure morphology\n",
        "    morphology_path = description.manifest.get_path('MORPHOLOGY')\n",
        "    utils.generate_morphology(morphology_path.encode('ascii', 'ignore'))\n",
        "    utils.load_cell_parameters()\n",
        "\n",
        "    # To match PP\n",
        "    h.soma[0].diam = h.soma[0].diam * 0.6\n",
        "\n",
        "    return h\n",
        "\n",
        "def set_simulation(stim_amp):\n",
        "    h = build_cell()\n",
        "\n",
        "    stim = h.IClamp(h.soma[0](0.5))\n",
        "    stim.amp = stim_amp\n",
        "    stim.delay = 300.0\n",
        "    stim.dur = 1000\n",
        "    h.tstop = 1500.0\n",
        "    h.dt = 0.1\n",
        "    h.steps_per_ms = 1 / h.dt\n",
        "\n",
        "    return h, stim"
      ]
    },
    {
      "cell_type": "markdown",
      "metadata": {},
      "source": [
        "## Morphology"
      ]
    },
    {
      "cell_type": "code",
      "execution_count": 301,
      "metadata": {},
      "outputs": [
        {
          "name": "stdout",
          "output_type": "stream",
          "text": [
            "warning ./Sst-IRES-Cre_Ai14-188740.03.02.01_657210399_m.swc: more than one tree:\n",
            "  root at line 4\n",
            "  root at line 14504\n",
            "  root at line 14725\n",
            "  root at line 14798\n",
            "  root at line 15141\n",
            "  root at line 15144\n",
            "  root at line 15156\n",
            "  root at line 15211\n",
            "  root at line 15318\n",
            "  root at line 15496\n",
            "  root at line 15811\n",
            "  root at line 15857\n",
            "  root at line 15883\n",
            "  root at line 16161\n",
            "  root at line 16200\n",
            "  root at line 16210\n",
            "  root at line 16253\n",
            "  root at line 16286\n",
            "  root at line 16301\n",
            "  root at line 16326\n",
            "  root at line 16574\n",
            "  root at line 16613\n",
            "  root at line 16618\n",
            "  root at line 16645\n",
            "  root at line 16695\n",
            "  root at line 16751\n",
            "  root at line 16765\n",
            "  root at line 16768\n"
          ]
        }
      ],
      "source": [
        "h = build_cell()"
      ]
    },
    {
      "cell_type": "code",
      "execution_count": 302,
      "metadata": {},
      "outputs": [
        {
          "name": "stdout",
          "output_type": "stream",
          "text": [
            "Soma area: 302.1793846159231\n",
            "Soma diam: 7.596839904785156\n",
            "Soma L: 12.661407470703125\n"
          ]
        }
      ],
      "source": [
        "print(f\"Soma area: {h.soma[0](0.5).area()}\")\n",
        "print(f\"Soma diam: {h.soma[0].diam}\")\n",
        "print(f\"Soma L: {h.soma[0].L}\")"
      ]
    },
    {
      "cell_type": "markdown",
      "metadata": {},
      "source": [
        "## Passive properties"
      ]
    },
    {
      "cell_type": "code",
      "execution_count": 289,
      "metadata": {},
      "outputs": [
        {
          "data": {
            "text/plain": [
              "SettablePassiveProperties(Cm=1.5852087355778763, g_bar_leak=0.00010161594458832541, e_rev_leak=-71, g_bar_h=None)"
            ]
          },
          "execution_count": 289,
          "metadata": {},
          "output_type": "execute_result"
        }
      ],
      "source": [
        "computed_soma_area = 5.036323076932052e-06 # (cm2)\n",
        "\n",
        "user_provided_Rin = 195.4 * 10e6 # (to Ohm from MOhm)\n",
        "user_provided_tau = 15.6 * 1e-3 # (to s from ms)\n",
        "user_provided_Vrest = -71 # (mV)\n",
        "\n",
        "ACTPassiveModule.compute_spp(user_provided_Rin, computed_soma_area, user_provided_tau, user_provided_Vrest)"
      ]
    },
    {
      "cell_type": "code",
      "execution_count": 290,
      "metadata": {},
      "outputs": [
        {
          "name": "stdout",
          "output_type": "stream",
          "text": [
            "warning ./Sst-IRES-Cre_Ai14-188740.03.02.01_657210399_m.swc: more than one tree:\n",
            "  root at line 4\n",
            "  root at line 14504\n",
            "  root at line 14725\n",
            "  root at line 14798\n",
            "  root at line 15141\n",
            "  root at line 15144\n",
            "  root at line 15156\n",
            "  root at line 15211\n",
            "  root at line 15318\n",
            "  root at line 15496\n",
            "  root at line 15811\n",
            "  root at line 15857\n",
            "  root at line 15883\n",
            "  root at line 16161\n",
            "  root at line 16200\n",
            "  root at line 16210\n",
            "  root at line 16253\n",
            "  root at line 16286\n",
            "  root at line 16301\n",
            "  root at line 16326\n",
            "  root at line 16574\n",
            "  root at line 16613\n",
            "  root at line 16618\n",
            "  root at line 16645\n",
            "  root at line 16695\n",
            "  root at line 16751\n",
            "  root at line 16765\n",
            "  root at line 16768\n"
          ]
        },
        {
          "data": {
            "text/plain": [
              "[<matplotlib.lines.Line2D at 0x16ef95990>]"
            ]
          },
          "execution_count": 290,
          "metadata": {},
          "output_type": "execute_result"
        },
        {
          "data": {
            "image/png": "[encoded data removed]",
            "text/plain": [
              "<Figure size 640x480 with 1 Axes>"
            ]
          },
          "metadata": {},
          "output_type": "display_data"
        }
      ],
      "source": [
        "h, stim = set_simulation(-0.1)\n",
        "v = h.Vector().record(h.soma[0](0.5)._ref_v)\n",
        "h.finitialize()\n",
        "h.run()\n",
        "plt.plot(v.as_numpy()[::10])"
      ]
    },
    {
      "cell_type": "code",
      "execution_count": 291,
      "metadata": {},
      "outputs": [
        {
          "name": "stdout",
          "output_type": "stream",
          "text": [
            "GettablePassiveProperties(R_in=194.7525139028619, tau1=11.700000000000001, tau2=63.0, sag_ratio=0.07619332016214711)\n",
            "V-rest: -70.35248813302549\n"
          ]
        }
      ],
      "source": [
        "print(ACTPassiveModule.compute_gpp(v.as_numpy(), h.dt, 300, 1290, -0.1))\n",
        "print(f\"V-rest: {v.as_numpy()[300]}\")"
      ]
    },
    {
      "cell_type": "markdown",
      "metadata": {},
      "source": [
        "## FI-Curve"
      ]
    },
    {
      "cell_type": "code",
      "execution_count": 282,
      "metadata": {},
      "outputs": [],
      "source": [
        "def count_voltage_events(t, v):\n",
        "    \"\"\"\n",
        "    Counts the number of times the voltage goes above -20 mV and the slope changes from positive to negative.\n",
        "\n",
        "    Args:\n",
        "        t: A NumPy array of time points.\n",
        "        v: A NumPy array of voltage values.\n",
        "\n",
        "    Returns:\n",
        "        The number of events.\n",
        "    \"\"\"\n",
        "\n",
        "    # Calculate the slope of the voltage\n",
        "    slope = np.diff(v)\n",
        "\n",
        "    # Find the indices where the voltage is above -20 mV\n",
        "    above_threshold_indices = np.where(v[:-1] > -20)[0]\n",
        "\n",
        "    # Find the indices where the slope changes from positive to negative\n",
        "    positive_to_negative_indices = np.where((slope[:-1] > 0) & (slope[1:] < 0))[0]\n",
        "\n",
        "    # Find the intersection of the two sets of indices\n",
        "    event_indices = np.intersect1d(above_threshold_indices, positive_to_negative_indices)\n",
        "\n",
        "    return len(event_indices)"
      ]
    },
    {
      "cell_type": "code",
      "execution_count": 286,
      "metadata": {},
      "outputs": [
        {
          "name": "stdout",
          "output_type": "stream",
          "text": [
            "warning ./Sst-IRES-Cre_Ai14-188740.03.02.01_657210399_m.swc: more than one tree:\n",
            "  root at line 4\n",
            "  root at line 14504\n",
            "  root at line 14725\n",
            "  root at line 14798\n",
            "  root at line 15141\n",
            "  root at line 15144\n",
            "  root at line 15156\n",
            "  root at line 15211\n",
            "  root at line 15318\n",
            "  root at line 15496\n",
            "  root at line 15811\n",
            "  root at line 15857\n",
            "  root at line 15883\n",
            "  root at line 16161\n",
            "  root at line 16200\n",
            "  root at line 16210\n",
            "  root at line 16253\n",
            "  root at line 16286\n",
            "  root at line 16301\n",
            "  root at line 16326\n",
            "  root at line 16574\n",
            "  root at line 16613\n",
            "  root at line 16618\n",
            "  root at line 16645\n",
            "  root at line 16695\n",
            "  root at line 16751\n",
            "  root at line 16765\n",
            "  root at line 16768\n",
            "warning ./Sst-IRES-Cre_Ai14-188740.03.02.01_657210399_m.swc: more than one tree:\n",
            "  root at line 4\n",
            "  root at line 14504\n",
            "  root at line 14725\n",
            "  root at line 14798\n",
            "  root at line 15141\n",
            "  root at line 15144\n",
            "  root at line 15156\n",
            "  root at line 15211\n",
            "  root at line 15318\n",
            "  root at line 15496\n",
            "  root at line 15811\n",
            "  root at line 15857\n",
            "  root at line 15883\n",
            "  root at line 16161\n",
            "  root at line 16200\n",
            "  root at line 16210\n",
            "  root at line 16253\n",
            "  root at line 16286\n",
            "  root at line 16301\n",
            "  root at line 16326\n",
            "  root at line 16574\n",
            "  root at line 16613\n",
            "  root at line 16618\n",
            "  root at line 16645\n",
            "  root at line 16695\n",
            "  root at line 16751\n",
            "  root at line 16765\n",
            "  root at line 16768\n",
            "warning ./Sst-IRES-Cre_Ai14-188740.03.02.01_657210399_m.swc: more than one tree:\n",
            "  root at line 4\n",
            "  root at line 14504\n",
            "  root at line 14725\n",
            "  root at line 14798\n",
            "  root at line 15141\n",
            "  root at line 15144\n",
            "  root at line 15156\n",
            "  root at line 15211\n",
            "  root at line 15318\n",
            "  root at line 15496\n",
            "  root at line 15811\n",
            "  root at line 15857\n",
            "  root at line 15883\n",
            "  root at line 16161\n",
            "  root at line 16200\n",
            "  root at line 16210\n",
            "  root at line 16253\n",
            "  root at line 16286\n",
            "  root at line 16301\n",
            "  root at line 16326\n",
            "  root at line 16574\n",
            "  root at line 16613\n",
            "  root at line 16618\n",
            "  root at line 16645\n",
            "  root at line 16695\n",
            "  root at line 16751\n",
            "  root at line 16765\n",
            "  root at line 16768\n",
            "warning ./Sst-IRES-Cre_Ai14-188740.03.02.01_657210399_m.swc: more than one tree:\n",
            "  root at line 4\n",
            "  root at line 14504\n",
            "  root at line 14725\n",
            "  root at line 14798\n",
            "  root at line 15141\n",
            "  root at line 15144\n",
            "  root at line 15156\n",
            "  root at line 15211\n",
            "  root at line 15318\n",
            "  root at line 15496\n",
            "  root at line 15811\n",
            "  root at line 15857\n",
            "  root at line 15883\n",
            "  root at line 16161\n",
            "  root at line 16200\n",
            "  root at line 16210\n",
            "  root at line 16253\n",
            "  root at line 16286\n",
            "  root at line 16301\n",
            "  root at line 16326\n",
            "  root at line 16574\n",
            "  root at line 16613\n",
            "  root at line 16618\n",
            "  root at line 16645\n",
            "  root at line 16695\n",
            "  root at line 16751\n",
            "  root at line 16765\n",
            "  root at line 16768\n",
            "warning ./Sst-IRES-Cre_Ai14-188740.03.02.01_657210399_m.swc: more than one tree:\n",
            "  root at line 4\n",
            "  root at line 14504\n",
            "  root at line 14725\n",
            "  root at line 14798\n",
            "  root at line 15141\n",
            "  root at line 15144\n",
            "  root at line 15156\n",
            "  root at line 15211\n",
            "  root at line 15318\n",
            "  root at line 15496\n",
            "  root at line 15811\n",
            "  root at line 15857\n",
            "  root at line 15883\n",
            "  root at line 16161\n",
            "  root at line 16200\n",
            "  root at line 16210\n",
            "  root at line 16253\n",
            "  root at line 16286\n",
            "  root at line 16301\n",
            "  root at line 16326\n",
            "  root at line 16574\n",
            "  root at line 16613\n",
            "  root at line 16618\n",
            "  root at line 16645\n",
            "  root at line 16695\n",
            "  root at line 16751\n",
            "  root at line 16765\n",
            "  root at line 16768\n",
            "warning ./Sst-IRES-Cre_Ai14-188740.03.02.01_657210399_m.swc: more than one tree:\n",
            "  root at line 4\n",
            "  root at line 14504\n",
            "  root at line 14725\n",
            "  root at line 14798\n",
            "  root at line 15141\n",
            "  root at line 15144\n",
            "  root at line 15156\n",
            "  root at line 15211\n",
            "  root at line 15318\n",
            "  root at line 15496\n",
            "  root at line 15811\n",
            "  root at line 15857\n",
            "  root at line 15883\n",
            "  root at line 16161\n",
            "  root at line 16200\n",
            "  root at line 16210\n",
            "  root at line 16253\n",
            "  root at line 16286\n",
            "  root at line 16301\n",
            "  root at line 16326\n",
            "  root at line 16574\n",
            "  root at line 16613\n",
            "  root at line 16618\n",
            "  root at line 16645\n",
            "  root at line 16695\n",
            "  root at line 16751\n",
            "  root at line 16765\n",
            "  root at line 16768\n",
            "warning ./Sst-IRES-Cre_Ai14-188740.03.02.01_657210399_m.swc: more than one tree:\n",
            "  root at line 4\n",
            "  root at line 14504\n",
            "  root at line 14725\n",
            "  root at line 14798\n",
            "  root at line 15141\n",
            "  root at line 15144\n",
            "  root at line 15156\n",
            "  root at line 15211\n",
            "  root at line 15318\n",
            "  root at line 15496\n",
            "  root at line 15811\n",
            "  root at line 15857\n",
            "  root at line 15883\n",
            "  root at line 16161\n",
            "  root at line 16200\n",
            "  root at line 16210\n",
            "  root at line 16253\n",
            "  root at line 16286\n",
            "  root at line 16301\n",
            "  root at line 16326\n",
            "  root at line 16574\n",
            "  root at line 16613\n",
            "  root at line 16618\n",
            "  root at line 16645\n",
            "  root at line 16695\n",
            "  root at line 16751\n",
            "  root at line 16765\n",
            "  root at line 16768\n",
            "warning ./Sst-IRES-Cre_Ai14-188740.03.02.01_657210399_m.swc: more than one tree:\n",
            "  root at line 4\n",
            "  root at line 14504\n",
            "  root at line 14725\n",
            "  root at line 14798\n",
            "  root at line 15141\n",
            "  root at line 15144\n",
            "  root at line 15156\n",
            "  root at line 15211\n",
            "  root at line 15318\n",
            "  root at line 15496\n",
            "  root at line 15811\n",
            "  root at line 15857\n",
            "  root at line 15883\n",
            "  root at line 16161\n",
            "  root at line 16200\n",
            "  root at line 16210\n",
            "  root at line 16253\n",
            "  root at line 16286\n",
            "  root at line 16301\n",
            "  root at line 16326\n",
            "  root at line 16574\n",
            "  root at line 16613\n",
            "  root at line 16618\n",
            "  root at line 16645\n",
            "  root at line 16695\n",
            "  root at line 16751\n",
            "  root at line 16765\n",
            "  root at line 16768\n",
            "warning ./Sst-IRES-Cre_Ai14-188740.03.02.01_657210399_m.swc: more than one tree:\n",
            "  root at line 4\n",
            "  root at line 14504\n",
            "  root at line 14725\n",
            "  root at line 14798\n",
            "  root at line 15141\n",
            "  root at line 15144\n",
            "  root at line 15156\n",
            "  root at line 15211\n",
            "  root at line 15318\n",
            "  root at line 15496\n",
            "  root at line 15811\n",
            "  root at line 15857\n",
            "  root at line 15883\n",
            "  root at line 16161\n",
            "  root at line 16200\n",
            "  root at line 16210\n",
            "  root at line 16253\n",
            "  root at line 16286\n",
            "  root at line 16301\n",
            "  root at line 16326\n",
            "  root at line 16574\n",
            "  root at line 16613\n",
            "  root at line 16618\n",
            "  root at line 16645\n",
            "  root at line 16695\n",
            "  root at line 16751\n",
            "  root at line 16765\n",
            "  root at line 16768\n"
          ]
        }
      ],
      "source": [
        "frequenies = []\n",
        "amps = [-0.1, -0.05, 0, 0.05, 0.1, 0.15, 0.2, 0.25, 0.3]\n",
        "\n",
        "for amp in amps:\n",
        "    h, stim = set_simulation(amp)\n",
        "    v = h.Vector().record(h.soma[0](0.5)._ref_v)\n",
        "    h.finitialize()\n",
        "    h.run()\n",
        "    frequenies.append(count_voltage_events(np.arange(len(v.as_numpy()))[2990:13010], v.as_numpy()[2990:13010]))"
      ]
    },
    {
      "cell_type": "code",
      "execution_count": 287,
      "metadata": {},
      "outputs": [
        {
          "name": "stdout",
          "output_type": "stream",
          "text": [
            "-0.1: 0\n",
            "-0.05: 0\n",
            "0: 0\n",
            "0.05: 8\n",
            "0.1: 29\n",
            "0.15: 47\n",
            "0.2: 59\n",
            "0.25: 71\n",
            "0.3: 73\n"
          ]
        }
      ],
      "source": [
        "for a, f in zip(amps, frequenies):\n",
        "    print(f\"{a}: {f}\")"
      ]
    },
    {
      "cell_type": "code",
      "execution_count": null,
      "metadata": {},
      "outputs": [
        {
          "data": {
            "text/plain": [
              "[<matplotlib.lines.Line2D at 0x16ef243a0>]"
            ]
          },
          "execution_count": 288,
          "metadata": {},
          "output_type": "execute_result"
        },
        {
          "data": {
            "image/png": "[encoded data removed]",
            "text/plain": [
              "<Figure size 640x480 with 1 Axes>"
            ]
          },
          "metadata": {},
          "output_type": "display_data"
        }
      ],
      "source": [
        "# Change NaP to shift rheobase\n",
        "# Change SK to change slope\n",
        "plt.plot(amps, frequenies)"
      ]
    },
    {
      "cell_type": "code",
      "execution_count": 266,
      "metadata": {},
      "outputs": [
        {
          "data": {
            "text/plain": [
              "[<matplotlib.lines.Line2D at 0x16ecc0700>]"
            ]
          },
          "execution_count": 266,
          "metadata": {},
          "output_type": "execute_result"
        },
        {
          "data": {
            "image/png": "[encoded data removed]",
            "text/plain": [
              "<Figure size 640x480 with 1 Axes>"
            ]
          },
          "metadata": {},
          "output_type": "display_data"
        }
      ],
      "source": [
        "plt.plot(v.as_numpy()[::10])"
      ]
    },
    {
      "cell_type": "code",
      "execution_count": null,
      "metadata": {},
      "outputs": [],
      "source": []
    }
  ],
  "metadata": {
    "colab": {
      "provenance": []
    },
    "kernelspec": {
      "display_name": "simulations",
      "language": "python",
      "name": "python3"
    },
    "language_info": {
      "codemirror_mode": {
        "name": "ipython",
        "version": 3
      },
      "file_extension": ".py",
      "mimetype": "text/x-python",
      "name": "python",
      "nbconvert_exporter": "python",
      "pygments_lexer": "ipython3",
      "version": "3.10.13"
    }
  },
  "nbformat": 4,
  "nbformat_minor": 0
}
