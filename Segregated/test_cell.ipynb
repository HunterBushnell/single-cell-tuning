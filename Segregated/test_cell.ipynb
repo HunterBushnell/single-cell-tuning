{
  "cells": [
    {
      "cell_type": "markdown",
      "metadata": {
        "id": "wj5V_SKWdn8R"
      },
      "source": [
        "# Run cells from AllenDB"
      ]
    },
    {
      "cell_type": "code",
      "source": [
        "!pip install --upgrade numpy==1.24.4 pandas==2.2.2 scipy==1.11.3> /dev/null 2>&1\n",
        "\n",
        "import os\n",
        "os.kill(os.getpid(), 9)#restart so the above packages can be used"
      ],
      "metadata": {
        "id": "CcQJ9SLPdozc"
      },
      "execution_count": null,
      "outputs": []
    },
    {
      "cell_type": "markdown",
      "source": [
        "#after the above cell has restarted the session, run all below"
      ],
      "metadata": {
        "id": "beVEtCuIRejo"
      }
    },
    {
      "cell_type": "code",
      "execution_count": 1,
      "metadata": {
        "id": "ni3ndt_-kYPm"
      },
      "outputs": [],
      "source": [
        "# If running in Colab\n",
        "!pip install --upgrade pip2 > /dev/null 2>&1\n",
        "!pip install --quiet allensdk neuron > /dev/null 2>&1\n",
        "!git clone -b release_candidate https://github.com/V-Marco/ACT.git > /dev/null 2>&1"
      ]
    },
    {
      "cell_type": "code",
      "execution_count": 2,
      "metadata": {
        "id": "Fg6QlbRJvcha"
      },
      "outputs": [],
      "source": [
        "from allensdk.model.biophys_sim.config import Config\n",
        "from allensdk.model.biophysical.utils import Utils\n",
        "import os\n",
        "import json\n",
        "import matplotlib.pyplot as plt\n",
        "import numpy as np\n",
        "import sys\n",
        "sys.path.append(\"ACT\")\n",
        "from act.passive import ACTPassiveModule"
      ]
    },
    {
      "cell_type": "markdown",
      "source": [
        "#define constants"
      ],
      "metadata": {
        "id": "0Gu2U1vURE0f"
      }
    },
    {
      "cell_type": "code",
      "source": [
        "# Mouse L2/3 SST (Som) cell\n",
        "# http://celltypes.brain-map.org/mouse/experiment/electrophysiology/476686112\n",
        "specimen_id = 476686112\n",
        "model_type = 'perisomatic'#or 'all active'\n",
        "work_dir = 'OriginalFromAllenDB'"
      ],
      "metadata": {
        "id": "BVCtvRNcRG6v"
      },
      "execution_count": 3,
      "outputs": []
    },
    {
      "cell_type": "markdown",
      "source": [
        "Download the cell"
      ],
      "metadata": {
        "id": "hLtoKzYFPS83"
      }
    },
    {
      "cell_type": "code",
      "source": [
        "!pip install --quiet allensdk neuron"
      ],
      "metadata": {
        "id": "fgshWkESPSSp"
      },
      "execution_count": 4,
      "outputs": []
    },
    {
      "cell_type": "code",
      "source": [
        "from allensdk.api.queries.biophysical_api import BiophysicalApi\n",
        "from allensdk.model.biophys_sim.config import Config\n",
        "from allensdk.model.biophysical.utils import Utils"
      ],
      "metadata": {
        "id": "QTxai_mWPSVO"
      },
      "execution_count": 5,
      "outputs": []
    },
    {
      "cell_type": "code",
      "source": [
        "#get the model id\n",
        "\n",
        "bp = BiophysicalApi()#using AllenDB's API\n",
        "models = bp.get_neuronal_models(specimen_id)\n",
        "\n",
        "for model in models:\n",
        "  if model_type in model['name'].lower():\n",
        "    print(f\"model id = {model['id']}\\n\")\n",
        "    model_id = model['id']\n",
        "models"
      ],
      "metadata": {
        "colab": {
          "base_uri": "https://localhost:8080/"
        },
        "id": "70jAoqLNPSXw",
        "outputId": "bc305a22-d6a8-4f15-841b-5c97f95c8cab"
      },
      "execution_count": 6,
      "outputs": [
        {
          "output_type": "stream",
          "name": "stdout",
          "text": [
            "model id = 477878284\n",
            "\n"
          ]
        },
        {
          "output_type": "execute_result",
          "data": {
            "text/plain": [
              "[{'id': 477878284,\n",
              "  'name': 'Biophysical - perisomatic_Sst-IRES-Cre;Ai14-188740.03.02.01',\n",
              "  'neuron_reconstruction_id': 491119369,\n",
              "  'neuronal_model_template_id': 329230710,\n",
              "  'specimen_id': 476686112},\n",
              " {'id': 497232660,\n",
              "  'name': 'Biophysical - all active_Sst-IRES-Cre;Ai14-188740.03.02.01',\n",
              "  'neuron_reconstruction_id': 491119369,\n",
              "  'neuronal_model_template_id': 491455321,\n",
              "  'specimen_id': 476686112}]"
            ]
          },
          "metadata": {},
          "execution_count": 6
        }
      ]
    },
    {
      "cell_type": "code",
      "source": [
        "# Download the cell\n",
        "bp.cache_stimulus = False # Change to False to not download the large stimulus NWB file\n",
        "bp.cache_data(model_id, working_directory = work_dir )\n",
        "os.chdir(work_dir)"
      ],
      "metadata": {
        "collapsed": true,
        "colab": {
          "base_uri": "https://localhost:8080/"
        },
        "id": "QpHxmwLOMwld",
        "outputId": "da162bfd-5f7f-43a8-fbe5-a80e9a77479c"
      },
      "execution_count": 7,
      "outputs": [
        {
          "output_type": "stream",
          "name": "stderr",
          "text": [
            "2025-05-02 01:40:09,223 allensdk.api.api.retrieve_file_over_http INFO     Downloading URL: http://api.brain-map.org/api/v2/well_known_file_download/657210401\n",
            "INFO:allensdk.api.api.retrieve_file_over_http:Downloading URL: http://api.brain-map.org/api/v2/well_known_file_download/657210401\n",
            "2025-05-02 01:40:09,531 allensdk.api.api.retrieve_file_over_http INFO     Downloading URL: http://api.brain-map.org/api/v2/well_known_file_download/657210404\n",
            "INFO:allensdk.api.api.retrieve_file_over_http:Downloading URL: http://api.brain-map.org/api/v2/well_known_file_download/657210404\n",
            "2025-05-02 01:40:09,666 allensdk.api.api.retrieve_file_over_http INFO     Downloading URL: http://api.brain-map.org/api/v2/well_known_file_download/395337293\n",
            "INFO:allensdk.api.api.retrieve_file_over_http:Downloading URL: http://api.brain-map.org/api/v2/well_known_file_download/395337293\n",
            "2025-05-02 01:40:09,826 allensdk.api.api.retrieve_file_over_http INFO     Downloading URL: http://api.brain-map.org/api/v2/well_known_file_download/395337054\n",
            "INFO:allensdk.api.api.retrieve_file_over_http:Downloading URL: http://api.brain-map.org/api/v2/well_known_file_download/395337054\n",
            "2025-05-02 01:40:09,950 allensdk.api.api.retrieve_file_over_http INFO     Downloading URL: http://api.brain-map.org/api/v2/well_known_file_download/395337225\n",
            "INFO:allensdk.api.api.retrieve_file_over_http:Downloading URL: http://api.brain-map.org/api/v2/well_known_file_download/395337225\n",
            "2025-05-02 01:40:10,060 allensdk.api.api.retrieve_file_over_http INFO     Downloading URL: http://api.brain-map.org/api/v2/well_known_file_download/395337019\n",
            "INFO:allensdk.api.api.retrieve_file_over_http:Downloading URL: http://api.brain-map.org/api/v2/well_known_file_download/395337019\n",
            "2025-05-02 01:40:10,175 allensdk.api.api.retrieve_file_over_http INFO     Downloading URL: http://api.brain-map.org/api/v2/well_known_file_download/395337003\n",
            "INFO:allensdk.api.api.retrieve_file_over_http:Downloading URL: http://api.brain-map.org/api/v2/well_known_file_download/395337003\n",
            "2025-05-02 01:40:10,306 allensdk.api.api.retrieve_file_over_http INFO     Downloading URL: http://api.brain-map.org/api/v2/well_known_file_download/395337050\n",
            "INFO:allensdk.api.api.retrieve_file_over_http:Downloading URL: http://api.brain-map.org/api/v2/well_known_file_download/395337050\n",
            "2025-05-02 01:40:10,410 allensdk.api.api.retrieve_file_over_http INFO     Downloading URL: http://api.brain-map.org/api/v2/well_known_file_download/395337042\n",
            "INFO:allensdk.api.api.retrieve_file_over_http:Downloading URL: http://api.brain-map.org/api/v2/well_known_file_download/395337042\n",
            "2025-05-02 01:40:10,513 allensdk.api.api.retrieve_file_over_http INFO     Downloading URL: http://api.brain-map.org/api/v2/well_known_file_download/395337011\n",
            "INFO:allensdk.api.api.retrieve_file_over_http:Downloading URL: http://api.brain-map.org/api/v2/well_known_file_download/395337011\n",
            "2025-05-02 01:40:10,601 allensdk.api.api.retrieve_file_over_http INFO     Downloading URL: http://api.brain-map.org/api/v2/well_known_file_download/395337046\n",
            "INFO:allensdk.api.api.retrieve_file_over_http:Downloading URL: http://api.brain-map.org/api/v2/well_known_file_download/395337046\n",
            "2025-05-02 01:40:10,735 allensdk.api.api.retrieve_file_over_http INFO     Downloading URL: http://api.brain-map.org/api/v2/well_known_file_download/395337015\n",
            "INFO:allensdk.api.api.retrieve_file_over_http:Downloading URL: http://api.brain-map.org/api/v2/well_known_file_download/395337015\n",
            "2025-05-02 01:40:10,869 allensdk.api.api.retrieve_file_over_http INFO     Downloading URL: http://api.brain-map.org/api/v2/well_known_file_download/395337066\n",
            "INFO:allensdk.api.api.retrieve_file_over_http:Downloading URL: http://api.brain-map.org/api/v2/well_known_file_download/395337066\n",
            "2025-05-02 01:40:11,025 allensdk.api.api.retrieve_file_over_http INFO     Downloading URL: http://api.brain-map.org/api/v2/well_known_file_download/464138096\n",
            "INFO:allensdk.api.api.retrieve_file_over_http:Downloading URL: http://api.brain-map.org/api/v2/well_known_file_download/464138096\n",
            "2025-05-02 01:40:11,140 allensdk.api.api.retrieve_file_over_http INFO     Downloading URL: http://api.brain-map.org/api/v2/well_known_file_download/395337007\n",
            "INFO:allensdk.api.api.retrieve_file_over_http:Downloading URL: http://api.brain-map.org/api/v2/well_known_file_download/395337007\n",
            "2025-05-02 01:40:11,262 allensdk.api.api.retrieve_file_over_http INFO     Downloading URL: http://api.brain-map.org/api/v2/well_known_file_download/395337062\n",
            "INFO:allensdk.api.api.retrieve_file_over_http:Downloading URL: http://api.brain-map.org/api/v2/well_known_file_download/395337062\n",
            "2025-05-02 01:40:11,433 allensdk.api.api.retrieve_file_over_http INFO     Downloading URL: http://api.brain-map.org/api/v2/well_known_file_download/491113425\n",
            "INFO:allensdk.api.api.retrieve_file_over_http:Downloading URL: http://api.brain-map.org/api/v2/well_known_file_download/491113425\n",
            "2025-05-02 01:40:11,572 allensdk.api.api.retrieve_file_over_http INFO     Downloading URL: http://api.brain-map.org/api/v2/well_known_file_download/395337070\n",
            "INFO:allensdk.api.api.retrieve_file_over_http:Downloading URL: http://api.brain-map.org/api/v2/well_known_file_download/395337070\n",
            "2025-05-02 01:40:11,692 allensdk.api.api.retrieve_file_over_http INFO     Downloading URL: http://api.brain-map.org/api/v2/well_known_file_download/497236694\n",
            "INFO:allensdk.api.api.retrieve_file_over_http:Downloading URL: http://api.brain-map.org/api/v2/well_known_file_download/497236694\n"
          ]
        }
      ]
    },
    {
      "cell_type": "code",
      "execution_count": 8,
      "metadata": {
        "id": "ohqoZc7OotdZ"
      },
      "outputs": [],
      "source": [
        "# Compile the modfiles\n",
        "!nrnivmodl modfiles > /dev/null 2>&1"
      ]
    },
    {
      "cell_type": "markdown",
      "metadata": {
        "id": "y2VH-bGEdn8T"
      },
      "source": [
        "## Build the cell"
      ]
    },
    {
      "cell_type": "markdown",
      "metadata": {
        "id": "pGmLIqlFdn8T"
      },
      "source": [
        "**NOTE:** Control the soma area in the `build_cell` function below."
      ]
    },
    {
      "cell_type": "code",
      "execution_count": 9,
      "metadata": {
        "id": "c_uh5-8Jdn8U"
      },
      "outputs": [],
      "source": [
        "def build_cell(soma_diam_multiplier = 1,using_hoc=False,hoc_filename=None,cell_name=None):\n",
        "\n",
        "    #suppress output\n",
        "    devnull = open(os.devnull, 'w')\n",
        "    old_stdout, old_stderr = sys.stdout, sys.stderr\n",
        "    sys.stdout = devnull\n",
        "    sys.stderr = devnull\n",
        "    ##\n",
        "\n",
        "    if using_hoc:\n",
        "      from neuron import h\n",
        "      h.load_file(hoc_filename)\n",
        "      return getattr(h, cell_name)()\n",
        "    # Create the h object\n",
        "    description = Config().load('manifest.json')\n",
        "    utils = Utils(description)\n",
        "    h = utils.h\n",
        "    # Convert all \"value\" attributes to floats\n",
        "    for dict in utils.description.data['genome']:\n",
        "        for key, value in dict.items():\n",
        "            if key == 'value': dict[key] = float(value)\n",
        "    # Configure morphology\n",
        "    morphology_path = description.manifest.get_path('MORPHOLOGY')\n",
        "    utils.generate_morphology(morphology_path.encode('ascii', 'ignore'))\n",
        "    utils.load_cell_parameters()\n",
        "    # To match PP\n",
        "    h.soma[0].diam = h.soma[0].diam * soma_diam_multiplier\n",
        "\n",
        "    # Restore stdout/stderr\n",
        "    sys.stdout, sys.stderr = old_stdout, old_stderr\n",
        "    devnull.close()\n",
        "    ##\n",
        "\n",
        "    return h\n",
        "\n",
        "def set_simulation(hoc_object,sim_params, soma_diam_multiplier = 1.0):\n",
        "    from neuron import h\n",
        "    h.load_file(\"stdrun.hoc\")\n",
        "    stim = h.IClamp(hoc_object.soma[0](0.5))\n",
        "    stim.amp = sim_params['stim_amp']\n",
        "    stim.delay = sim_params['stim_delay']\n",
        "    stim.dur = sim_params['stim_dur']\n",
        "    h.tstop = sim_params['h_tstop']\n",
        "    h.dt = sim_params['h_dt']\n",
        "    # h.steps_per_ms = 1 / h.dt\n",
        "    return h, stim"
      ]
    },
    {
      "cell_type": "markdown",
      "source": [
        "#set simulation parameters"
      ],
      "metadata": {
        "id": "HsQ9GzT2bZTY"
      }
    },
    {
      "cell_type": "code",
      "source": [
        "sim_params = {\n",
        "                'stim_amp': -0.1,\n",
        "                'stim_delay': 100,\n",
        "                'stim_dur': 1000,\n",
        "                'h_tstop': 1200,\n",
        "                'h_dt': 0.025\n",
        "                }\n"
      ],
      "metadata": {
        "id": "y4mGz8rlXinq"
      },
      "execution_count": 10,
      "outputs": []
    },
    {
      "cell_type": "markdown",
      "source": [
        "#Morphology"
      ],
      "metadata": {
        "id": "0YCmob0LSdVP"
      }
    },
    {
      "cell_type": "code",
      "source": [
        "using_hoc = False\n",
        "soma_diam_multiplier = 1\n",
        "hobject = build_cell(soma_diam_multiplier,using_hoc)\n",
        "# hobject = build_cell(soma_diam_multiplier)"
      ],
      "metadata": {
        "collapsed": true,
        "id": "VON8LdWXQzMx"
      },
      "execution_count": 11,
      "outputs": []
    },
    {
      "cell_type": "code",
      "source": [
        "print(f\"Soma area: {hobject.soma[0](0.5).area()}\")\n",
        "print(f\"Soma diam: {hobject.soma[0].diam}\")\n",
        "print(f\"Soma L: {hobject.soma[0].L}\")"
      ],
      "metadata": {
        "colab": {
          "base_uri": "https://localhost:8080/"
        },
        "id": "rUgKdauIQ_VL",
        "outputId": "5443b139-3376-4e52-8efb-e60b81d2d7fe"
      },
      "execution_count": 12,
      "outputs": [
        {
          "output_type": "stream",
          "name": "stdout",
          "text": [
            "Soma area: 503.6323076932052\n",
            "Soma diam: 12.661399841308594\n",
            "Soma L: 12.661407470703125\n"
          ]
        }
      ]
    },
    {
      "cell_type": "markdown",
      "metadata": {
        "id": "XMdDg3asdn8U"
      },
      "source": [
        "## Passive properties"
      ]
    },
    {
      "cell_type": "code",
      "source": [
        "# Soma area from the previous cell\n",
        "computed_soma_area = hobject.soma[0](0.5).area() * 1e-8 #(cm2)\n",
        "# User-provided desired properties\n",
        "user_provided_Rin = 195.4 * 10e6 # (to Ohm from MOhm)\n",
        "user_provided_tau = 15.6 * 1e-3 # (to s from ms)\n",
        "user_provided_Vrest = -71 # (mV)\n",
        "spps = ACTPassiveModule.compute_spp(user_provided_Rin, computed_soma_area, user_provided_tau, user_provided_Vrest)\n",
        "print(spps)"
      ],
      "metadata": {
        "colab": {
          "base_uri": "https://localhost:8080/"
        },
        "id": "uGyQD1ijSYvf",
        "outputId": "e6956fa9-9c0c-4d7a-9a44-fcad64633cc2"
      },
      "execution_count": 13,
      "outputs": [
        {
          "output_type": "stream",
          "name": "stdout",
          "text": [
            "SettablePassiveProperties(Cm=1.5852087355778763, g_bar_leak=0.00010161594458832541, e_rev_leak=-71, g_bar_h=None)\n"
          ]
        }
      ]
    },
    {
      "cell_type": "markdown",
      "source": [
        "programmatically change the json"
      ],
      "metadata": {
        "id": "UFTjqR9utamA"
      }
    },
    {
      "cell_type": "code",
      "source": [
        "import json\n",
        "\n",
        "for item in os.listdir():\n",
        "  if item.endswith('_fit.json'):\n",
        "    config_filename = item\n",
        "    print(config_filename)\n",
        "\n",
        "with open(os.path.join(config_filename),'r') as file:\n",
        "    data = json.load(file)\n",
        "\n",
        "#save the original data\n",
        "original_fit = {\n",
        "                'cm':None,\n",
        "                'g_pas':None,\n",
        "                'cm': None,\n",
        "                'e_pas':None\n",
        "                }\n",
        "\n",
        "for item in data['genome']:\n",
        "\n",
        "  if item['name'] == 'g_pas':\n",
        "    original_fit['g_pas'] = item['value']\n",
        "\n",
        "  if item['name'] == 'cm':\n",
        "    original_fit['cm'] = item['value']\n",
        "\n",
        "\n",
        "for item in data['passive'][0]['cm']:\n",
        "  original_fit['cm'] = item['cm']\n",
        "\n",
        "original_fit['e_pas'] = data['passive'][0]['e_pas']\n",
        "\n",
        "#set new parameters and choose new or old fit for the _fit.json file\n",
        "new_fit = {\n",
        "            'cm':spps.Cm,\n",
        "            'g_pas':spps.g_bar_leak,\n",
        "            'cm': spps.Cm,\n",
        "            'e_pas':spps.e_rev_leak\n",
        "            }\n"
      ],
      "metadata": {
        "colab": {
          "base_uri": "https://localhost:8080/"
        },
        "id": "s9qpHN6zT4Ne",
        "outputId": "b799e47b-6bd6-4f08-8ac4-64ac8ce5c67c"
      },
      "execution_count": 14,
      "outputs": [
        {
          "output_type": "stream",
          "name": "stdout",
          "text": [
            "476686112_fit.json\n"
          ]
        }
      ]
    },
    {
      "cell_type": "markdown",
      "source": [
        "choose the spp numbers or the original"
      ],
      "metadata": {
        "id": "k-UZbQ75ti2i"
      }
    },
    {
      "cell_type": "code",
      "source": [
        "###############################\n",
        "chosen_fit = new_fit\n",
        "#################################\n",
        "for item in data['passive'][0]['cm']:\n",
        "  item['cm'] = chosen_fit['cm']\n",
        "\n",
        "\n",
        "data['passive'][0]['e_pas'] = chosen_fit['e_pas']\n",
        "\n",
        "for item in data['genome']:\n",
        "\n",
        "  if item['name'] == 'g_pas':\n",
        "    item['value'] = chosen_fit['g_pas']\n",
        "\n",
        "  if item['name'] == 'cm':\n",
        "    item['value'] = chosen_fit['cm']\n",
        "\n",
        "with open(config_filename, 'w') as file:\n",
        "    json.dump(data, file, indent=4)"
      ],
      "metadata": {
        "id": "viIIw23EtQOm"
      },
      "execution_count": 23,
      "outputs": []
    },
    {
      "cell_type": "markdown",
      "source": [
        "#run the simulation"
      ],
      "metadata": {
        "id": "t8v1LD7tiyRV"
      }
    },
    {
      "cell_type": "code",
      "source": [
        "# sim_params['stim_amp'] = 0.1\n",
        "\n",
        "using_hoc = False\n",
        "soma_diam_multiplier = 1\n",
        "hobject = build_cell(soma_diam_multiplier,using_hoc)#rebuild the cell to make sure the set_simulation() is using the correct hobj\n",
        "\n",
        "\n",
        "h, stim = set_simulation(hobject,sim_params)\n",
        "v = h.Vector().record(hobject.soma[0](0.5)._ref_v)\n",
        "h.finitialize()\n",
        "h.run()\n",
        "V = v.as_numpy()\n",
        "T = np.arange(0,h.tstop+h.dt,h.dt)\n",
        "plt.plot(T,V)\n",
        "plt.show()"
      ],
      "metadata": {
        "colab": {
          "base_uri": "https://localhost:8080/",
          "height": 430
        },
        "id": "OzknfkcOWJ8r",
        "outputId": "43ba3e6e-c0ab-4301-94bd-77ff4a02724d"
      },
      "execution_count": 24,
      "outputs": [
        {
          "output_type": "display_data",
          "data": {
            "text/plain": [
              "<Figure size 640x480 with 1 Axes>"
            ],
            "image/png": "[encoded data removed]"
          },
          "metadata": {}
        }
      ]
    },
    {
      "cell_type": "code",
      "execution_count": 25,
      "metadata": {
        "id": "LghqBV23dn8V",
        "outputId": "6bfeb71b-4c31-44f2-b685-1f2194c04df1",
        "colab": {
          "base_uri": "https://localhost:8080/"
        }
      },
      "outputs": [
        {
          "output_type": "stream",
          "name": "stdout",
          "text": [
            "GettablePassiveProperties(R_in=231.33298179751492, tau1=8.35, tau2=971.4250000000001, sag_ratio=1.0366001579094744, V_rest=-70.45206401772245)\n",
            "V-rest: -75.08537713836441\n"
          ]
        }
      ],
      "source": [
        "print(ACTPassiveModule.compute_gpp(v.as_numpy(), h.dt, sim_params['stim_delay'], h.tstop, sim_params['stim_amp']))\n",
        "print(f\"V-rest: {v.as_numpy()[300]}\")"
      ]
    },
    {
      "cell_type": "markdown",
      "metadata": {
        "id": "bXj_B2M4dn8V"
      },
      "source": [
        "## FI-Curve"
      ]
    },
    {
      "cell_type": "code",
      "execution_count": 26,
      "metadata": {
        "id": "dLc-klLQdn8V"
      },
      "outputs": [],
      "source": [
        "def count_voltage_events(t, v):\n",
        "    \"\"\"\n",
        "    Counts the number of times the voltage goes above -20 mV and the slope changes from positive to negative.\n",
        "\n",
        "    Args:\n",
        "        t: A NumPy array of time points.\n",
        "        v: A NumPy array of voltage values.\n",
        "\n",
        "    Returns:\n",
        "        The number of events.\n",
        "    \"\"\"\n",
        "\n",
        "    # Calculate the slope of the voltage\n",
        "    slope = np.diff(v)\n",
        "\n",
        "    # Find the indices where the voltage is above -20 mV\n",
        "    above_threshold_indices = np.where(v[:-1] > -20)[0]\n",
        "\n",
        "    # Find the indices where the slope changes from positive to negative\n",
        "    positive_to_negative_indices = np.where((slope[:-1] > 0) & (slope[1:] < 0))[0]\n",
        "\n",
        "    # Find the intersection of the two sets of indices\n",
        "    event_indices = np.intersect1d(above_threshold_indices, positive_to_negative_indices)\n",
        "\n",
        "    return len(event_indices)"
      ]
    },
    {
      "cell_type": "code",
      "execution_count": 27,
      "metadata": {
        "id": "fx2SSTC5dn8W"
      },
      "outputs": [],
      "source": [
        "frequenies = []\n",
        "amps = [-0.1, -0.05, 0, 0.05, 0.1, 0.15, 0.2, 0.25, 0.3]\n",
        "\n",
        "start_idx = int(sim_params['stim_delay']/sim_params['h_dt'])\n",
        "end_idx = int(sim_params['stim_dur']/sim_params['h_dt'])\n",
        "\n",
        "for amp in amps:\n",
        "    h, stim = set_simulation(hobject,sim_params)\n",
        "    v = h.Vector().record(h.soma[0](0.5)._ref_v)\n",
        "    h.finitialize()\n",
        "    h.run()\n",
        "    frequenies.append(count_voltage_events(np.arange(len(v.as_numpy()))[start_idx:end_idx], v.as_numpy()[start_idx:end_idx]))"
      ]
    },
    {
      "cell_type": "code",
      "source": [
        "spikes = count_voltage_events(np.arange(len(v.as_numpy()))[start_idx:end_idx], v.as_numpy()[start_idx:end_idx])\n",
        "if spikes:\n",
        "  freq = spikes/(len(spikes)/1000)\n",
        "  print(f\"Frequency: {freq}\")\n",
        "else:\n",
        "  print(\"No spikes\")"
      ],
      "metadata": {
        "colab": {
          "base_uri": "https://localhost:8080/"
        },
        "id": "YNnA-8q5jiBb",
        "outputId": "783e5b4d-0282-410a-bc25-b90f95cb723f"
      },
      "execution_count": 28,
      "outputs": [
        {
          "output_type": "stream",
          "name": "stdout",
          "text": [
            "No spikes\n"
          ]
        }
      ]
    },
    {
      "cell_type": "code",
      "execution_count": 29,
      "metadata": {
        "id": "NgMVPPg3dn8W",
        "outputId": "ba601df1-00ba-4924-fce0-b3ddd6f7259f",
        "colab": {
          "base_uri": "https://localhost:8080/"
        }
      },
      "outputs": [
        {
          "output_type": "stream",
          "name": "stdout",
          "text": [
            "-0.1: 0\n",
            "-0.05: 0\n",
            "0: 0\n",
            "0.05: 0\n",
            "0.1: 0\n",
            "0.15: 0\n",
            "0.2: 0\n",
            "0.25: 0\n",
            "0.3: 0\n"
          ]
        }
      ],
      "source": [
        "for a, f in zip(amps, frequenies):\n",
        "    print(f\"{a}: {f}\")"
      ]
    },
    {
      "cell_type": "code",
      "execution_count": 30,
      "metadata": {
        "id": "6Ur37iRedn8W",
        "outputId": "78a9b2d3-a1e7-471b-b565-0c9bce8f69cd",
        "colab": {
          "base_uri": "https://localhost:8080/",
          "height": 448
        }
      },
      "outputs": [
        {
          "output_type": "execute_result",
          "data": {
            "text/plain": [
              "[<matplotlib.lines.Line2D at 0x7bcdffed3610>]"
            ]
          },
          "metadata": {},
          "execution_count": 30
        },
        {
          "output_type": "display_data",
          "data": {
            "text/plain": [
              "<Figure size 640x480 with 1 Axes>"
            ],
            "image/png": "[encoded data removed]"
          },
          "metadata": {}
        }
      ],
      "source": [
        "# Change NaP to shift rheobase\n",
        "# Change SK to change slope\n",
        "plt.plot(amps, frequenies)"
      ]
    }
  ],
  "metadata": {
    "colab": {
      "provenance": []
    },
    "kernelspec": {
      "display_name": "simulations",
      "language": "python",
      "name": "python3"
    },
    "language_info": {
      "codemirror_mode": {
        "name": "ipython",
        "version": 3
      },
      "file_extension": ".py",
      "mimetype": "text/x-python",
      "name": "python",
      "nbconvert_exporter": "python",
      "pygments_lexer": "ipython3",
      "version": "3.10.13"
    }
  },
  "nbformat": 4,
  "nbformat_minor": 0
}