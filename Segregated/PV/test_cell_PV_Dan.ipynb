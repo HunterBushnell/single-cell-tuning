{
  "cells": [
    {
      "cell_type": "markdown",
      "metadata": {
        "id": "wj5V_SKWdn8R"
      },
      "source": [
        "# Run cells from AllenDB"
      ]
    },
    {
      "cell_type": "code",
      "execution_count": 15,
      "metadata": {
        "id": "CcQJ9SLPdozc"
      },
      "outputs": [
        {
          "name": "stdout",
          "output_type": "stream",
          "text": [
            "shell-init: error retrieving current directory: getcwd: cannot access parent directories: No such file or directory\n"
          ]
        },
        {
          "ename": "",
          "evalue": "",
          "output_type": "error",
          "traceback": [
            "\u001b[1;31mThe Kernel crashed while executing code in the current cell or a previous cell. \n",
            "\u001b[1;31mPlease review the code in the cell(s) to identify a possible cause of the failure. \n",
            "\u001b[1;31mClick <a href='https://aka.ms/vscodeJupyterKernelCrash'>here</a> for more info. \n",
            "\u001b[1;31mView Jupyter <a href='command:jupyter.viewOutput'>log</a> for further details."
          ]
        }
      ],
      "source": [
        "!pip install --upgrade numpy==1.24.4 pandas==2.2.2 scipy==1.11.3> /dev/null 2>&1\n",
        "\n",
        "import os\n",
        "os.kill(os.getpid(), 9)#restart so the above packages can be used"
      ]
    },
    {
      "cell_type": "markdown",
      "metadata": {
        "id": "beVEtCuIRejo"
      },
      "source": [
        "#after the above cell has restarted the session, run all below"
      ]
    },
    {
      "cell_type": "markdown",
      "metadata": {
        "id": "0Gu2U1vURE0f"
      },
      "source": [
        "#choose specimen id and model type"
      ]
    },
    {
      "cell_type": "code",
      "execution_count": 1,
      "metadata": {
        "id": "BVCtvRNcRG6v"
      },
      "outputs": [],
      "source": [
        "# Mouse L2/3 PV cell\n",
        "# https://celltypes.brain-map.org/experiment/electrophysiology/484635029\n",
        "specimen_id = 484635029\n",
        "\n",
        "model_type = 'perisomatic'#or 'all active'\n",
        "work_dir = 'OriginalFromAllenDB'"
      ]
    },
    {
      "cell_type": "code",
      "execution_count": 2,
      "metadata": {
        "id": "ni3ndt_-kYPm"
      },
      "outputs": [],
      "source": [
        "# If running in Colab\n",
        "!pip install --upgrade pip2 > /dev/null 2>&1\n",
        "!pip install --quiet allensdk neuron > /dev/null 2>&1\n",
        "!git clone -b release_candidate https://github.com/V-Marco/ACT.git > /dev/null 2>&1"
      ]
    },
    {
      "cell_type": "code",
      "execution_count": 3,
      "metadata": {
        "id": "Fg6QlbRJvcha"
      },
      "outputs": [
        {
          "name": "stderr",
          "output_type": "stream",
          "text": [
            "/home/hrbncv/miniconda3/envs/BMTK/lib/python3.9/site-packages/torch/__init__.py:1240: UserWarning: torch.set_default_tensor_type() is deprecated as of PyTorch 2.1, please use torch.set_default_dtype() and torch.set_default_device() as alternatives. (Triggered internally at /pytorch/torch/csrc/tensor/python_tensor.cpp:434.)\n",
            "  _C._set_default_tensor_type(t)\n"
          ]
        }
      ],
      "source": [
        "from allensdk.model.biophys_sim.config import Config\n",
        "from allensdk.model.biophysical.utils import Utils\n",
        "import os\n",
        "import json\n",
        "import matplotlib.pyplot as plt\n",
        "import numpy as np\n",
        "import sys\n",
        "sys.path.append(\"ACT\")\n",
        "from act.passive import ACTPassiveModule"
      ]
    },
    {
      "cell_type": "code",
      "execution_count": 4,
      "metadata": {
        "id": "7APVqlp-G-hw"
      },
      "outputs": [],
      "source": [
        "!pip install --quiet allensdk neuron"
      ]
    },
    {
      "cell_type": "code",
      "execution_count": 5,
      "metadata": {
        "id": "ogrbnkqXG_JM"
      },
      "outputs": [],
      "source": [
        "from allensdk.api.queries.biophysical_api import BiophysicalApi\n",
        "from allensdk.model.biophys_sim.config import Config\n",
        "from allensdk.model.biophysical.utils import Utils"
      ]
    },
    {
      "cell_type": "markdown",
      "metadata": {
        "id": "hLtoKzYFPS83"
      },
      "source": [
        "#Download the cell -  if using HOC: upload the hoc template to the working directory and modfiles into a folder named 'modfiles' and skip to 'Build the Cell' then 'Simulation Parameters'"
      ]
    },
    {
      "cell_type": "markdown",
      "metadata": {
        "id": "zoN2RvxqW5yk"
      },
      "source": [
        "#Also if using hoc, double check parameters every time build_cell() is used"
      ]
    },
    {
      "cell_type": "code",
      "execution_count": 6,
      "metadata": {
        "colab": {
          "base_uri": "https://localhost:8080/"
        },
        "id": "70jAoqLNPSXw",
        "outputId": "fdc8741b-6311-43f5-db38-acf40cf56a55"
      },
      "outputs": [
        {
          "name": "stdout",
          "output_type": "stream",
          "text": [
            "model id = 485602029\n",
            "\n"
          ]
        },
        {
          "data": {
            "text/plain": [
              "[{'id': 485602029,\n",
              "  'name': 'Biophysical - perisomatic_Pvalb-IRES-Cre;Ai14-201791.05.01.01',\n",
              "  'neuron_reconstruction_id': 496079599,\n",
              "  'neuronal_model_template_id': 329230710,\n",
              "  'specimen_id': 484635029},\n",
              " {'id': 496538965,\n",
              "  'name': 'Biophysical - all active_Pvalb-IRES-Cre;Ai14-201791.05.01.01',\n",
              "  'neuron_reconstruction_id': 496079599,\n",
              "  'neuronal_model_template_id': 491455321,\n",
              "  'specimen_id': 484635029}]"
            ]
          },
          "execution_count": 6,
          "metadata": {},
          "output_type": "execute_result"
        }
      ],
      "source": [
        "#get the model id\n",
        "\n",
        "bp = BiophysicalApi()#using AllenDB's API\n",
        "models = bp.get_neuronal_models(specimen_id)\n",
        "\n",
        "for model in models:\n",
        "  if model_type in model['name'].lower():\n",
        "    print(f\"model id = {model['id']}\\n\")\n",
        "    model_id = model['id']\n",
        "models"
      ]
    },
    {
      "cell_type": "code",
      "execution_count": 7,
      "metadata": {
        "colab": {
          "base_uri": "https://localhost:8080/"
        },
        "collapsed": true,
        "id": "QpHxmwLOMwld",
        "outputId": "50c35a08-9ab7-49f3-f7da-5a19f7e181e4"
      },
      "outputs": [
        {
          "name": "stderr",
          "output_type": "stream",
          "text": [
            "2025-05-28 18:10:02,404 allensdk.api.api.retrieve_file_over_http INFO     Downloading URL: http://api.brain-map.org/api/v2/well_known_file_download/496079601\n",
            "2025-05-28 18:10:02,698 allensdk.api.api.retrieve_file_over_http INFO     Downloading URL: http://api.brain-map.org/api/v2/well_known_file_download/496605128\n",
            "2025-05-28 18:10:02,878 allensdk.api.api.retrieve_file_over_http INFO     Downloading URL: http://api.brain-map.org/api/v2/well_known_file_download/395337293\n",
            "2025-05-28 18:10:03,065 allensdk.api.api.retrieve_file_over_http INFO     Downloading URL: http://api.brain-map.org/api/v2/well_known_file_download/395337054\n",
            "2025-05-28 18:10:03,243 allensdk.api.api.retrieve_file_over_http INFO     Downloading URL: http://api.brain-map.org/api/v2/well_known_file_download/395337225\n",
            "2025-05-28 18:10:03,380 allensdk.api.api.retrieve_file_over_http INFO     Downloading URL: http://api.brain-map.org/api/v2/well_known_file_download/395337019\n",
            "2025-05-28 18:10:03,519 allensdk.api.api.retrieve_file_over_http INFO     Downloading URL: http://api.brain-map.org/api/v2/well_known_file_download/395337003\n",
            "2025-05-28 18:10:03,665 allensdk.api.api.retrieve_file_over_http INFO     Downloading URL: http://api.brain-map.org/api/v2/well_known_file_download/395337050\n",
            "2025-05-28 18:10:03,947 allensdk.api.api.retrieve_file_over_http INFO     Downloading URL: http://api.brain-map.org/api/v2/well_known_file_download/395337042\n",
            "2025-05-28 18:10:04,084 allensdk.api.api.retrieve_file_over_http INFO     Downloading URL: http://api.brain-map.org/api/v2/well_known_file_download/395337011\n",
            "2025-05-28 18:10:04,263 allensdk.api.api.retrieve_file_over_http INFO     Downloading URL: http://api.brain-map.org/api/v2/well_known_file_download/395337046\n",
            "2025-05-28 18:10:04,406 allensdk.api.api.retrieve_file_over_http INFO     Downloading URL: http://api.brain-map.org/api/v2/well_known_file_download/395337015\n",
            "2025-05-28 18:10:04,591 allensdk.api.api.retrieve_file_over_http INFO     Downloading URL: http://api.brain-map.org/api/v2/well_known_file_download/395337066\n",
            "2025-05-28 18:10:04,782 allensdk.api.api.retrieve_file_over_http INFO     Downloading URL: http://api.brain-map.org/api/v2/well_known_file_download/464138096\n",
            "2025-05-28 18:10:04,958 allensdk.api.api.retrieve_file_over_http INFO     Downloading URL: http://api.brain-map.org/api/v2/well_known_file_download/395337007\n",
            "2025-05-28 18:10:05,131 allensdk.api.api.retrieve_file_over_http INFO     Downloading URL: http://api.brain-map.org/api/v2/well_known_file_download/395337062\n",
            "2025-05-28 18:10:05,309 allensdk.api.api.retrieve_file_over_http INFO     Downloading URL: http://api.brain-map.org/api/v2/well_known_file_download/491113425\n",
            "2025-05-28 18:10:05,494 allensdk.api.api.retrieve_file_over_http INFO     Downloading URL: http://api.brain-map.org/api/v2/well_known_file_download/395337070\n",
            "2025-05-28 18:10:05,632 allensdk.api.api.retrieve_file_over_http INFO     Downloading URL: http://api.brain-map.org/api/v2/well_known_file_download/496540082\n"
          ]
        }
      ],
      "source": [
        "# Download the cell\n",
        "bp.cache_stimulus = False # Change to False to not download the large stimulus NWB file\n",
        "bp.cache_data(model_id, working_directory = work_dir )\n",
        "os.chdir(work_dir)"
      ]
    },
    {
      "cell_type": "markdown",
      "metadata": {
        "id": "y2VH-bGEdn8T"
      },
      "source": [
        "## Build the cell"
      ]
    },
    {
      "cell_type": "markdown",
      "metadata": {
        "id": "k3-9FwQCZMw7"
      },
      "source": [
        "add vecstim, cpampain.mod,NMDAIN.mod from https://github.com/yzerlaut/pv-sst-dendrites/tree/main/detailed_model and compile"
      ]
    },
    {
      "cell_type": "markdown",
      "metadata": {
        "id": "z-FWSb9QRFsS"
      },
      "source": [
        "if you need additonal modfiles from a public repo, provide a list of the names of the modfiles and a link to the folder"
      ]
    },
    {
      "cell_type": "code",
      "execution_count": 8,
      "metadata": {
        "id": "T2LCXf7LRETV"
      },
      "outputs": [],
      "source": [
        "import requests\n",
        "path = \"https://raw.githubusercontent.com/yzerlaut/pv-sst-dendrites/main/detailed_model/mechanisms\"\n",
        "filenames = ['NMDAIN.mod','vecstim.mod','cpampain.mod', 'gabaain.mod']\n",
        "\n",
        "for filename in filenames:\n",
        "\n",
        "  url = os.path.join(path,filename)\n",
        "  response = requests.get(url)\n",
        "\n",
        "  if response.status_code == 200:\n",
        "      with open(os.path.join('modfiles',filename), 'w') as f:#assuming you are in work_dir and the mechanisms are in a folder called 'modflies'\n",
        "          f.write(response.text)\n",
        "  else:\n",
        "      print(f\"Failed to download file: {response.status_code}\")"
      ]
    },
    {
      "cell_type": "code",
      "execution_count": 9,
      "metadata": {
        "id": "4AnfVUXO8MXO"
      },
      "outputs": [],
      "source": [
        "# Compile the modfiles\n",
        "\n",
        "!nrnivmodl modfiles > /dev/null 2>&1"
      ]
    },
    {
      "cell_type": "code",
      "execution_count": 10,
      "metadata": {
        "id": "Y17foN45FNMK"
      },
      "outputs": [],
      "source": [
        "import sys, os\n",
        "from functools import wraps\n",
        "\n",
        "def suppress_output(fn):\n",
        "    @wraps(fn)\n",
        "    def wrapper(*args, **kwargs):\n",
        "        devnull = open(os.devnull, 'w')\n",
        "        old_stdout, old_stderr = sys.stdout, sys.stderr\n",
        "        sys.stdout = sys.stderr = devnull\n",
        "        try:\n",
        "            return fn(*args, **kwargs)\n",
        "        finally:\n",
        "            sys.stdout, sys.stderr = old_stdout, old_stderr\n",
        "            devnull.close()\n",
        "    return wrapper"
      ]
    },
    {
      "cell_type": "markdown",
      "metadata": {
        "id": "pGmLIqlFdn8T"
      },
      "source": [
        "**NOTE:** Control the soma area in the `build_cell` function below."
      ]
    },
    {
      "cell_type": "code",
      "execution_count": 11,
      "metadata": {
        "id": "c_uh5-8Jdn8U"
      },
      "outputs": [],
      "source": [
        "@suppress_output\n",
        "def build_cell(soma_diam_multiplier = 1,using_hoc=False,hoc_filename=None,cell_name=None):\n",
        "\n",
        "    if using_hoc:\n",
        "      from neuron import h\n",
        "      h.load_file(hoc_filename)\n",
        "      return getattr(h, cell_name)()\n",
        "    # Create the h object\n",
        "    description = Config().load('manifest.json')\n",
        "    utils = Utils(description)\n",
        "    h = utils.h\n",
        "    # Convert all \"value\" attributes to floats\n",
        "    for dict in utils.description.data['genome']:\n",
        "        for key, value in dict.items():\n",
        "            if key == 'value': dict[key] = float(value)\n",
        "    # Configure morphology\n",
        "    morphology_path = description.manifest.get_path('MORPHOLOGY')\n",
        "    utils.generate_morphology(morphology_path.encode('ascii', 'ignore'))\n",
        "    utils.load_cell_parameters()\n",
        "    # To match PP\n",
        "    h.soma[0].diam = h.soma[0].diam * soma_diam_multiplier\n",
        "\n",
        "    return h\n",
        "\n",
        "def set_simulation(hoc_object,sim_params, soma_diam_multiplier = 1.0):\n",
        "    from neuron import h\n",
        "    h.load_file(\"stdrun.hoc\")\n",
        "    stim = h.IClamp(hoc_object.soma[0](0.5))\n",
        "    stim.amp = sim_params['stim_amp']\n",
        "    stim.delay = sim_params['stim_delay']\n",
        "    stim.dur = sim_params['stim_dur']\n",
        "    h.tstop = sim_params['h_tstop']\n",
        "    h.dt = sim_params['h_dt']\n",
        "    # h.steps_per_ms = 1 / h.dt\n",
        "    return h, stim"
      ]
    },
    {
      "cell_type": "code",
      "execution_count": 12,
      "metadata": {
        "id": "qRbAPN3zDZkD"
      },
      "outputs": [
        {
          "name": "stderr",
          "output_type": "stream",
          "text": [
            "Warning: no DISPLAY environment variable.\n",
            "--No graphics will be displayed.\n"
          ]
        }
      ],
      "source": [
        "\n",
        "soma_diam_multiplier = 1\n",
        "hobject = build_cell(soma_diam_multiplier)\n",
        "#hobject = build_cell(soma_diam_multiplier,using_hoc=True,'HYPO_TEMPLATE.hoc','HYPO')"
      ]
    },
    {
      "cell_type": "code",
      "execution_count": 13,
      "metadata": {
        "collapsed": true,
        "id": "rYkfBWaIhMY6"
      },
      "outputs": [],
      "source": [
        "# for sec in hobject.allsec():\n",
        "#     print(f\"Section: {sec.name()}\")\n",
        "#     psec = sec.psection()\n",
        "#     [print(name) for name in psec['density_mechs']]\n",
        "\n"
      ]
    },
    {
      "cell_type": "markdown",
      "metadata": {
        "id": "0YCmob0LSdVP"
      },
      "source": [
        "#Morphology"
      ]
    },
    {
      "cell_type": "code",
      "execution_count": 13,
      "metadata": {
        "colab": {
          "base_uri": "https://localhost:8080/"
        },
        "id": "rUgKdauIQ_VL",
        "outputId": "607c6f6c-ac67-4ae3-b50c-195c779f83c4"
      },
      "outputs": [
        {
          "name": "stdout",
          "output_type": "stream",
          "text": [
            "Soma area: 669.646002883916\n",
            "Soma diam: 14.599800109863281\n",
            "Soma L: 14.599853515625\n"
          ]
        }
      ],
      "source": [
        "print(f\"Soma area: {hobject.soma[0](0.5).area()}\")\n",
        "print(f\"Soma diam: {hobject.soma[0].diam}\")\n",
        "print(f\"Soma L: {hobject.soma[0].L}\")"
      ]
    },
    {
      "cell_type": "markdown",
      "metadata": {
        "id": "XMdDg3asdn8U"
      },
      "source": [
        "## Passive properties"
      ]
    },
    {
      "cell_type": "code",
      "execution_count": 14,
      "metadata": {
        "colab": {
          "base_uri": "https://localhost:8080/"
        },
        "id": "uGyQD1ijSYvf",
        "outputId": "34541383-cdd2-457e-8b8e-fd0d24288613"
      },
      "outputs": [
        {
          "name": "stdout",
          "output_type": "stream",
          "text": [
            "SettablePassiveProperties(Cm=1.192215484354815, g_bar_leak=7.642406950992403e-05, e_rev_leak=-71, g_bar_h=None)\n"
          ]
        }
      ],
      "source": [
        "# Soma area from the previous cell\n",
        "computed_soma_area = hobject.soma[0](0.5).area() * 1e-8 #(cm2)\n",
        "# User-provided desired properties\n",
        "user_provided_Rin = 195.4 * 10e6 # (to Ohm from MOhm)\n",
        "user_provided_tau = 15.6 * 1e-3 # (to s from ms)\n",
        "user_provided_Vrest = -71 # (mV)\n",
        "spps = ACTPassiveModule.compute_spp(user_provided_Rin, computed_soma_area, user_provided_tau, user_provided_Vrest)\n",
        "print(spps)"
      ]
    },
    {
      "cell_type": "markdown",
      "metadata": {
        "id": "UFTjqR9utamA"
      },
      "source": [
        "#programmatically change the json or change manually"
      ]
    },
    {
      "cell_type": "markdown",
      "metadata": {
        "id": "e1GMk-DLzLM-"
      },
      "source": [
        "if using a hoc file, there is no _fit.json so ignore this section"
      ]
    },
    {
      "cell_type": "code",
      "execution_count": 15,
      "metadata": {
        "colab": {
          "base_uri": "https://localhost:8080/"
        },
        "id": "s9qpHN6zT4Ne",
        "outputId": "619bef51-35fd-4d72-be55-701b161416f3"
      },
      "outputs": [
        {
          "name": "stdout",
          "output_type": "stream",
          "text": [
            "476686112_fit.json\n",
            "484635029_fit.json\n"
          ]
        }
      ],
      "source": [
        "### Change gpas, cm, e_pas\n",
        "\n",
        "import json\n",
        "\n",
        "for item in os.listdir():\n",
        "  if item.endswith('_fit.json'):\n",
        "    config_filename = item\n",
        "    print(config_filename)\n",
        "\n",
        "with open(os.path.join(config_filename),'r') as file:\n",
        "    data = json.load(file)\n",
        "\n",
        "#save the original data\n",
        "original_fit = {\n",
        "                'cm':None,\n",
        "                'g_pas':None,\n",
        "                'e_pas':None\n",
        "                }\n",
        "# data in the passive section\n",
        "for item in data['passive'][0]['cm']:\n",
        "  original_fit['cm'] = item['cm']\n",
        "\n",
        "original_fit['e_pas'] = data['passive'][0]['e_pas']\n",
        "\n",
        "\n",
        "# data in the active \"genome\" section\n",
        "for item in data['genome']:\n",
        "\n",
        "  if item['name'] == 'g_pas':\n",
        "    original_fit['g_pas'] = item['value']\n",
        "\n",
        "  if item['name'] == 'cm':\n",
        "    original_fit['cm'] = item['value']\n",
        "\n",
        "\n",
        "#set new parameters\n",
        "new_fit = {\n",
        "            'cm':spps.Cm,\n",
        "            'g_pas':spps.g_bar_leak,\n",
        "            'e_pas':spps.e_rev_leak\n",
        "            }\n"
      ]
    },
    {
      "cell_type": "markdown",
      "metadata": {
        "id": "k-UZbQ75ti2i"
      },
      "source": [
        "choose the spp numbers or the original"
      ]
    },
    {
      "cell_type": "code",
      "execution_count": 16,
      "metadata": {
        "id": "viIIw23EtQOm"
      },
      "outputs": [],
      "source": [
        "\n",
        "#choose new_fit or original_fit for the _fit.json file\n",
        "###############################\n",
        "chosen_fit = original_fit\n",
        "###############################\n",
        "for item in data['passive'][0]['cm']:\n",
        "  item['cm'] = chosen_fit['cm']\n",
        "\n",
        "data['passive'][0]['e_pas'] = chosen_fit['e_pas']\n",
        "\n",
        "for item in data['genome']:\n",
        "\n",
        "  if item['name'] == 'g_pas':\n",
        "    item['value'] = chosen_fit['g_pas']\n",
        "\n",
        "  if item['name'] == 'cm':\n",
        "    item['value'] = chosen_fit['cm']\n",
        "\n",
        "with open(config_filename, 'w') as file:\n",
        "    json.dump(data, file, indent=4)"
      ]
    },
    {
      "cell_type": "markdown",
      "metadata": {
        "id": "HsQ9GzT2bZTY"
      },
      "source": [
        "#set simulation parameters"
      ]
    },
    {
      "cell_type": "code",
      "execution_count": 17,
      "metadata": {
        "id": "y4mGz8rlXinq"
      },
      "outputs": [],
      "source": [
        "sim_params = {\n",
        "                'stim_amp': -0.1,\n",
        "                'stim_delay': 100,\n",
        "                'stim_dur': 1000,\n",
        "                'h_tstop': 1200,\n",
        "                'h_dt': 0.025\n",
        "                }\n"
      ]
    },
    {
      "cell_type": "markdown",
      "metadata": {
        "id": "t8v1LD7tiyRV"
      },
      "source": [
        "#run the simulation"
      ]
    },
    {
      "cell_type": "code",
      "execution_count": 18,
      "metadata": {
        "id": "IXX03NxhIGrX"
      },
      "outputs": [],
      "source": [
        "def count_voltage_events(t, v):\n",
        "    \"\"\"\n",
        "    Counts the number of times the voltage goes above -20 mV and the slope changes from positive to negative.\n",
        "\n",
        "    Args:\n",
        "        t: A NumPy array of time points.\n",
        "        v: A NumPy array of voltage values.\n",
        "\n",
        "    Returns:\n",
        "        The number of events.\n",
        "    \"\"\"\n",
        "\n",
        "    # Calculate the slope of the voltage\n",
        "    slope = np.diff(v)\n",
        "\n",
        "    # Find the indices where the voltage is above -20 mV\n",
        "    above_threshold_indices = np.where(v[:-1] > -20)[0]\n",
        "\n",
        "    # Find the indices where the slope changes from positive to negative\n",
        "    positive_to_negative_indices = np.where((slope[:-1] > 0) & (slope[1:] < 0))[0]\n",
        "\n",
        "    # Find the intersection of the two sets of indices\n",
        "    event_indices = np.intersect1d(above_threshold_indices, positive_to_negative_indices)\n",
        "\n",
        "    return len(event_indices)"
      ]
    },
    {
      "cell_type": "code",
      "execution_count": 19,
      "metadata": {
        "id": "5IDAmS5nLb3f"
      },
      "outputs": [],
      "source": [
        "#function to get the start and end index of the stim but in the voltage file\n",
        "def get_start_end_idx(sim_params):\n",
        "  start_idx = int(sim_params['stim_delay']/sim_params['h_dt'])\n",
        "  end_idx = int(sim_params['stim_dur']/sim_params['h_dt'])\n",
        "  return start_idx, end_idx"
      ]
    },
    {
      "cell_type": "code",
      "execution_count": 20,
      "metadata": {
        "id": "PQQAvRE3zvnc"
      },
      "outputs": [],
      "source": [
        "#function to calculate the frequency of a voltage trace\n",
        "def get_frequency(v,sim_params):\n",
        "\n",
        "  start_idx,end_idx = get_start_end_idx(sim_params)\n",
        "  spikes = count_voltage_events(np.arange(len(v.as_numpy()))[start_idx:end_idx], v.as_numpy()[start_idx:end_idx])\n",
        "\n",
        "  if spikes> 0:\n",
        "    duration_sec = sim_params['stim_dur'] / 1000.0\n",
        "    freq = spikes / duration_sec\n",
        "    return freq\n",
        "\n",
        "  else:\n",
        "    return 0"
      ]
    },
    {
      "cell_type": "code",
      "execution_count": 21,
      "metadata": {
        "colab": {
          "base_uri": "https://localhost:8080/",
          "height": 470
        },
        "id": "OzknfkcOWJ8r",
        "outputId": "3e455cf1-4652-4728-afed-998ec60bbdca"
      },
      "outputs": [
        {
          "data": {
            "image/png": "[encoded data removed]",
            "text/plain": [
              "<Figure size 640x480 with 1 Axes>"
            ]
          },
          "metadata": {},
          "output_type": "display_data"
        },
        {
          "name": "stdout",
          "output_type": "stream",
          "text": [
            "spike frequency = 0.00 Hz\n"
          ]
        }
      ],
      "source": [
        "#modify simulation parameters if needed\n",
        "sim_params['stim_amp'] = -0.1\n",
        "\n",
        "#rebuild the cell to make sure the set_simulation() is using the correct hobj\n",
        "#if using hoc call with the hoc filename and cell name\n",
        "\n",
        "soma_diam_multiplier = 1\n",
        "hobject = build_cell(soma_diam_multiplier)\n",
        "#hobject = build_cell(soma_diam_multiplier,using_hoc=True,'HYPO_TEMPLATE.hoc','HYPO')\n",
        "\n",
        "# run the simulation\n",
        "h, stim = set_simulation(hobject,sim_params)\n",
        "v = h.Vector().record(hobject.soma[0](0.5)._ref_v)\n",
        "h.finitialize()\n",
        "h.run()\n",
        "\n",
        "#plot the result and display spike frequency\n",
        "V = v.as_numpy()\n",
        "T = np.arange(0,h.tstop+h.dt,h.dt)\n",
        "plt.plot(T,V)\n",
        "plt.title(f\"Vm at {sim_params['stim_amp']} nA\")\n",
        "plt.show()\n",
        "\n",
        "print(f\"spike frequency = {get_frequency(v,sim_params):.2f} Hz\")"
      ]
    },
    {
      "cell_type": "code",
      "execution_count": null,
      "metadata": {},
      "outputs": [],
      "source": [
        "V = v.as_numpy()\n",
        "stim_start = int(sim_params['stim_delay']/h.dt)\n",
        "stim_dur = int(sim_params['stim_dur']/h.dt)\n",
        "stead_state_v = V[stim_start+stim_dur-10]\n",
        "end_of_sag = int(stim_start + stim_dur*0.2)\n",
        "minimum_v = np.min(V[stim_start:stim_start + end_of_sag])\n",
        "sag_ratio = stead_state_v / minimum_v\n",
        "print(f\"Sag ratio: {sag_ratio}\")"
      ]
    },
    {
      "cell_type": "code",
      "execution_count": 22,
      "metadata": {
        "colab": {
          "base_uri": "https://localhost:8080/"
        },
        "id": "LghqBV23dn8V",
        "outputId": "ee5ef5ec-da32-490b-d4b0-9f5621e35615"
      },
      "outputs": [
        {
          "name": "stdout",
          "output_type": "stream",
          "text": [
            "GettablePassiveProperties(R_in=264.4371430527656, tau1=17.275000000000002, tau2=959.625, sag_ratio=1.083804190913104, V_rest=-86.79087240758261)\n",
            "V-rest: -86.78364167291292\n"
          ]
        }
      ],
      "source": [
        "#find Rin, tau, sag ratio, and Vrest\n",
        "\n",
        "print(ACTPassiveModule.compute_gpp(v.as_numpy(), h.dt, sim_params['stim_delay'], h.tstop, sim_params['stim_amp']))\n",
        "print(f\"V-rest: {v.as_numpy()[sim_params['stim_dur']]}\")"
      ]
    },
    {
      "cell_type": "markdown",
      "metadata": {
        "id": "bXj_B2M4dn8V"
      },
      "source": [
        "## FI-Curve"
      ]
    },
    {
      "cell_type": "code",
      "execution_count": 23,
      "metadata": {
        "id": "fx2SSTC5dn8W"
      },
      "outputs": [],
      "source": [
        "#test the cell at multiple frequencies to get an FI curve\n",
        "\n",
        "frequenies = []\n",
        "amps = [-0.1, -0.05, 0, 0.05, 0.1, 0.15, 0.2, 0.25, 0.3]\n",
        "\n",
        "\n",
        "for amp in amps:\n",
        "  #if using hoc call with the hoc filename and cell name\n",
        "    hobject = build_cell(soma_diam_multiplier)\n",
        "    #hobject = build_cell(soma_diam_multiplier,using_hoc=True,'HYPO_TEMPLATE.hoc','HYPO')\n",
        "\n",
        "    sim_params['stim_amp'] = amp\n",
        "    h, stim = set_simulation(hobject,sim_params)\n",
        "    v = h.Vector().record(hobject.soma[0](0.5)._ref_v)\n",
        "    h.finitialize()\n",
        "    h.run()\n",
        "    frequenies.append(get_frequency(v,sim_params))\n"
      ]
    },
    {
      "cell_type": "code",
      "execution_count": 24,
      "metadata": {
        "colab": {
          "base_uri": "https://localhost:8080/"
        },
        "id": "NgMVPPg3dn8W",
        "outputId": "53107c68-9106-41a4-b63a-7d2139483f6e"
      },
      "outputs": [
        {
          "name": "stdout",
          "output_type": "stream",
          "text": [
            "-0.1: 0\n",
            "-0.05: 0\n",
            "0: 0\n",
            "0.05: 0\n",
            "0.1: 0\n",
            "0.15: 0\n",
            "0.2: 0\n",
            "0.25: 1.0\n",
            "0.3: 26.0\n"
          ]
        }
      ],
      "source": [
        "for a, f in zip(amps, frequenies):\n",
        "    print(f\"{a}: {f}\")"
      ]
    },
    {
      "cell_type": "code",
      "execution_count": 25,
      "metadata": {
        "colab": {
          "base_uri": "https://localhost:8080/",
          "height": 472
        },
        "id": "6Ur37iRedn8W",
        "outputId": "291592b2-9fce-478f-c962-e03708c3ab3a"
      },
      "outputs": [
        {
          "data": {
            "image/png": "[encoded data removed]",
            "text/plain": [
              "<Figure size 640x480 with 1 Axes>"
            ]
          },
          "metadata": {},
          "output_type": "display_data"
        }
      ],
      "source": [
        "\n",
        "plt.plot(amps, frequenies)\n",
        "plt.title(\"FI CURVE\")\n",
        "plt.xlabel(\"Stimulus Amplitude (nA)\")\n",
        "plt.ylabel(\"Frequency (Hz)\")\n",
        "plt.show()"
      ]
    },
    {
      "cell_type": "markdown",
      "metadata": {
        "id": "kTvSU2tIwydv"
      },
      "source": [
        "# Find prox and dist synapse sites"
      ]
    },
    {
      "cell_type": "code",
      "execution_count": 26,
      "metadata": {
        "id": "xkOsYYF8w3Oq"
      },
      "outputs": [],
      "source": [
        "proximal_region = [20, 60]#um\n",
        "distal_region = [160,200]"
      ]
    },
    {
      "cell_type": "code",
      "execution_count": 27,
      "metadata": {
        "id": "mvMP32qSw3Rh"
      },
      "outputs": [],
      "source": [
        "hobject = build_cell(soma_diam_multiplier)"
      ]
    },
    {
      "cell_type": "code",
      "execution_count": 28,
      "metadata": {},
      "outputs": [
        {
          "name": "stdout",
          "output_type": "stream",
          "text": [
            "soma[0], 14.599853515625\n",
            "dend[0], 8.086796090405551\n",
            "dend[1], 18.654031712062576\n",
            "dend[2], 27.570241829004168\n",
            "dend[3], 19.84693554818688\n",
            "dend[4], 28.047760633234446\n",
            "dend[5], 17.953914536681744\n",
            "dend[6], 70.03633192439942\n",
            "dend[7], 57.748016154917956\n",
            "dend[8], 49.588976878199674\n",
            "dend[9], 3.997759734576856\n",
            "dend[10], 60.50057647609624\n",
            "dend[11], 32.752490697510936\n",
            "dend[12], 49.39566156096115\n",
            "dend[13], 32.71138715618798\n",
            "dend[14], 57.075571919392935\n",
            "dend[15], 93.98682845442751\n",
            "dend[16], 120.21308048457537\n",
            "dend[17], 29.957287795320898\n",
            "dend[18], 38.225098035254625\n",
            "dend[19], 70.08548722816535\n",
            "dend[20], 60.412896291393665\n",
            "dend[21], 52.88220384445534\n",
            "dend[22], 77.75481003758851\n",
            "dend[23], 74.61933583243109\n",
            "dend[24], 19.68742556334785\n",
            "dend[25], 30.441152206070612\n",
            "dend[26], 26.545450283195258\n",
            "dend[27], 10.299653073794227\n",
            "dend[28], 13.145196947200818\n",
            "dend[29], 120.92447284078138\n",
            "dend[30], 30.806512362298253\n",
            "dend[31], 5.278838593312381\n",
            "dend[32], 56.63006299542606\n",
            "dend[33], 18.561568327122995\n",
            "dend[34], 29.618700350904657\n",
            "dend[35], 20.55104793649596\n",
            "dend[36], 25.03022656251777\n",
            "dend[37], 184.91410311556683\n",
            "dend[38], 42.52484846506278\n",
            "dend[39], 92.91972417688085\n",
            "dend[40], 77.09281396765296\n",
            "axon[0], 30.0\n",
            "axon[1], 30.0\n"
          ]
        }
      ],
      "source": [
        "for sec in hobject.allsec():\n",
        "  print(f\"{sec}, {sec.L}\")"
      ]
    },
    {
      "cell_type": "code",
      "execution_count": 29,
      "metadata": {},
      "outputs": [
        {
          "name": "stdout",
          "output_type": "stream",
          "text": [
            "\n",
            "|-|       soma[0](0-1)\n",
            "  `|       dend[0](0-1)\n",
            "    `|       dend[1](0-1)\n",
            "      `|       dend[2](0-1)\n",
            "      `|       dend[3](0-1)\n",
            "      `|       dend[4](0-1)\n",
            "        `|       dend[5](0-1)\n",
            "        `--|       dend[6](0-1)\n",
            "            `--|       dend[7](0-1)\n",
            "            `--|       dend[8](0-1)\n",
            "    `|       dend[9](0-1)\n",
            "      `--|       dend[10](0-1)\n",
            "          `|       dend[11](0-1)\n",
            "          `--|       dend[12](0-1)\n",
            "      `|       dend[13](0-1)\n",
            "        `--|       dend[14](0-1)\n",
            "            `----|       dend[15](0-1)\n",
            "            `------|       dend[16](0-1)\n",
            "        `|       dend[17](0-1)\n",
            "          `|       dend[18](0-1)\n",
            "            `--|       dend[19](0-1)\n",
            "            `--|       dend[20](0-1)\n",
            "          `--|       dend[21](0-1)\n",
            "  `--|       dend[22](0-1)\n",
            "  `--|       dend[23](0-1)\n",
            "  `|       dend[24](0-1)\n",
            "    `|       dend[25](0-1)\n",
            "      `|       dend[26](0-1)\n",
            "      `|       dend[27](0-1)\n",
            "    `|       dend[28](0-1)\n",
            "      `------|       dend[29](0-1)\n",
            "      `|       dend[30](0-1)\n",
            "  `|       dend[31](0-1)\n",
            "    `--|       dend[32](0-1)\n",
            "        `|       dend[33](0-1)\n",
            "        `|       dend[34](0-1)\n",
            "    `|       dend[35](0-1)\n",
            "  `|       dend[36](0-1)\n",
            "    `--------|       dend[37](0-1)\n",
            "    `--|       dend[38](0-1)\n",
            "        `----|       dend[39](0-1)\n",
            "        `--|       dend[40](0-1)\n",
            "  `|       axon[0](0-1)\n",
            "    `|       axon[1](0-1)\n",
            "\n"
          ]
        },
        {
          "data": {
            "text/plain": [
              "[dend[16], dend[15]]"
            ]
          },
          "execution_count": 29,
          "metadata": {},
          "output_type": "execute_result"
        }
      ],
      "source": [
        "h.topology()\n",
        "hobject.dend[14].children()"
      ]
    },
    {
      "cell_type": "code",
      "execution_count": 35,
      "metadata": {
        "colab": {
          "base_uri": "https://localhost:8080/"
        },
        "id": "061EZDaIw3XV",
        "outputId": "e5f4ec01-4e72-4e65-82b0-d4573d602b28"
      },
      "outputs": [
        {
          "name": "stdout",
          "output_type": "stream",
          "text": [
            "25.03 µm\n",
            "25.03022656251777\n",
            "1\n",
            "\n"
          ]
        }
      ],
      "source": [
        "sec = 36 # 0-9-13-14-16; 36-37\n",
        "h.distance(0, 0.5, sec=hobject.soma[0])\n",
        "obj = hobject.dend[sec]\n",
        "dist = h.distance(obj(1))\n",
        "\n",
        "print(f\"{dist:.2f} µm\")\n",
        "print(obj.L)\n",
        "print(hobject.dend[sec].nseg)\n",
        "print()"
      ]
    },
    {
      "cell_type": "code",
      "execution_count": 34,
      "metadata": {
        "id": "M44juJxq5RLQ"
      },
      "outputs": [],
      "source": [
        "# find the first segment in a branch that is in the prox range, then do the same for distal\n",
        "#dict key is the sec name, the fields are the segment location, the distance from the soma to that seg, and the length of the section\n",
        "h.distance(0, 0.5, sec=hobject.soma[0])\n",
        "\n",
        "proximal_dict = {}\n",
        "distal_dict = {}\n",
        "\n",
        "for child_sec in hobject.soma[0].children():\n",
        "    key = 0\n",
        "    for sec in child_sec.subtree():\n",
        "        for seg in sec:\n",
        "          #because h.distance() returns distance to the section not the segment, and we\n",
        "          #assume identical lengths for the segments, to location of the segment's\n",
        "          #proximal end is h.distance + numseg * seglength\n",
        "\n",
        "            dist = h.distance(sec(0)) + seg.x * sec.L\n",
        "\n",
        "            data = {\n",
        "                \"root\" :child_sec.name(),\n",
        "                \"sec\": sec.name(),\n",
        "                \"seg\": round(seg.x,2),\n",
        "                \"dist\": round(dist,2),\n",
        "                \"L\": round(sec.L,2)\n",
        "                }\n",
        "\n",
        "            key += 1\n",
        "\n",
        "            if proximal_region[0] <= dist <= proximal_region[1]:\n",
        "\n",
        "               proximal_dict[key]  = data\n",
        "\n",
        "\n",
        "            if distal_region[0] <= dist <= distal_region[1]:\n",
        "\n",
        "                distal_dict[key] = data\n",
        "\n"
      ]
    },
    {
      "cell_type": "code",
      "execution_count": 35,
      "metadata": {
        "colab": {
          "base_uri": "https://localhost:8080/"
        },
        "id": "jcB9ilCiqJRB",
        "outputId": "dda4ce9b-1888-415a-d753-e4cb61c963a1"
      },
      "outputs": [
        {
          "name": "stdout",
          "output_type": "stream",
          "text": [
            "{'root': 'dend[22]', 'sec': 'dend[22]', 'seg': 0.5, 'dist': 38.88, 'L': 77.75}\n",
            "{'root': 'dend[0]', 'sec': 'dend[13]', 'seg': 0.5, 'dist': 28.44, 'L': 32.71}\n",
            "{'root': 'dend[36]', 'sec': 'dend[37]', 'seg': 0.06, 'dist': 35.3, 'L': 184.91}\n",
            "{'root': 'dend[36]', 'sec': 'dend[37]', 'seg': 0.17, 'dist': 55.85, 'L': 184.91}\n",
            "{'root': 'dend[0]', 'sec': 'dend[17]', 'seg': 0.5, 'dist': 59.77, 'L': 29.96}\n",
            "{'root': 'dend[24]', 'sec': 'dend[29]', 'seg': 0.21, 'dist': 58.75, 'L': 120.92}\n",
            "{'root': 'dend[24]', 'sec': 'dend[25]', 'seg': 0.5, 'dist': 34.91, 'L': 30.44}\n",
            "{'root': 'dend[24]', 'sec': 'dend[27]', 'seg': 0.5, 'dist': 55.28, 'L': 10.3}\n",
            "{'root': 'dend[0]', 'sec': 'dend[14]', 'seg': 0.17, 'dist': 54.31, 'L': 57.08}\n",
            "{'root': 'dend[0]', 'sec': 'dend[10]', 'seg': 0.17, 'dist': 22.17, 'L': 60.5}\n",
            "{'root': 'dend[0]', 'sec': 'dend[10]', 'seg': 0.5, 'dist': 42.33, 'L': 60.5}\n",
            "{'root': 'dend[0]', 'sec': 'dend[4]', 'seg': 0.5, 'dist': 40.76, 'L': 28.05}\n",
            "{'root': 'dend[0]', 'sec': 'dend[3]', 'seg': 0.5, 'dist': 36.66, 'L': 19.85}\n",
            "{'root': 'dend[0]', 'sec': 'dend[2]', 'seg': 0.5, 'dist': 40.53, 'L': 27.57}\n"
          ]
        }
      ],
      "source": [
        "for key in proximal_dict:\n",
        "  print(proximal_dict[key])"
      ]
    },
    {
      "cell_type": "code",
      "execution_count": 36,
      "metadata": {
        "colab": {
          "base_uri": "https://localhost:8080/"
        },
        "id": "uEyL5fgoqMce",
        "outputId": "1a52f563-244f-4262-9a93-dfa89e7d84b5"
      },
      "outputs": [
        {
          "name": "stdout",
          "output_type": "stream",
          "text": [
            "{'root': 'dend[36]', 'sec': 'dend[37]', 'seg': 0.83, 'dist': 179.13, 'L': 184.91}\n",
            "{'root': 'dend[0]', 'sec': 'dend[16]', 'seg': 0.5, 'dist': 161.98, 'L': 120.21}\n",
            "{'root': 'dend[0]', 'sec': 'dend[20]', 'seg': 0.83, 'dist': 163.32, 'L': 60.41}\n",
            "{'root': 'dend[0]', 'sec': 'dend[19]', 'seg': 0.83, 'dist': 171.38, 'L': 70.09}\n",
            "{'root': 'dend[0]', 'sec': 'dend[16]', 'seg': 0.64, 'dist': 179.15, 'L': 120.21}\n",
            "{'root': 'dend[0]', 'sec': 'dend[16]', 'seg': 0.79, 'dist': 196.32, 'L': 120.21}\n",
            "{'root': 'dend[0]', 'sec': 'dend[15]', 'seg': 0.7, 'dist': 167.66, 'L': 93.99}\n",
            "{'root': 'dend[0]', 'sec': 'dend[15]', 'seg': 0.9, 'dist': 186.46, 'L': 93.99}\n",
            "{'root': 'dend[0]', 'sec': 'dend[8]', 'seg': 0.83, 'dist': 166.15, 'L': 49.59}\n",
            "{'root': 'dend[0]', 'sec': 'dend[7]', 'seg': 0.83, 'dist': 172.95, 'L': 57.75}\n"
          ]
        }
      ],
      "source": [
        "for key in distal_dict:\n",
        "  print(distal_dict[key])"
      ]
    },
    {
      "cell_type": "code",
      "execution_count": null,
      "metadata": {
        "id": "lF5EpqrDHQBp"
      },
      "outputs": [],
      "source": [
        "# use 32 and 33 for proximal and distal"
      ]
    },
    {
      "cell_type": "code",
      "execution_count": 38,
      "metadata": {
        "id": "NZLmiSRO99_W"
      },
      "outputs": [],
      "source": [
        "common = []\n",
        "\n",
        "for key in proximal_dict:\n",
        "  root = proximal_dict[key]['root']\n",
        "  for item in distal_dict:\n",
        "    if distal_dict[item]['root'] == root:\n",
        "      common.append(root)\n",
        "\n",
        "common = list(set(common))\n"
      ]
    },
    {
      "cell_type": "code",
      "execution_count": 39,
      "metadata": {
        "colab": {
          "base_uri": "https://localhost:8080/"
        },
        "id": "urU5OsNvBcMX",
        "outputId": "b9a75bac-33a5-4402-93e2-9dd37bfed4e5"
      },
      "outputs": [
        {
          "name": "stdout",
          "output_type": "stream",
          "text": [
            "roots of the dendrites that cover both the proximal and distal regions:\n",
            "\t ['dend[36]', 'dend[0]']\n"
          ]
        }
      ],
      "source": [
        "print(f\"roots of the dendrites that cover both the proximal and distal regions:\\n\\t {common}\")"
      ]
    },
    {
      "cell_type": "code",
      "execution_count": null,
      "metadata": {
        "colab": {
          "base_uri": "https://localhost:8080/"
        },
        "id": "dWyQ5ssrCkCP",
        "outputId": "6a60aefe-c715-42db-9d07-62ff062ddf22"
      },
      "outputs": [
        {
          "name": "stdout",
          "output_type": "stream",
          "text": [
            "proximal\n",
            "{'root': 'dend[36]', 'sec': 'dend[37]', 'seg': 0.06, 'dist': 35.3, 'L': 184.91}\n",
            "{'root': 'dend[36]', 'sec': 'dend[37]', 'seg': 0.17, 'dist': 55.85, 'L': 184.91}\n",
            "distal:\n",
            "{'root': 'dend[36]', 'sec': 'dend[37]', 'seg': 0.83, 'dist': 179.13, 'L': 184.91}\n"
          ]
        }
      ],
      "source": [
        "key = 0\n",
        "print(\"proximal\")\n",
        "\n",
        "commonproxdict = {}\n",
        "for key in proximal_dict:\n",
        "  if proximal_dict[key]['root'] == common[0]:\n",
        "    print(proximal_dict[key])\n",
        "    commonproxdict.update({key:proximal_dict[key]})\n",
        "\n",
        "    # print(f\"{proximal_dict[key]['sec']}({proximal_dict[key]['seg']})\")\n",
        "\n",
        "print(\"distal:\")\n",
        "commondistaldict = {}\n",
        "for key in distal_dict:\n",
        "  if distal_dict[key]['root'] == common[0]:\n",
        "    print(distal_dict[key])\n",
        "    commondistaldict.update({key:distal_dict[key]})\n"
      ]
    },
    {
      "cell_type": "code",
      "execution_count": null,
      "metadata": {
        "id": "4hV6ngcESdvL"
      },
      "outputs": [],
      "source": [
        "#SST\n",
        "#proximal\n",
        "#according to the linear density plot in figure 3 I\n",
        "# 2 syns / um\n",
        "\n",
        "\n",
        "#distal\n",
        "#"
      ]
    },
    {
      "cell_type": "code",
      "execution_count": null,
      "metadata": {
        "colab": {
          "base_uri": "https://localhost:8080/"
        },
        "id": "ZNvvrYIVSy37",
        "outputId": "f6472c8f-db1c-444c-d97e-14ac3a7b4885"
      },
      "outputs": [
        {
          "data": {
            "text/plain": [
              "3"
            ]
          },
          "execution_count": 32,
          "metadata": {},
          "output_type": "execute_result"
        }
      ],
      "source": []
    },
    {
      "cell_type": "code",
      "execution_count": null,
      "metadata": {
        "id": "iykweYlCJdcN"
      },
      "outputs": [],
      "source": [
        "# h.distance(0, 0.5, sec=hobject.soma[0])\n",
        "# for child in hobject.soma[0].children():\n",
        "#   for child_sec in child.subtree():\n",
        "#     print(f\"child = {child}, {h.distance(child_sec(0))}\")"
      ]
    },
    {
      "cell_type": "code",
      "execution_count": null,
      "metadata": {
        "id": "wREbWajK_Gse"
      },
      "outputs": [],
      "source": [
        "# h.topology()"
      ]
    },
    {
      "cell_type": "code",
      "execution_count": null,
      "metadata": {
        "id": "IV821_CZNy1N"
      },
      "outputs": [],
      "source": []
    },
    {
      "cell_type": "markdown",
      "metadata": {
        "id": "SlmOnRncNzZj"
      },
      "source": [
        "Test add synapses"
      ]
    },
    {
      "cell_type": "code",
      "execution_count": null,
      "metadata": {
        "colab": {
          "base_uri": "https://localhost:8080/"
        },
        "id": "UH97nWg8N56j",
        "outputId": "9c5f29c6-443e-420e-aa6f-75f8f012d64c"
      },
      "outputs": [
        {
          "data": {
            "text/plain": [
              "1.0"
            ]
          },
          "execution_count": 9,
          "metadata": {},
          "output_type": "execute_result"
        }
      ],
      "source": [
        "from neuron import h\n",
        "h.load_file(\"stdrun.hoc\")  # Required to use h.run()"
      ]
    },
    {
      "cell_type": "code",
      "execution_count": null,
      "metadata": {
        "id": "X-eFUu1sN0uS"
      },
      "outputs": [],
      "source": [
        "def run(h):\n",
        "\n",
        "  nmda = h.CPGLUIN(0.5,h.dend[32])\n",
        "  vecstim = h.VecStim()\n",
        "  times = h.Vector([500])\n",
        "  vecstim.play(times)\n",
        "  rec_times = h.Vector()\n",
        "  nc = h.NetCon(vecstim, None)  # No target, just record events\n",
        "  nc.record(rec_times)\n",
        "  nmdaNetCON = h.NetCon(vecstim,nmda)\n",
        "  nmdaNetCON.weight[0] = 0.0001\n",
        "\n",
        "  v = h.Vector().record(h.dend[32](0.5)._ref_v)\n",
        "  i  = h.Vector().record(nmda._ref_iglu)\n",
        "  h.finitialize()\n",
        "  h.dt=0.025\n",
        "  h.tstop = 1000\n",
        "  h.run()\n",
        "  return v,rec_times,times,i"
      ]
    },
    {
      "cell_type": "code",
      "execution_count": null,
      "metadata": {
        "id": "gyFXdmejN3cP"
      },
      "outputs": [],
      "source": [
        "h = build_cell(1)#redifine/add ? to h so as to avoid run() conflict?\n",
        "v,nc,times,i = run(h)"
      ]
    },
    {
      "cell_type": "code",
      "execution_count": null,
      "metadata": {
        "colab": {
          "base_uri": "https://localhost:8080/",
          "height": 449
        },
        "id": "3dJOBF5MOlZv",
        "outputId": "c7ac57a3-e774-4b58-d28d-9beddf4229ab"
      },
      "outputs": [
        {
          "data": {
            "text/plain": [
              "[<matplotlib.lines.Line2D at 0x7ce4a4760150>]"
            ]
          },
          "execution_count": 12,
          "metadata": {},
          "output_type": "execute_result"
        },
        {
          "data": {
            "image/png": "[encoded data removed]",
            "text/plain": [
              "<Figure size 640x480 with 1 Axes>"
            ]
          },
          "metadata": {},
          "output_type": "display_data"
        }
      ],
      "source": [
        "start, end = 20000,21000\n",
        "\n",
        "V = v.as_numpy()\n",
        "times = np.arange(0,1000.025,0.025)\n",
        "plt.plot(times[start:end],V[start:end])"
      ]
    },
    {
      "cell_type": "markdown",
      "metadata": {
        "id": "Z_UgXexBQHII"
      },
      "source": [
        "#Add synapses"
      ]
    },
    {
      "cell_type": "markdown",
      "metadata": {
        "id": "t9l-AIp3ROYs"
      },
      "source": [
        "add single synapse first"
      ]
    },
    {
      "cell_type": "code",
      "execution_count": null,
      "metadata": {
        "colab": {
          "base_uri": "https://localhost:8080/"
        },
        "id": "FNSX_89pNaYi",
        "outputId": "6ff23879-b673-42a6-8229-15a2f5a1ca9c"
      },
      "outputs": [
        {
          "data": {
            "text/plain": [
              "1.0"
            ]
          },
          "execution_count": 11,
          "metadata": {},
          "output_type": "execute_result"
        }
      ],
      "source": [
        "from neuron import h\n",
        "h.load_file(\"stdrun.hoc\")"
      ]
    },
    {
      "cell_type": "code",
      "execution_count": null,
      "metadata": {
        "id": "JdX79nGhQr2Z"
      },
      "outputs": [],
      "source": [
        "nsyn_exc = int(40 *.04 * 2) #syns in the 40 um windows\n",
        "\n",
        "\n",
        "# h.CPGLUIN(x, sec=cell.SEGMENTS['NEURON_section'][syn]))\n",
        "def run_sim(h):\n",
        "\n",
        "\n",
        "  def create_syns(syn_point_proc, seg,dend_sec_no, nsyn):\n",
        "    syns =  [syn_point_proc(seg, sec=h.dend[int(dend_sec_no)]) for i in range(nsyn)]\n",
        "    return syns\n",
        "\n",
        "  #             proximal                                          #distal\n",
        "  ampa_syns = create_syns(h.CPGLUIN,0.5,32,nsyn_exc) + create_syns(h.CPGLUIN,0.64,33,nsyn_exc)\n",
        "  nmda_syns =  create_syns(h.NMDAIN,0.5,32,nsyn_exc) + create_syns(h.NMDAIN,0.64,33,nsyn_exc)\n",
        "  # GABAS = create_syns(h.GABAain,0.5,32,1) + create_syns(h.GABAain,0.64,33,1)\n",
        "\n",
        "\n",
        "  AMPAS = []\n",
        "  NMDAS = []\n",
        "  vecstims_ampa = []\n",
        "  vecstims_nmda = []\n",
        "\n",
        "  for i in range(len(ampa_syns)):#assuming same no. ampa and nmda\n",
        "\n",
        "    vecstims_ampa.append(h.VecStim())\n",
        "    ampaNetCON = h.NetCon(vecstims_ampa[-1],ampa_syns[i])\n",
        "    AMPAS.append(ampaNetCON)\n",
        "\n",
        "\n",
        "    vecstims_nmda.append(h.VecStim())\n",
        "    nmdaNetCON = h.NetCon(vecstims_nmda[-1],nmda_syns[i])\n",
        "    NMDAS.append(nmdaNetCON)\n",
        "\n",
        "\n",
        "\n",
        "  event_times = [[100], [100.5],[101]]\n",
        "  # vecstims_ampa[0].play(h.Vector([10]))\n",
        "  vecstims_nmda[0].play(h.Vector(event_times[0]))\n",
        "  vecstims_ampa[1].play(h.Vector(event_times[1]))\n",
        "  vecstims_nmda[1].play(h.Vector(event_times[1]))\n",
        "  v = h.Vector().record(h.dend[32](0.5)._ref_v)\n",
        "\n",
        "\n",
        "  h.dt=0.025\n",
        "  h.tstop = 1000\n",
        "  h.finitialize(-75)\n",
        "  h.run()\n",
        "  #clear NEURON level variables so this cell can be rerun\n",
        "  V = v.as_numpy()\n",
        "\n",
        "  return V\n"
      ]
    },
    {
      "cell_type": "code",
      "execution_count": null,
      "metadata": {
        "id": "It-UphhZ8c8W"
      },
      "outputs": [],
      "source": [
        "h = build_cell(1)\n",
        "v = run_sim(h)\n",
        "plt.plot(np.array(v))"
      ]
    },
    {
      "cell_type": "code",
      "execution_count": null,
      "metadata": {
        "id": "oqToVpT3NGYk"
      },
      "outputs": [],
      "source": []
    },
    {
      "cell_type": "code",
      "execution_count": null,
      "metadata": {
        "id": "5N5KKgYaQoJa"
      },
      "outputs": [],
      "source": [
        "# for sec in hobject.allsec():\n",
        "#     print(f\"Section: {sec.name()}\")\n",
        "#     psec = sec.psection()\n",
        "#     [print(name) for name in psec['point_processes']]"
      ]
    },
    {
      "cell_type": "markdown",
      "metadata": {
        "id": "njZ3r7zhK8lu"
      },
      "source": [
        "# Build STIMS"
      ]
    },
    {
      "cell_type": "markdown",
      "metadata": {
        "id": "__4gqUyl4T6f"
      },
      "source": [
        "quasi-synchronous input used to make Fig 4B 3 (no GABA)"
      ]
    },
    {
      "cell_type": "markdown",
      "metadata": {
        "id": "ApBIhCNTBPVV"
      },
      "source": [
        "quasi-synchronous means syn1 is activated, then syn2 is activated 0.5ms after, and so on. they tested up to ten synapses"
      ]
    },
    {
      "cell_type": "code",
      "execution_count": null,
      "metadata": {
        "colab": {
          "base_uri": "https://localhost:8080/"
        },
        "id": "qUtMEcI9--2T",
        "outputId": "af88da05-0ae4-4cde-c462-d9aef6d3c7e0"
      },
      "outputs": [
        {
          "data": {
            "text/plain": [
              "1.0"
            ]
          },
          "execution_count": 34,
          "metadata": {},
          "output_type": "execute_result"
        }
      ],
      "source": [
        "#prox\n"
      ]
    },
    {
      "cell_type": "markdown",
      "metadata": {
        "id": "pJiIaJ_Sj4m-"
      },
      "source": [
        "play stims"
      ]
    },
    {
      "cell_type": "code",
      "execution_count": null,
      "metadata": {
        "id": "zOdeVDYQ-_BY"
      },
      "outputs": [],
      "source": [
        "# sim_params['stim_amp'] = -0.1\n",
        "\n",
        "#rebuild the cell to make sure the set_simulation() is using the correct hobj\n",
        "#if using hoc call with the hoc filename and cell name\n",
        "\n",
        "# soma_diam_multiplier = 1\n",
        "# hobject = build_cell(soma_diam_multiplier)\n",
        "#hobject = build_cell(soma_diam_multiplier,using_hoc=True,'HYPO_TEMPLATE.hoc','HYPO')\n",
        "\n",
        "# run the simulation\n",
        "# h, stim = set_simulation(hobject,sim_params)\n",
        "\n",
        "\n",
        "v = h.Vector().record(hobject.soma[0](0.5)._ref_v)\n",
        "h.dt=0.2\n",
        "h.finitialize(-51)\n",
        "h.continuerun(1000)\n",
        "#plot the result and display spike frequency\n",
        "V = v.as_numpy()\n",
        "T = np.arange(0,h.tstop+h.dt,h.dt)\n",
        "plt.plot(V)\n",
        "plt.title(f\"Vm at {sim_params['stim_amp']} nA\")\n",
        "plt.show()\n",
        "\n",
        "print(f\"spike frequency = {get_frequency(v,sim_params):.2f} Hz\")"
      ]
    },
    {
      "cell_type": "code",
      "execution_count": null,
      "metadata": {
        "id": "fk0LGDSLK-_6"
      },
      "outputs": [],
      "source": [
        "def PoissonSpikeTrain(freq,\n",
        "                      dt=None,\n",
        "                      tstop=1.,\n",
        "                      seed=None):\n",
        "    \"\"\"\n",
        "    Poisson spike train from a given frequency (homogeneous process)\n",
        "\n",
        "    \"\"\"\n",
        "    if seed is None:\n",
        "        seed = np.random.randint(1000)\n",
        "    np.random.seed(seed)\n",
        "\n",
        "    if dt is not None and (type(freq) in [np.ndarray, np.array, list]):\n",
        "        spikes = []\n",
        "        rdms = np.random.uniform(0, 1, size=len(freq))\n",
        "        for i, rdm in enumerate(rdms):\n",
        "            if rdm<(freq[i]*dt):\n",
        "                spikes.append(i*dt)\n",
        "        return spikes\n",
        "\n",
        "    elif type(freq) in [float]:\n",
        "        spikes = np.cumsum(\\\n",
        "                np.random.exponential(1./freq, int(2.*tstop*freq)+10))\n",
        "        return spikes[spikes<tstop]\n",
        "\n",
        "    else:\n",
        "        print('\\n missing input --> no spikes generated ! \\n')"
      ]
    },
    {
      "cell_type": "code",
      "execution_count": null,
      "metadata": {
        "colab": {
          "base_uri": "https://localhost:8080/"
        },
        "id": "D53LsQ2f9OAd",
        "outputId": "3d55af98-80fb-42e7-d23a-b5765cbef260"
      },
      "outputs": [
        {
          "data": {
            "text/plain": [
              "array([0.02665435, 0.2512418 , 0.25752813, 0.89376126, 0.90724566])"
            ]
          },
          "execution_count": 41,
          "metadata": {},
          "output_type": "execute_result"
        }
      ],
      "source": [
        "PoissonSpikeTrain(3.0)"
      ]
    },
    {
      "cell_type": "code",
      "execution_count": null,
      "metadata": {
        "id": "eBbaaFiSaIAD"
      },
      "outputs": [],
      "source": [
        "\n",
        "# ampaNETCON = h.NetCon(h.VecStim(),syn)"
      ]
    },
    {
      "cell_type": "code",
      "execution_count": null,
      "metadata": {
        "id": "86k5L2GF_bLb"
      },
      "outputs": [],
      "source": [
        "VECSTIMS[i].play(STIMS[-1])"
      ]
    },
    {
      "cell_type": "code",
      "execution_count": null,
      "metadata": {
        "id": "uEoh9uPA_bOV"
      },
      "outputs": [],
      "source": [
        "# To test this, we 267 generated input patterns by randomly picking a sparse subset of synapses (4%, see Fig. S9) located 268 on a distal (160-200 μm) and proximal (20-60 μm) segment of a single dendritic branch (Fig. 4A) 269 and simulated the arrival of spatially clustered synaptic inputs that are known to engage sublinear 270 integration. This resulted in a small number of synapses (from 2 to 8) that we activated 271 independently and quasi-synchronously (0.5ms delay) to compute the “linear” and “observed” 272 responses in each of the segments (Fig. 4B)."
      ]
    },
    {
      "cell_type": "code",
      "execution_count": null,
      "metadata": {
        "id": "SwjXM3DG-xOv"
      },
      "outputs": [],
      "source": [
        "# -- synaptic activity\n",
        "    TRAINS = [[] for s in range(len(synapses)*STP_model['Nmax'])]\n",
        "    for i, syn in enumerate(synapses):\n",
        "        if excitatory[i]:\n",
        "            # we draw one spike train:\n",
        "            train_s = np.array(PoissonSpikeTrain(Stim,\n",
        "                                    dt=1e-3*dt, tstop=1e-3*tstop,\n",
        "                                    seed=trialSeed+1000+i)) # Hz,s\n",
        "            # STP only in excitatory\n",
        "            N = STP_release_filter(train_s,\n",
        "                                   seed=trialSeed+2000+i,\n",
        "                                   **STP_model)\n",
        "            for n in range(1, STP_model['Nmax']+1):\n",
        "                # we split according to release number ++ train to ** ms **\n",
        "                TRAINS[i+len(synapses)*(n-1)] += list(1e3*train_s[N==n])\n",
        "        else:\n",
        "            # GABA -> only single release\n",
        "            # train_s = np.array(PoissonSpikeTrain(bgFreqInhFactor*Stim, # REMOVED\n",
        "            train_s = np.array(PoissonSpikeTrain(Stim,\n",
        "                                    dt=1e-3*dt, tstop=1e-3*tstop,\n",
        "                                    seed=trialSeed+3000+i)) # Hz,s\n",
        "            TRAINS[i] += list(1e3*train_s) # to ** ms **\n",
        "\n",
        "    # -- reordering spike trains\n",
        "    for i in range(len(TRAINS)):\n",
        "        TRAINS[i] = np.sort(TRAINS[i])\n",
        "\n",
        "    # -- link events to synapses\n",
        "    for i in range(len(TRAINS)):\n",
        "        STIMS.append(h.Vector(TRAINS[i]))\n",
        "        VECSTIMS[i].play(STIMS[-1])"
      ]
    },
    {
      "cell_type": "code",
      "execution_count": null,
      "metadata": {
        "id": "qYhmqcU_-xUG"
      },
      "outputs": [],
      "source": []
    },
    {
      "cell_type": "code",
      "execution_count": null,
      "metadata": {
        "id": "sIHvvkK0-xXK"
      },
      "outputs": [],
      "source": []
    },
    {
      "cell_type": "code",
      "execution_count": null,
      "metadata": {
        "id": "Zr_UByC3QGgE"
      },
      "outputs": [],
      "source": [
        "def add_synaptic_input(cell, synapses,\n",
        "                       with_NMDA=False,\n",
        "                       Nmax_release = 1,\n",
        "                       boost_AMPA_for_SST_noNMDA=True,\n",
        "                       Inh_fraction=20./100.,\n",
        "                       seed=None):\n",
        "    \"\"\"\n",
        "    add AMPA, NMDA and GABA synapses to a given cell\n",
        "\n",
        "    if Nmax>1\n",
        "    it adds other synapses with double (Nmax>=2), triple (Nmax>=3), ...\n",
        "        vesicular synaptic release only on AMPA and NMDA !\n",
        "\n",
        "    \"\"\"\n",
        "    if seed is None:\n",
        "        seed = np.random.randint(1000)\n",
        "    np.random.seed(seed)\n",
        "\n",
        "    AMPAS, NMDAS, GABAS = [], [], []\n",
        "    ampaNETCONS, nmdaNETCONS, gabaNETCONS = [], [], []\n",
        "    STIMS, VECSTIMS = [], []\n",
        "\n",
        "    excitatory = np.random.choice([True, False],\n",
        "                                  len(synapses),\n",
        "                                  p=[1.-Inh_fraction, Inh_fraction])\n",
        "\n",
        "    for nVesicles in range(1, Nmax_release+1):\n",
        "\n",
        "        for i, syn in enumerate(synapses):\n",
        "\n",
        "            VECSTIMS.append(h.VecStim())\n",
        "\n",
        "            # need to avoid x=0 and x=1, to allow ion concentrations variations in NEURON\n",
        "            x = np.clip(cell.SEGMENTS['NEURON_segment'][syn],\n",
        "                    1, cell.SEGMENTS['NEURON_section'][syn].nseg-2)\\\n",
        "                            /cell.SEGMENTS['NEURON_section'][syn].nseg\n",
        "\n",
        "            if excitatory[i]:\n",
        "                # excitatory synapses\n",
        "\n",
        "                AMPAS.append(\\\n",
        "                        h.CPGLUIN(x, sec=cell.SEGMENTS['NEURON_section'][syn]))\n",
        "\n",
        "                if with_NMDA:\n",
        "                    NMDAS.append(\\\n",
        "                            h.NMDAIN(x, sec=cell.SEGMENTS['NEURON_section'][syn]))\n",
        "\n",
        "                ampaNETCONS.append(h.NetCon(VECSTIMS[-1], AMPAS[-1]))\n",
        "                if (cell.params_key=='MC') and (not with_NMDA)\\\n",
        "                        and boost_AMPA_for_SST_noNMDA:\n",
        "                    # boosted ampa weight\n",
        "                    ampaNETCONS[-1].weight[0] = cell.params['%s_qAMPA'%cell.params_key]*\\\n",
        "                                    cell.params['%s_qAMPAonlyBoost'%cell.params_key]*\\\n",
        "                                    nVesicles\n",
        "                else:\n",
        "                    # regular ampa weight\n",
        "                    ampaNETCONS[-1].weight[0] = cell.params['%s_qAMPA'%cell.params_key]*\\\n",
        "                                                    nVesicles\n",
        "\n",
        "                if with_NMDA:\n",
        "                    nmdaNETCONS.append(h.NetCon(VECSTIMS[-1], NMDAS[-1]))\n",
        "                    nmdaNETCONS[-1].weight[0] = cell.params['%s_NAR'%cell.params_key]*\\\n",
        "                                                    cell.params['%s_qAMPA'%cell.params_key]*\\\n",
        "                                                    nVesicles\n",
        "\n",
        "                GABAS.append(None)\n",
        "                gabaNETCONS.append(None)\n",
        "\n",
        "            elif nVesicles==1:\n",
        "                # inhibitory synapses\n",
        "\n",
        "                GABAS.append(\\\n",
        "                        h.GABAain(x, sec=cell.SEGMENTS['NEURON_section'][syn]))\n",
        "\n",
        "                gabaNETCONS.append(h.NetCon(VECSTIMS[-1], GABAS[-1]))\n",
        "                gabaNETCONS[-1].weight[0] = cell.params['%s_qGABA'%cell.params_key]\n",
        "\n",
        "                AMPAS.append(None)\n",
        "                NMDAS.append(None)\n",
        "                ampaNETCONS.append(None)\n",
        "                nmdaNETCONS.append(None)\n",
        "\n",
        "            else:\n",
        "                # nothing, no multi-vesicular of GABAergic synapses\n",
        "                GABAS.append(None)\n",
        "                gabaNETCONS.append(None)\n",
        "                AMPAS.append(None)\n",
        "                NMDAS.append(None)\n",
        "                ampaNETCONS.append(None)\n",
        "                nmdaNETCONS.append(None)\n",
        "\n",
        "    return AMPAS, NMDAS, GABAS,\\\n",
        "            ampaNETCONS, nmdaNETCONS, gabaNETCONS,\\\n",
        "            STIMS, VECSTIMS, excitatory"
      ]
    }
  ],
  "metadata": {
    "colab": {
      "provenance": []
    },
    "kernelspec": {
      "display_name": "BMTK",
      "language": "python",
      "name": "python3"
    },
    "language_info": {
      "codemirror_mode": {
        "name": "ipython",
        "version": 3
      },
      "file_extension": ".py",
      "mimetype": "text/x-python",
      "name": "python",
      "nbconvert_exporter": "python",
      "pygments_lexer": "ipython3",
      "version": "3.9.18"
    }
  },
  "nbformat": 4,
  "nbformat_minor": 0
}
