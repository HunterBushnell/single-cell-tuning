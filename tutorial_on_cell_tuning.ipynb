{
  "cells": [
    {
      "cell_type": "markdown",
      "metadata": {
        "id": "AzmCJBspcoNf"
      },
      "source": [
        "# Tutorial: tune cells from AllenDB"
      ]
    },
    {
      "cell_type": "code",
      "execution_count": 1,
      "metadata": {
        "colab": {
          "base_uri": "https://localhost:8080/"
        },
        "id": "ni3ndt_-kYPm",
        "outputId": "855b2746-56e1-4fb8-9f16-2c6b203a5cf0"
      },
      "outputs": [
        {
          "name": "stdout",
          "output_type": "stream",
          "text": [
            "\u001b[?25l   \u001b[90m━━━━━━━━━━━━━━━━━━━━━━━━━━━━━━━━━━━━━━━━\u001b[0m \u001b[32m0.0/1.8 MB\u001b[0m \u001b[31m?\u001b[0m eta \u001b[36m-:--:--\u001b[0m\r\u001b[2K   \u001b[91m━━━━━━━━━\u001b[0m\u001b[91m╸\u001b[0m\u001b[90m━━━━━━━━━━━━━━━━━━━━━━━━━━━━━━\u001b[0m \u001b[32m0.4/1.8 MB\u001b[0m \u001b[31m19.1 MB/s\u001b[0m eta \u001b[36m0:00:01\u001b[0m\r\u001b[2K   \u001b[90m━━━━━━━━━━━━━━━━━━━━━━━━━━━━━━━━━━━━━━━━\u001b[0m \u001b[32m1.8/1.8 MB\u001b[0m \u001b[31m31.4 MB/s\u001b[0m eta \u001b[36m0:00:00\u001b[0m\n",
            "\u001b[?25h  Installing build dependencies ... \u001b[?25l\u001b[?25hdone\n",
            "  Getting requirements to build wheel ... \u001b[?25l\u001b[?25hdone\n",
            "  Preparing metadata (pyproject.toml) ... \u001b[?25l\u001b[?25hdone\n",
            "\u001b[2K   \u001b[90m━━━━━━━━━━━━━━━━━━━━━━━━━━━━━━━━━━━━━━━━\u001b[0m \u001b[32m3.1/3.1 MB\u001b[0m \u001b[31m22.9 MB/s\u001b[0m eta \u001b[36m0:00:00\u001b[0m\n",
            "\u001b[2K   \u001b[90m━━━━━━━━━━━━━━━━━━━━━━━━━━━━━━━━━━━━━━━━\u001b[0m \u001b[32m12.0/12.0 MB\u001b[0m \u001b[31m82.6 MB/s\u001b[0m eta \u001b[36m0:00:00\u001b[0m\n",
            "\u001b[2K   \u001b[90m━━━━━━━━━━━━━━━━━━━━━━━━━━━━━━━━━━━━━━━━\u001b[0m \u001b[32m15.2/15.2 MB\u001b[0m \u001b[31m8.1 MB/s\u001b[0m eta \u001b[36m0:00:00\u001b[0m\n",
            "\u001b[2K   \u001b[90m━━━━━━━━━━━━━━━━━━━━━━━━━━━━━━━━━━━━━━━━\u001b[0m \u001b[32m17.1/17.1 MB\u001b[0m \u001b[31m132.8 MB/s\u001b[0m eta \u001b[36m0:00:00\u001b[0m\n",
            "\u001b[2K   \u001b[90m━━━━━━━━━━━━━━━━━━━━━━━━━━━━━━━━━━━━━━━━\u001b[0m \u001b[32m34.1/34.1 MB\u001b[0m \u001b[31m90.4 MB/s\u001b[0m eta \u001b[36m0:00:00\u001b[0m\n",
            "\u001b[2K   \u001b[90m━━━━━━━━━━━━━━━━━━━━━━━━━━━━━━━━━━━━━━━━\u001b[0m \u001b[32m973.1/973.1 kB\u001b[0m \u001b[31m40.7 MB/s\u001b[0m eta \u001b[36m0:00:00\u001b[0m\n",
            "\u001b[2K   \u001b[90m━━━━━━━━━━━━━━━━━━━━━━━━━━━━━━━━━━━━━━━━\u001b[0m \u001b[32m2.7/2.7 MB\u001b[0m \u001b[31m73.3 MB/s\u001b[0m eta \u001b[36m0:00:00\u001b[0m\n",
            "\u001b[2K   \u001b[90m━━━━━━━━━━━━━━━━━━━━━━━━━━━━━━━━━━━━━━━━\u001b[0m \u001b[32m1.4/1.4 MB\u001b[0m \u001b[31m53.7 MB/s\u001b[0m eta \u001b[36m0:00:00\u001b[0m\n",
            "\u001b[2K   \u001b[90m━━━━━━━━━━━━━━━━━━━━━━━━━━━━━━━━━━━━━━━━\u001b[0m \u001b[32m3.0/3.0 MB\u001b[0m \u001b[31m87.9 MB/s\u001b[0m eta \u001b[36m0:00:00\u001b[0m\n",
            "\u001b[2K   \u001b[90m━━━━━━━━━━━━━━━━━━━━━━━━━━━━━━━━━━━━━━━━\u001b[0m \u001b[32m14.9/14.9 MB\u001b[0m \u001b[31m143.2 MB/s\u001b[0m eta \u001b[36m0:00:00\u001b[0m\n",
            "\u001b[2K   \u001b[90m━━━━━━━━━━━━━━━━━━━━━━━━━━━━━━━━━━━━━━━━\u001b[0m \u001b[32m52.3/52.3 MB\u001b[0m \u001b[31m53.4 MB/s\u001b[0m eta \u001b[36m0:00:00\u001b[0m\n",
            "\u001b[2K   \u001b[90m━━━━━━━━━━━━━━━━━━━━━━━━━━━━━━━━━━━━━━━━\u001b[0m \u001b[32m4.4/4.4 MB\u001b[0m \u001b[31m98.1 MB/s\u001b[0m eta \u001b[36m0:00:00\u001b[0m\n",
            "\u001b[2K   \u001b[90m━━━━━━━━━━━━━━━━━━━━━━━━━━━━━━━━━━━━━━━━\u001b[0m \u001b[32m13.4/13.4 MB\u001b[0m \u001b[31m107.0 MB/s\u001b[0m eta \u001b[36m0:00:00\u001b[0m\n",
            "\u001b[2K   \u001b[90m━━━━━━━━━━━━━━━━━━━━━━━━━━━━━━━━━━━━━━━━\u001b[0m \u001b[32m739.1/739.1 kB\u001b[0m \u001b[31m28.6 MB/s\u001b[0m eta \u001b[36m0:00:00\u001b[0m\n",
            "\u001b[?25h  Building wheel for argschema (pyproject.toml) ... \u001b[?25l\u001b[?25hdone\n",
            "\u001b[31mERROR: pip's dependency resolver does not currently take into account all the packages that are installed. This behaviour is the source of the following dependency conflicts.\n",
            "google-colab 1.0.0 requires pandas==2.2.2, but you have pandas 1.5.3 which is incompatible.\n",
            "langchain 0.3.19 requires numpy<2,>=1.26.4; python_version < \"3.12\", but you have numpy 1.23.5 which is incompatible.\n",
            "cudf-cu12 24.12.0 requires pandas<2.2.4dev0,>=2.0, but you have pandas 1.5.3 which is incompatible.\n",
            "plotnine 0.14.5 requires pandas>=2.2.0, but you have pandas 1.5.3 which is incompatible.\n",
            "jax 0.4.33 requires numpy>=1.24, but you have numpy 1.23.5 which is incompatible.\n",
            "dask-cudf-cu12 24.12.0 requires pandas<2.2.4dev0,>=2.0, but you have pandas 1.5.3 which is incompatible.\n",
            "mizani 0.13.1 requires pandas>=2.2.0, but you have pandas 1.5.3 which is incompatible.\n",
            "cvxpy 1.6.2 requires scipy>=1.11.0, but you have scipy 1.10.1 which is incompatible.\n",
            "jaxlib 0.4.33 requires numpy>=1.24, but you have numpy 1.23.5 which is incompatible.\n",
            "pymc 5.20.1 requires numpy>=1.25.0, but you have numpy 1.23.5 which is incompatible.\n",
            "albumentations 2.0.4 requires numpy>=1.24.4, but you have numpy 1.23.5 which is incompatible.\n",
            "albucore 0.0.23 requires numpy>=1.24.4, but you have numpy 1.23.5 which is incompatible.\n",
            "tensorflow 2.18.0 requires numpy<2.1.0,>=1.26.0, but you have numpy 1.23.5 which is incompatible.\n",
            "treescope 0.1.9 requires numpy>=1.25.2, but you have numpy 1.23.5 which is incompatible.\n",
            "imbalanced-learn 0.13.0 requires numpy<3,>=1.24.3, but you have numpy 1.23.5 which is incompatible.\n",
            "bigframes 1.38.0 requires numpy>=1.24.0, but you have numpy 1.23.5 which is incompatible.\n",
            "chex 0.1.89 requires numpy>=1.24.1, but you have numpy 1.23.5 which is incompatible.\n",
            "numba 0.61.0 requires numpy<2.2,>=1.24, but you have numpy 1.23.5 which is incompatible.\n",
            "dask-expr 1.1.19 requires pandas>=2, but you have pandas 1.5.3 which is incompatible.\u001b[0m\u001b[31m\n",
            "\u001b[0mCloning into 'ACT'...\n",
            "remote: Enumerating objects: 4402, done.\u001b[K\n",
            "remote: Counting objects: 100% (429/429), done.\u001b[K\n",
            "remote: Compressing objects: 100% (304/304), done.\u001b[K\n",
            "remote: Total 4402 (delta 208), reused 271 (delta 106), pack-reused 3973 (from 1)\u001b[K\n",
            "Receiving objects: 100% (4402/4402), 153.20 MiB | 29.02 MiB/s, done.\n",
            "Resolving deltas: 100% (2026/2026), done.\n"
          ]
        }
      ],
      "source": [
        "# If running in Colab\n",
        "!pip install --quiet --upgrade pip\n",
        "!pip install --quiet allensdk neuron\n",
        "!git clone -b release_candidate https://github.com/V-Marco/ACT.git"
      ]
    },
    {
      "cell_type": "code",
      "execution_count": 1,
      "metadata": {
        "id": "JiK_PRdxdgYz"
      },
      "outputs": [],
      "source": [
        "from allensdk.model.biophys_sim.config import Config\n",
        "from allensdk.model.biophysical.utils import Utils\n",
        "import os\n",
        "import json\n",
        "import matplotlib.pyplot as plt\n",
        "import numpy as np\n",
        "\n",
        "import sys\n",
        "sys.path.append(\"ACT\")\n",
        "from act.passive import ACTPassiveModule"
      ]
    },
    {
      "cell_type": "markdown",
      "metadata": {
        "id": "b8UrWR_edcFp"
      },
      "source": [
        "## Step 1: Download the cell"
      ]
    },
    {
      "cell_type": "markdown",
      "metadata": {
        "id": "ET2rK4YveS6p"
      },
      "source": [
        "Use [this notebook](https://github.com/cyneuro/single-cell-tuning/blob/main/download_build_from_allendb.ipynb) to download the cell from AllenDB."
      ]
    },
    {
      "cell_type": "markdown",
      "metadata": {
        "id": "Yy2qsFiYeeMu"
      },
      "source": [
        "## Step 2 (optional): Segregate the cell's modfiles"
      ]
    },
    {
      "cell_type": "markdown",
      "metadata": {
        "id": "wQUFp69welBi"
      },
      "source": [
        "Separate the cell's channels into distinct modules by cutting their activation curves at some voltage threshold. Some principles that work empirically:\n",
        "\n",
        "1. Cut the activation curve of the h channel 2-3 mV to the left of V-rest.\n",
        "2. Cut activation curves of active channels at least 2-3 mV to the right of V-rest to prevent spurious spikes in the beginning of the simulation.\n",
        "\n",
        "[This notebook](https://colab.research.google.com/github/V-Marco/ACT/blob/release_candidate/segregation.ipynb) provides examples of segregation."
      ]
    },
    {
      "cell_type": "markdown",
      "metadata": {
        "id": "wf11N57TfysX"
      },
      "source": [
        "## Step 3: Upload your cell files to the working directory"
      ]
    },
    {
      "cell_type": "markdown",
      "metadata": {
        "id": "5M1ovp9QgNuG"
      },
      "source": [
        "For example,"
      ]
    },
    {
      "cell_type": "code",
      "execution_count": 7,
      "metadata": {
        "colab": {
          "base_uri": "https://localhost:8080/"
        },
        "id": "fAVVMhkHgC-g",
        "outputId": "a33bbdeb-a511-4b6f-c015-ec9800a999fd"
      },
      "outputs": [
        {
          "name": "stdout",
          "output_type": "stream",
          "text": [
            "fatal: destination path 'single-cell-tuning' already exists and is not an empty directory.\n"
          ]
        }
      ],
      "source": [
        "!git clone https://github.com/cyneuro/single-cell-tuning.git\n",
        "!cp -r /content/single-cell-tuning/Segregated/ ./\n",
        "%cd Segregated/"
      ]
    },
    {
      "cell_type": "markdown",
      "metadata": {
        "id": "Lz7cMwJlcoNk"
      },
      "source": [
        "## Step 4: Build the cell and get soma morphology parameters"
      ]
    },
    {
      "cell_type": "code",
      "execution_count": 37,
      "metadata": {
        "id": "ntLIAV0QjC3f"
      },
      "outputs": [],
      "source": [
        "# Compile the modfiles\n",
        "!nrnivmodl modfiles > /dev/null 2>&1"
      ]
    },
    {
      "cell_type": "code",
      "execution_count": 13,
      "metadata": {
        "id": "7xbd35R_coNl"
      },
      "outputs": [],
      "source": [
        "def build_cell(soma_diam_multiplier = 1):\n",
        "    # Create the h object\n",
        "    description = Config().load('manifest.json')\n",
        "    utils = Utils(description)\n",
        "    h = utils.h\n",
        "\n",
        "    # Convert all \"value\" attributes to floats\n",
        "    for dict in utils.description.data['genome']:\n",
        "        for key, value in dict.items():\n",
        "            if key == 'value': dict[key] = float(value)\n",
        "\n",
        "    # Configure morphology\n",
        "    morphology_path = description.manifest.get_path('MORPHOLOGY')\n",
        "    utils.generate_morphology(morphology_path.encode('ascii', 'ignore'))\n",
        "    utils.load_cell_parameters()\n",
        "\n",
        "    # To match PP\n",
        "    h.soma[0].diam = h.soma[0].diam * soma_diam_multiplier\n",
        "\n",
        "    return h\n",
        "\n",
        "def set_simulation(stim_amp, soma_diam_multiplier = 1.0):\n",
        "    h = build_cell(soma_diam_multiplier)\n",
        "\n",
        "    stim = h.IClamp(h.soma[0](0.5))\n",
        "    stim.amp = stim_amp\n",
        "    stim.delay = 300.0\n",
        "    stim.dur = 1000\n",
        "    h.tstop = 1500.0\n",
        "    h.dt = 0.1\n",
        "    h.steps_per_ms = 1 / h.dt\n",
        "\n",
        "    return h, stim"
      ]
    },
    {
      "cell_type": "code",
      "execution_count": 5,
      "metadata": {
        "colab": {
          "base_uri": "https://localhost:8080/"
        },
        "id": "OFIOD2D_i_cm",
        "outputId": "412a08da-563f-424a-dca0-5641d9bb67d1"
      },
      "outputs": [
        {
          "name": "stdout",
          "output_type": "stream",
          "text": [
            "warning ./Sst-IRES-Cre_Ai14-188740.03.02.01_657210399_m.swc: more than one tree:\n",
            "  root at line 4\n",
            "  root at line 14504\n",
            "  root at line 14725\n",
            "  root at line 14798\n",
            "  root at line 15141\n",
            "  root at line 15144\n",
            "  root at line 15156\n",
            "  root at line 15211\n",
            "  root at line 15318\n",
            "  root at line 15496\n",
            "  root at line 15811\n",
            "  root at line 15857\n",
            "  root at line 15883\n",
            "  root at line 16161\n",
            "  root at line 16200\n",
            "  root at line 16210\n",
            "  root at line 16253\n",
            "  root at line 16286\n",
            "  root at line 16301\n",
            "  root at line 16326\n",
            "  root at line 16574\n",
            "  root at line 16613\n",
            "  root at line 16618\n",
            "  root at line 16645\n",
            "  root at line 16695\n",
            "  root at line 16751\n",
            "  root at line 16765\n",
            "  root at line 16768\n"
          ]
        }
      ],
      "source": [
        "h = build_cell()"
      ]
    },
    {
      "cell_type": "code",
      "execution_count": 6,
      "metadata": {
        "colab": {
          "base_uri": "https://localhost:8080/"
        },
        "id": "zkLA_X4gcoNn",
        "outputId": "f8924a71-b06f-4545-fd21-202c7d6090ea"
      },
      "outputs": [
        {
          "name": "stdout",
          "output_type": "stream",
          "text": [
            "Soma area: 503.6323076932052\n",
            "Soma diam: 12.661399841308594\n",
            "Soma L: 12.661407470703125\n"
          ]
        }
      ],
      "source": [
        "print(f\"Soma area: {h.soma[0](0.5).area()}\")\n",
        "print(f\"Soma diam: {h.soma[0].diam}\")\n",
        "print(f\"Soma L: {h.soma[0].L}\")"
      ]
    },
    {
      "cell_type": "markdown",
      "metadata": {
        "id": "M3ZC4h7FcoNn"
      },
      "source": [
        "## Step 5: Tune passive properties (PP)"
      ]
    },
    {
      "cell_type": "markdown",
      "metadata": {
        "id": "06aa4C_vkX2N"
      },
      "source": [
        "1. Define the original soma area and desired PP."
      ]
    },
    {
      "cell_type": "code",
      "execution_count": 7,
      "metadata": {
        "id": "pPX4xKckcoNn"
      },
      "outputs": [],
      "source": [
        "# Soma area from the previous cell\n",
        "computed_soma_area = 5.036323076932052e-06 # (cm2)\n",
        "\n",
        "# User-provided desired properties\n",
        "user_provided_Rin = 195.4 * 10e6 # (to Ohm from MOhm)\n",
        "user_provided_tau = 15.6 * 1e-3 # (to s from ms)\n",
        "user_provided_Vrest = -71 # (mV)"
      ]
    },
    {
      "cell_type": "markdown",
      "metadata": {
        "id": "H5JYcp60kj17"
      },
      "source": [
        "2. We cannot set R-in, tau and V-rest for the cell directly – instead, we have to compute g-bar-leak, Cm and e-rev-leak, set these, and then see if the cell outputs desired R-in, tau, V-rest.\n",
        "\n",
        "`ACTPassiveModule` computes g-bar-leak, Cm and e-rev-leak (called `SettablePassiveProperties`) from R-in, tau and V-rest (called `GettablePassiveProperties`) using analytical formulas.\n",
        "\n",
        "**NOTE:** properties are only **computed** and not set. To set Cm, etc. you have to **manually edit the \"_fit.json\" file**."
      ]
    },
    {
      "cell_type": "code",
      "execution_count": 9,
      "metadata": {
        "colab": {
          "base_uri": "https://localhost:8080/"
        },
        "id": "6yWv0k3GkuIj",
        "outputId": "de8e9ca0-9a8c-4b83-beb6-88215cbaa663"
      },
      "outputs": [
        {
          "data": {
            "text/plain": [
              "SettablePassiveProperties(Cm=1.5852087355778763, g_bar_leak=0.00010161594458832541, e_rev_leak=-71, g_bar_h=None)"
            ]
          },
          "execution_count": 9,
          "metadata": {},
          "output_type": "execute_result"
        }
      ],
      "source": [
        "# Compute the settable properties\n",
        "ACTPassiveModule.compute_spp(user_provided_Rin, computed_soma_area, user_provided_tau, user_provided_Vrest)"
      ]
    },
    {
      "cell_type": "markdown",
      "metadata": {
        "id": "fl2ewYUMlfoc"
      },
      "source": [
        "3. Open the \"_fit.json\" file and:\n",
        "\n",
        "    3.1. Set all active conductances to 0 (i.e., all g-s but g-leak and g-h).\n",
        "\n",
        "    3.2 Set \"e_pas\" to `e_rev_leak`.\n",
        "\n",
        "    3.3. Set \"cm\" of all sections to `Cm`.\n",
        "\n",
        "    3.4 Set \"g_pas\" of all sections to `g_bar_leak`."
      ]
    },
    {
      "cell_type": "markdown",
      "metadata": {
        "id": "48Va1Lv2mghB"
      },
      "source": [
        "4. Apply a small negative current injection (e.g., -0.1 nA) to get the passive voltage trace.\n",
        "\n",
        "**NOTE:** do not make the amplitude too high, it leads to spurious results."
      ]
    },
    {
      "cell_type": "code",
      "execution_count": null,
      "metadata": {
        "id": "q-SfCmrLcoNo"
      },
      "outputs": [],
      "source": [
        "h, stim = set_simulation(-0.1)\n",
        "v = h.Vector().record(h.soma[0](0.5)._ref_v)\n",
        "h.finitialize()\n",
        "h.run()\n",
        "plt.plot(v.as_numpy()[::10])"
      ]
    },
    {
      "cell_type": "markdown",
      "metadata": {
        "id": "7ekGwN3-mxmv"
      },
      "source": [
        "5. Compute R-in, tau and V-rest using `ACTPassiveModule`."
      ]
    },
    {
      "cell_type": "code",
      "execution_count": null,
      "metadata": {
        "id": "eHoki1WecoNo"
      },
      "outputs": [],
      "source": [
        "print(ACTPassiveModule.compute_gpp(v.as_numpy(), h.dt, 300, 1290, -0.1))\n",
        "print(f\"V-rest: {v.as_numpy()[300]}\")"
      ]
    },
    {
      "cell_type": "markdown",
      "metadata": {
        "id": "1Hi4j_vmnFi4"
      },
      "source": [
        "6. Repeat steps 3-5 until you get close to the desired PP. Some principles:\n",
        "\n",
        "    - Decrease soma area to increase R-in.\n",
        "\n",
        "    - Increase Cm to increase tau.\n",
        "\n",
        "    - Increase g-bar-leak to decrease R-in and tau.\n",
        "\n",
        "For the SST example, we made the following adjustments:\n",
        "1. cm = 3\n",
        "2. g-pas = 0.00015242391688248812\n",
        "3. e-pas = -67\n",
        "4. soma_diam = soma diam * 0.6"
      ]
    },
    {
      "cell_type": "code",
      "execution_count": 14,
      "metadata": {
        "colab": {
          "base_uri": "https://localhost:8080/",
          "height": 964
        },
        "id": "EmSuIq35otdA",
        "outputId": "b70aa4be-43e4-456a-9140-2d99ece88615"
      },
      "outputs": [
        {
          "name": "stdout",
          "output_type": "stream",
          "text": [
            "warning ./Sst-IRES-Cre_Ai14-188740.03.02.01_657210399_m.swc: more than one tree:\n",
            "  root at line 4\n",
            "  root at line 14504\n",
            "  root at line 14725\n",
            "  root at line 14798\n",
            "  root at line 15141\n",
            "  root at line 15144\n",
            "  root at line 15156\n",
            "  root at line 15211\n",
            "  root at line 15318\n",
            "  root at line 15496\n",
            "  root at line 15811\n",
            "  root at line 15857\n",
            "  root at line 15883\n",
            "  root at line 16161\n",
            "  root at line 16200\n",
            "  root at line 16210\n",
            "  root at line 16253\n",
            "  root at line 16286\n",
            "  root at line 16301\n",
            "  root at line 16326\n",
            "  root at line 16574\n",
            "  root at line 16613\n",
            "  root at line 16618\n",
            "  root at line 16645\n",
            "  root at line 16695\n",
            "  root at line 16751\n",
            "  root at line 16765\n",
            "  root at line 16768\n"
          ]
        },
        {
          "data": {
            "text/plain": [
              "[<matplotlib.lines.Line2D at 0x7e31ce2e5e90>]"
            ]
          },
          "execution_count": 14,
          "metadata": {},
          "output_type": "execute_result"
        },
        {
          "data": {
            "image/png": "[encoded data removed]",
            "text/plain": [
              "<Figure size 640x480 with 1 Axes>"
            ]
          },
          "metadata": {},
          "output_type": "display_data"
        }
      ],
      "source": [
        "h, stim = set_simulation(stim_amp = -0.1, soma_diam_multiplier = 0.6)\n",
        "v = h.Vector().record(h.soma[0](0.5)._ref_v)\n",
        "h.finitialize()\n",
        "h.run()\n",
        "plt.plot(v.as_numpy()[::10])"
      ]
    },
    {
      "cell_type": "code",
      "execution_count": 15,
      "metadata": {
        "colab": {
          "base_uri": "https://localhost:8080/"
        },
        "id": "Sdpj3UlQpFqK",
        "outputId": "850682b2-edfd-4109-8da2-9cb230e1d630"
      },
      "outputs": [
        {
          "name": "stdout",
          "output_type": "stream",
          "text": [
            "GettablePassiveProperties(R_in=194.7525139028619, tau1=11.700000000000001, tau2=63.0, sag_ratio=0.07619332016214711)\n",
            "V-rest: -70.35248813302549\n"
          ]
        }
      ],
      "source": [
        "print(ACTPassiveModule.compute_gpp(v.as_numpy(), h.dt, 300, 1290, -0.1))\n",
        "print(f\"V-rest: {v.as_numpy()[300]}\")"
      ]
    },
    {
      "cell_type": "markdown",
      "metadata": {
        "id": "ipYFPW2acoNo"
      },
      "source": [
        "## Step 6: Tune the FI curve"
      ]
    },
    {
      "cell_type": "markdown",
      "metadata": {
        "id": "47-ungBupX7P"
      },
      "source": [
        "Finally, tune the FI curve. Some guidelines:\n",
        "\n",
        "1. First, turn on persistent sodium (e.g., Nap), transient sodium (e.g., NaT) and persistent potassium (e.g., Kdr) channels. Suggested conductances to start with:\n",
        "    - g-NaP = 0.0011\n",
        "    - g-NaT = 0.08\n",
        "    - g-Kdr = 0.026\n",
        "\n",
        "Get the FI curve to the desired range of values. It is fine if at this stage the rheobase and the slope do not match perfectly, but the F values themselves should be in the range of the desired values.\n",
        "\n",
        "2. Next, turn on calcium channels (e.g., CaLVA, CaHVA) and calcium-activated potassium channels (e.g., SK). Suggested parameters to start with:\n",
        "    - g-CaLVA = 0.0005\n",
        "    - g-CaHVA = 0.0007\n",
        "    - decayCa = 85\n",
        "    - gammaCa = 0.003\n",
        "    - g-SK = 9.5e-2\n",
        "\n",
        "Refine the rheobase and the slope of the FI curve. Some principles:\n",
        "- Changing Ca-HVA + SK affects the F values at higher I values, thus changing the slope.\n",
        "- Increasing NaP generally decreases the rheobase.\n",
        "\n",
        "3. When tuning is done, make sure PP properties are unchanged."
      ]
    },
    {
      "cell_type": "code",
      "execution_count": 16,
      "metadata": {
        "id": "LNwzcdb5coNp"
      },
      "outputs": [],
      "source": [
        "def count_voltage_events(t, v):\n",
        "    \"\"\"\n",
        "    Counts the number of times the voltage goes above -20 mV and the slope changes from positive to negative.\n",
        "\n",
        "    Args:\n",
        "        t: A NumPy array of time points.\n",
        "        v: A NumPy array of voltage values.\n",
        "\n",
        "    Returns:\n",
        "        The number of events.\n",
        "    \"\"\"\n",
        "\n",
        "    # Calculate the slope of the voltage\n",
        "    slope = np.diff(v)\n",
        "\n",
        "    # Find the indices where the voltage is above -20 mV\n",
        "    above_threshold_indices = np.where(v[:-1] > -20)[0]\n",
        "\n",
        "    # Find the indices where the slope changes from positive to negative\n",
        "    positive_to_negative_indices = np.where((slope[:-1] > 0) & (slope[1:] < 0))[0]\n",
        "\n",
        "    # Find the intersection of the two sets of indices\n",
        "    event_indices = np.intersect1d(above_threshold_indices, positive_to_negative_indices)\n",
        "\n",
        "    return len(event_indices)"
      ]
    },
    {
      "cell_type": "code",
      "execution_count": null,
      "metadata": {
        "id": "7JBME3b3coNp",
        "outputId": "3e2c2b59-83a5-4055-9391-f04e8cc4402d"
      },
      "outputs": [
        {
          "name": "stdout",
          "output_type": "stream",
          "text": [
            "warning ./Sst-IRES-Cre_Ai14-188740.03.02.01_657210399_m.swc: more than one tree:\n",
            "  root at line 4\n",
            "  root at line 14504\n",
            "  root at line 14725\n",
            "  root at line 14798\n",
            "  root at line 15141\n",
            "  root at line 15144\n",
            "  root at line 15156\n",
            "  root at line 15211\n",
            "  root at line 15318\n",
            "  root at line 15496\n",
            "  root at line 15811\n",
            "  root at line 15857\n",
            "  root at line 15883\n",
            "  root at line 16161\n",
            "  root at line 16200\n",
            "  root at line 16210\n",
            "  root at line 16253\n",
            "  root at line 16286\n",
            "  root at line 16301\n",
            "  root at line 16326\n",
            "  root at line 16574\n",
            "  root at line 16613\n",
            "  root at line 16618\n",
            "  root at line 16645\n",
            "  root at line 16695\n",
            "  root at line 16751\n",
            "  root at line 16765\n",
            "  root at line 16768\n",
            "warning ./Sst-IRES-Cre_Ai14-188740.03.02.01_657210399_m.swc: more than one tree:\n",
            "  root at line 4\n",
            "  root at line 14504\n",
            "  root at line 14725\n",
            "  root at line 14798\n",
            "  root at line 15141\n",
            "  root at line 15144\n",
            "  root at line 15156\n",
            "  root at line 15211\n",
            "  root at line 15318\n",
            "  root at line 15496\n",
            "  root at line 15811\n",
            "  root at line 15857\n",
            "  root at line 15883\n",
            "  root at line 16161\n",
            "  root at line 16200\n",
            "  root at line 16210\n",
            "  root at line 16253\n",
            "  root at line 16286\n",
            "  root at line 16301\n",
            "  root at line 16326\n",
            "  root at line 16574\n",
            "  root at line 16613\n",
            "  root at line 16618\n",
            "  root at line 16645\n",
            "  root at line 16695\n",
            "  root at line 16751\n",
            "  root at line 16765\n",
            "  root at line 16768\n",
            "warning ./Sst-IRES-Cre_Ai14-188740.03.02.01_657210399_m.swc: more than one tree:\n",
            "  root at line 4\n",
            "  root at line 14504\n",
            "  root at line 14725\n",
            "  root at line 14798\n",
            "  root at line 15141\n",
            "  root at line 15144\n",
            "  root at line 15156\n",
            "  root at line 15211\n",
            "  root at line 15318\n",
            "  root at line 15496\n",
            "  root at line 15811\n",
            "  root at line 15857\n",
            "  root at line 15883\n",
            "  root at line 16161\n",
            "  root at line 16200\n",
            "  root at line 16210\n",
            "  root at line 16253\n",
            "  root at line 16286\n",
            "  root at line 16301\n",
            "  root at line 16326\n",
            "  root at line 16574\n",
            "  root at line 16613\n",
            "  root at line 16618\n",
            "  root at line 16645\n",
            "  root at line 16695\n",
            "  root at line 16751\n",
            "  root at line 16765\n",
            "  root at line 16768\n",
            "warning ./Sst-IRES-Cre_Ai14-188740.03.02.01_657210399_m.swc: more than one tree:\n",
            "  root at line 4\n",
            "  root at line 14504\n",
            "  root at line 14725\n",
            "  root at line 14798\n",
            "  root at line 15141\n",
            "  root at line 15144\n",
            "  root at line 15156\n",
            "  root at line 15211\n",
            "  root at line 15318\n",
            "  root at line 15496\n",
            "  root at line 15811\n",
            "  root at line 15857\n",
            "  root at line 15883\n",
            "  root at line 16161\n",
            "  root at line 16200\n",
            "  root at line 16210\n",
            "  root at line 16253\n",
            "  root at line 16286\n",
            "  root at line 16301\n",
            "  root at line 16326\n",
            "  root at line 16574\n",
            "  root at line 16613\n",
            "  root at line 16618\n",
            "  root at line 16645\n",
            "  root at line 16695\n",
            "  root at line 16751\n",
            "  root at line 16765\n",
            "  root at line 16768\n",
            "warning ./Sst-IRES-Cre_Ai14-188740.03.02.01_657210399_m.swc: more than one tree:\n",
            "  root at line 4\n",
            "  root at line 14504\n",
            "  root at line 14725\n",
            "  root at line 14798\n",
            "  root at line 15141\n",
            "  root at line 15144\n",
            "  root at line 15156\n",
            "  root at line 15211\n",
            "  root at line 15318\n",
            "  root at line 15496\n",
            "  root at line 15811\n",
            "  root at line 15857\n",
            "  root at line 15883\n",
            "  root at line 16161\n",
            "  root at line 16200\n",
            "  root at line 16210\n",
            "  root at line 16253\n",
            "  root at line 16286\n",
            "  root at line 16301\n",
            "  root at line 16326\n",
            "  root at line 16574\n",
            "  root at line 16613\n",
            "  root at line 16618\n",
            "  root at line 16645\n",
            "  root at line 16695\n",
            "  root at line 16751\n",
            "  root at line 16765\n",
            "  root at line 16768\n",
            "warning ./Sst-IRES-Cre_Ai14-188740.03.02.01_657210399_m.swc: more than one tree:\n",
            "  root at line 4\n",
            "  root at line 14504\n",
            "  root at line 14725\n",
            "  root at line 14798\n",
            "  root at line 15141\n",
            "  root at line 15144\n",
            "  root at line 15156\n",
            "  root at line 15211\n",
            "  root at line 15318\n",
            "  root at line 15496\n",
            "  root at line 15811\n",
            "  root at line 15857\n",
            "  root at line 15883\n",
            "  root at line 16161\n",
            "  root at line 16200\n",
            "  root at line 16210\n",
            "  root at line 16253\n",
            "  root at line 16286\n",
            "  root at line 16301\n",
            "  root at line 16326\n",
            "  root at line 16574\n",
            "  root at line 16613\n",
            "  root at line 16618\n",
            "  root at line 16645\n",
            "  root at line 16695\n",
            "  root at line 16751\n",
            "  root at line 16765\n",
            "  root at line 16768\n",
            "warning ./Sst-IRES-Cre_Ai14-188740.03.02.01_657210399_m.swc: more than one tree:\n",
            "  root at line 4\n",
            "  root at line 14504\n",
            "  root at line 14725\n",
            "  root at line 14798\n",
            "  root at line 15141\n",
            "  root at line 15144\n",
            "  root at line 15156\n",
            "  root at line 15211\n",
            "  root at line 15318\n",
            "  root at line 15496\n",
            "  root at line 15811\n",
            "  root at line 15857\n",
            "  root at line 15883\n",
            "  root at line 16161\n",
            "  root at line 16200\n",
            "  root at line 16210\n",
            "  root at line 16253\n",
            "  root at line 16286\n",
            "  root at line 16301\n",
            "  root at line 16326\n",
            "  root at line 16574\n",
            "  root at line 16613\n",
            "  root at line 16618\n",
            "  root at line 16645\n",
            "  root at line 16695\n",
            "  root at line 16751\n",
            "  root at line 16765\n",
            "  root at line 16768\n",
            "warning ./Sst-IRES-Cre_Ai14-188740.03.02.01_657210399_m.swc: more than one tree:\n",
            "  root at line 4\n",
            "  root at line 14504\n",
            "  root at line 14725\n",
            "  root at line 14798\n",
            "  root at line 15141\n",
            "  root at line 15144\n",
            "  root at line 15156\n",
            "  root at line 15211\n",
            "  root at line 15318\n",
            "  root at line 15496\n",
            "  root at line 15811\n",
            "  root at line 15857\n",
            "  root at line 15883\n",
            "  root at line 16161\n",
            "  root at line 16200\n",
            "  root at line 16210\n",
            "  root at line 16253\n",
            "  root at line 16286\n",
            "  root at line 16301\n",
            "  root at line 16326\n",
            "  root at line 16574\n",
            "  root at line 16613\n",
            "  root at line 16618\n",
            "  root at line 16645\n",
            "  root at line 16695\n",
            "  root at line 16751\n",
            "  root at line 16765\n",
            "  root at line 16768\n",
            "warning ./Sst-IRES-Cre_Ai14-188740.03.02.01_657210399_m.swc: more than one tree:\n",
            "  root at line 4\n",
            "  root at line 14504\n",
            "  root at line 14725\n",
            "  root at line 14798\n",
            "  root at line 15141\n",
            "  root at line 15144\n",
            "  root at line 15156\n",
            "  root at line 15211\n",
            "  root at line 15318\n",
            "  root at line 15496\n",
            "  root at line 15811\n",
            "  root at line 15857\n",
            "  root at line 15883\n",
            "  root at line 16161\n",
            "  root at line 16200\n",
            "  root at line 16210\n",
            "  root at line 16253\n",
            "  root at line 16286\n",
            "  root at line 16301\n",
            "  root at line 16326\n",
            "  root at line 16574\n",
            "  root at line 16613\n",
            "  root at line 16618\n",
            "  root at line 16645\n",
            "  root at line 16695\n",
            "  root at line 16751\n",
            "  root at line 16765\n",
            "  root at line 16768\n"
          ]
        }
      ],
      "source": [
        "frequenies = []\n",
        "amps = [-0.1, -0.05, 0, 0.05, 0.1, 0.15, 0.2, 0.25, 0.3]\n",
        "\n",
        "for amp in amps:\n",
        "    h, stim = set_simulation(amp)\n",
        "    v = h.Vector().record(h.soma[0](0.5)._ref_v)\n",
        "    h.finitialize()\n",
        "    h.run()\n",
        "    frequenies.append(count_voltage_events(np.arange(len(v.as_numpy()))[2990:13010], v.as_numpy()[2990:13010]))"
      ]
    },
    {
      "cell_type": "code",
      "execution_count": null,
      "metadata": {
        "id": "K4cniKgscoNp",
        "outputId": "38b815c4-e0be-4479-d43a-1df60beddb6d"
      },
      "outputs": [
        {
          "name": "stdout",
          "output_type": "stream",
          "text": [
            "-0.1: 0\n",
            "-0.05: 0\n",
            "0: 0\n",
            "0.05: 8\n",
            "0.1: 29\n",
            "0.15: 47\n",
            "0.2: 59\n",
            "0.25: 71\n",
            "0.3: 73\n"
          ]
        }
      ],
      "source": [
        "for a, f in zip(amps, frequenies):\n",
        "    print(f\"{a}: {f}\")"
      ]
    },
    {
      "cell_type": "code",
      "execution_count": null,
      "metadata": {
        "id": "UuYQLSbHcoNp",
        "outputId": "9ec08b45-c442-4d1f-a1d0-c91d49afae87"
      },
      "outputs": [
        {
          "data": {
            "text/plain": [
              "[<matplotlib.lines.Line2D at 0x16ef243a0>]"
            ]
          },
          "execution_count": 288,
          "metadata": {},
          "output_type": "execute_result"
        },
        {
          "data": {
            "image/png": "[encoded data removed]",
            "text/plain": [
              "<Figure size 640x480 with 1 Axes>"
            ]
          },
          "metadata": {},
          "output_type": "display_data"
        }
      ],
      "source": [
        "# Change NaP to shift rheobase\n",
        "# Change SK to change slope\n",
        "plt.plot(amps, frequenies)"
      ]
    },
    {
      "cell_type": "code",
      "execution_count": null,
      "metadata": {
        "id": "czil2tH8coNp",
        "outputId": "58a928ce-1662-49ab-bacd-2d4e4487bbed"
      },
      "outputs": [
        {
          "data": {
            "text/plain": [
              "[<matplotlib.lines.Line2D at 0x16ecc0700>]"
            ]
          },
          "execution_count": 266,
          "metadata": {},
          "output_type": "execute_result"
        },
        {
          "data": {
            "image/png": "[encoded data removed]",
            "text/plain": [
              "<Figure size 640x480 with 1 Axes>"
            ]
          },
          "metadata": {},
          "output_type": "display_data"
        }
      ],
      "source": [
        "plt.plot(v.as_numpy()[::10])"
      ]
    },
    {
      "cell_type": "code",
      "execution_count": null,
      "metadata": {
        "id": "466cc8GPcoNq"
      },
      "outputs": [],
      "source": []
    }
  ],
  "metadata": {
    "colab": {
      "provenance": []
    },
    "kernelspec": {
      "display_name": "simulations",
      "language": "python",
      "name": "python3"
    },
    "language_info": {
      "codemirror_mode": {
        "name": "ipython",
        "version": 3
      },
      "file_extension": ".py",
      "mimetype": "text/x-python",
      "name": "python",
      "nbconvert_exporter": "python",
      "pygments_lexer": "ipython3",
      "version": "3.10.13"
    }
  },
  "nbformat": 4,
  "nbformat_minor": 0
}
