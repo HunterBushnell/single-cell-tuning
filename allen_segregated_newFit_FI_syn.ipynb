{
  "cells": [
    {
      "cell_type": "markdown",
      "metadata": {
        "id": "view-in-github",
        "colab_type": "text"
      },
      "source": [
        "<a href=\"https://colab.research.google.com/github/davidfague/single-cell-tuning/blob/main/allen_segregated_newFit_FI_syn.ipynb\" target=\"_parent\"><img src=\"https://colab.research.google.com/assets/colab-badge.svg\" alt=\"Open In Colab\"/></a>"
      ]
    },
    {
      "cell_type": "markdown",
      "metadata": {
        "id": "ya_Dey7zuksy"
      },
      "source": [
        "# Downloading and building cells from AllenDB\n",
        "\n",
        "Useful links:\n",
        "1. [Database](http://celltypes.brain-map.org/data)\n",
        "2. [Downloading biophysical models](https://allensdk.readthedocs.io/en/latest/biophysical_models.html)\n",
        "3. [Example on building cells](https://alleninstitute.github.io/AllenSDK/_static/examples/nb/pulse_stimulus.html)"
      ]
    },
    {
      "cell_type": "code",
      "execution_count": null,
      "metadata": {
        "colab": {
          "base_uri": "https://localhost:8080/"
        },
        "id": "ni3ndt_-kYPm",
        "outputId": "2d407f38-3545-41ca-ab8f-543fa2682cc7"
      },
      "outputs": [
        {
          "output_type": "stream",
          "name": "stdout",
          "text": [
            "Requirement already satisfied: pip in /usr/local/lib/python3.11/dist-packages (24.1.2)\n",
            "Collecting pip\n",
            "  Downloading pip-25.0.1-py3-none-any.whl.metadata (3.7 kB)\n",
            "Downloading pip-25.0.1-py3-none-any.whl (1.8 MB)\n",
            "\u001b[2K   \u001b[90m━━━━━━━━━━━━━━━━━━━━━━━━━━━━━━━━━━━━━━━━\u001b[0m \u001b[32m1.8/1.8 MB\u001b[0m \u001b[31m12.6 MB/s\u001b[0m eta \u001b[36m0:00:00\u001b[0m\n",
            "\u001b[?25hInstalling collected packages: pip\n",
            "  Attempting uninstall: pip\n",
            "    Found existing installation: pip 24.1.2\n",
            "    Uninstalling pip-24.1.2:\n",
            "      Successfully uninstalled pip-24.1.2\n",
            "Successfully installed pip-25.0.1\n",
            "  Installing build dependencies ... \u001b[?25l\u001b[?25hdone\n",
            "  Getting requirements to build wheel ... \u001b[?25l\u001b[?25hdone\n",
            "  Preparing metadata (pyproject.toml) ... \u001b[?25l\u001b[?25hdone\n",
            "\u001b[2K   \u001b[90m━━━━━━━━━━━━━━━━━━━━━━━━━━━━━━━━━━━━━━━━\u001b[0m \u001b[32m3.1/3.1 MB\u001b[0m \u001b[31m45.5 MB/s\u001b[0m eta \u001b[36m0:00:00\u001b[0m\n",
            "\u001b[2K   \u001b[90m━━━━━━━━━━━━━━━━━━━━━━━━━━━━━━━━━━━━━━━━\u001b[0m \u001b[32m12.0/12.0 MB\u001b[0m \u001b[31m110.4 MB/s\u001b[0m eta \u001b[36m0:00:00\u001b[0m\n",
            "\u001b[2K   \u001b[90m━━━━━━━━━━━━━━━━━━━━━━━━━━━━━━━━━━━━━━━━\u001b[0m \u001b[32m15.2/15.2 MB\u001b[0m \u001b[31m94.2 MB/s\u001b[0m eta \u001b[36m0:00:00\u001b[0m\n",
            "\u001b[2K   \u001b[90m━━━━━━━━━━━━━━━━━━━━━━━━━━━━━━━━━━━━━━━━\u001b[0m \u001b[32m17.1/17.1 MB\u001b[0m \u001b[31m109.1 MB/s\u001b[0m eta \u001b[36m0:00:00\u001b[0m\n",
            "\u001b[2K   \u001b[90m━━━━━━━━━━━━━━━━━━━━━━━━━━━━━━━━━━━━━━━━\u001b[0m \u001b[32m34.1/34.1 MB\u001b[0m \u001b[31m48.1 MB/s\u001b[0m eta \u001b[36m0:00:00\u001b[0m\n",
            "\u001b[2K   \u001b[90m━━━━━━━━━━━━━━━━━━━━━━━━━━━━━━━━━━━━━━━━\u001b[0m \u001b[32m973.1/973.1 kB\u001b[0m \u001b[31m28.2 MB/s\u001b[0m eta \u001b[36m0:00:00\u001b[0m\n",
            "\u001b[2K   \u001b[90m━━━━━━━━━━━━━━━━━━━━━━━━━━━━━━━━━━━━━━━━\u001b[0m \u001b[32m2.7/2.7 MB\u001b[0m \u001b[31m63.9 MB/s\u001b[0m eta \u001b[36m0:00:00\u001b[0m\n",
            "\u001b[2K   \u001b[90m━━━━━━━━━━━━━━━━━━━━━━━━━━━━━━━━━━━━━━━━\u001b[0m \u001b[32m1.4/1.4 MB\u001b[0m \u001b[31m43.3 MB/s\u001b[0m eta \u001b[36m0:00:00\u001b[0m\n",
            "\u001b[2K   \u001b[90m━━━━━━━━━━━━━━━━━━━━━━━━━━━━━━━━━━━━━━━━\u001b[0m \u001b[32m3.0/3.0 MB\u001b[0m \u001b[31m72.8 MB/s\u001b[0m eta \u001b[36m0:00:00\u001b[0m\n",
            "\u001b[2K   \u001b[90m━━━━━━━━━━━━━━━━━━━━━━━━━━━━━━━━━━━━━━━━\u001b[0m \u001b[32m14.9/14.9 MB\u001b[0m \u001b[31m96.6 MB/s\u001b[0m eta \u001b[36m0:00:00\u001b[0m\n",
            "\u001b[2K   \u001b[90m━━━━━━━━━━━━━━━━━━━━━━━━━━━━━━━━━━━━━━━━\u001b[0m \u001b[32m52.3/52.3 MB\u001b[0m \u001b[31m50.1 MB/s\u001b[0m eta \u001b[36m0:00:00\u001b[0m\n",
            "\u001b[2K   \u001b[90m━━━━━━━━━━━━━━━━━━━━━━━━━━━━━━━━━━━━━━━━\u001b[0m \u001b[32m4.4/4.4 MB\u001b[0m \u001b[31m87.4 MB/s\u001b[0m eta \u001b[36m0:00:00\u001b[0m\n",
            "\u001b[2K   \u001b[90m━━━━━━━━━━━━━━━━━━━━━━━━━━━━━━━━━━━━━━━━\u001b[0m \u001b[32m13.3/13.3 MB\u001b[0m \u001b[31m123.5 MB/s\u001b[0m eta \u001b[36m0:00:00\u001b[0m\n",
            "\u001b[2K   \u001b[90m━━━━━━━━━━━━━━━━━━━━━━━━━━━━━━━━━━━━━━━━\u001b[0m \u001b[32m739.1/739.1 kB\u001b[0m \u001b[31m23.6 MB/s\u001b[0m eta \u001b[36m0:00:00\u001b[0m\n",
            "\u001b[?25h  Building wheel for argschema (pyproject.toml) ... \u001b[?25l\u001b[?25hdone\n",
            "\u001b[31mERROR: pip's dependency resolver does not currently take into account all the packages that are installed. This behaviour is the source of the following dependency conflicts.\n",
            "google-colab 1.0.0 requires pandas==2.2.2, but you have pandas 1.5.3 which is incompatible.\n",
            "plotnine 0.14.5 requires pandas>=2.2.0, but you have pandas 1.5.3 which is incompatible.\n",
            "numba 0.61.0 requires numpy<2.2,>=1.24, but you have numpy 1.23.5 which is incompatible.\n",
            "imbalanced-learn 0.13.0 requires numpy<3,>=1.24.3, but you have numpy 1.23.5 which is incompatible.\n",
            "pymc 5.20.0 requires numpy>=1.25.0, but you have numpy 1.23.5 which is incompatible.\n",
            "jaxlib 0.4.33 requires numpy>=1.24, but you have numpy 1.23.5 which is incompatible.\n",
            "albumentations 2.0.3 requires numpy>=1.24.4, but you have numpy 1.23.5 which is incompatible.\n",
            "albucore 0.0.23 requires numpy>=1.24.4, but you have numpy 1.23.5 which is incompatible.\n",
            "jax 0.4.33 requires numpy>=1.24, but you have numpy 1.23.5 which is incompatible.\n",
            "cudf-cu12 24.12.0 requires pandas<2.2.4dev0,>=2.0, but you have pandas 1.5.3 which is incompatible.\n",
            "bigframes 1.35.0 requires numpy>=1.24.0, but you have numpy 1.23.5 which is incompatible.\n",
            "tensorflow 2.18.0 requires numpy<2.1.0,>=1.26.0, but you have numpy 1.23.5 which is incompatible.\n",
            "chex 0.1.88 requires numpy>=1.24.1, but you have numpy 1.23.5 which is incompatible.\n",
            "mizani 0.13.1 requires pandas>=2.2.0, but you have pandas 1.5.3 which is incompatible.\u001b[0m\u001b[31m\n",
            "\u001b[0m"
          ]
        }
      ],
      "source": [
        "!pip install --upgrade pip\n",
        "!pip install --quiet allensdk neuron"
      ]
    },
    {
      "cell_type": "code",
      "execution_count": null,
      "metadata": {
        "id": "Fg6QlbRJvcha"
      },
      "outputs": [],
      "source": [
        "from allensdk.api.queries.biophysical_api import BiophysicalApi\n",
        "from allensdk.model.biophys_sim.config import Config\n",
        "from allensdk.model.biophysical.utils import Utils\n",
        "import os\n",
        "import json\n",
        "import matplotlib.pyplot as plt"
      ]
    },
    {
      "cell_type": "markdown",
      "metadata": {
        "id": "nLm0naZ1vfRB"
      },
      "source": [
        "## Download the cell"
      ]
    },
    {
      "cell_type": "code",
      "execution_count": null,
      "metadata": {
        "colab": {
          "base_uri": "https://localhost:8080/"
        },
        "id": "jz0Svcsdlxk7",
        "outputId": "9c2b1372-12c7-45e1-bf5a-9a2b1a2a3d3c"
      },
      "outputs": [
        {
          "output_type": "execute_result",
          "data": {
            "text/plain": [
              "[{'id': 477878284,\n",
              "  'name': 'Biophysical - perisomatic_Sst-IRES-Cre;Ai14-188740.03.02.01',\n",
              "  'neuron_reconstruction_id': 491119369,\n",
              "  'neuronal_model_template_id': 329230710,\n",
              "  'specimen_id': 476686112},\n",
              " {'id': 497232660,\n",
              "  'name': 'Biophysical - all active_Sst-IRES-Cre;Ai14-188740.03.02.01',\n",
              "  'neuron_reconstruction_id': 491119369,\n",
              "  'neuronal_model_template_id': 491455321,\n",
              "  'specimen_id': 476686112}]"
            ]
          },
          "metadata": {},
          "execution_count": 3
        }
      ],
      "source": [
        "bp = BiophysicalApi()\n",
        "specimen_id = 476686112\n",
        "# Mouse Layer 5 Primary visual area neuron\n",
        "# http://celltypes.brain-map.org/experiment/electrophysiology/476686112\n",
        "bp.get_neuronal_models(specimen_id)"
      ]
    },
    {
      "cell_type": "code",
      "execution_count": null,
      "metadata": {
        "colab": {
          "base_uri": "https://localhost:8080/"
        },
        "id": "TiL4l6WVl8eN",
        "outputId": "01746864-b08f-4170-ad6b-045f18a2448f"
      },
      "outputs": [
        {
          "output_type": "stream",
          "name": "stderr",
          "text": [
            "2025-02-13 19:32:16,646 allensdk.api.api.retrieve_file_over_http INFO     Downloading URL: http://api.brain-map.org/api/v2/well_known_file_download/657210401\n",
            "INFO:allensdk.api.api.retrieve_file_over_http:Downloading URL: http://api.brain-map.org/api/v2/well_known_file_download/657210401\n",
            "2025-02-13 19:32:20,072 allensdk.api.api.retrieve_file_over_http INFO     Downloading URL: http://api.brain-map.org/api/v2/well_known_file_download/657210404\n",
            "INFO:allensdk.api.api.retrieve_file_over_http:Downloading URL: http://api.brain-map.org/api/v2/well_known_file_download/657210404\n",
            "2025-02-13 19:32:20,244 allensdk.api.api.retrieve_file_over_http INFO     Downloading URL: http://api.brain-map.org/api/v2/well_known_file_download/395337293\n",
            "INFO:allensdk.api.api.retrieve_file_over_http:Downloading URL: http://api.brain-map.org/api/v2/well_known_file_download/395337293\n",
            "2025-02-13 19:32:24,168 allensdk.api.api.retrieve_file_over_http INFO     Downloading URL: http://api.brain-map.org/api/v2/well_known_file_download/395337054\n",
            "INFO:allensdk.api.api.retrieve_file_over_http:Downloading URL: http://api.brain-map.org/api/v2/well_known_file_download/395337054\n",
            "2025-02-13 19:32:24,335 allensdk.api.api.retrieve_file_over_http INFO     Downloading URL: http://api.brain-map.org/api/v2/well_known_file_download/395337225\n",
            "INFO:allensdk.api.api.retrieve_file_over_http:Downloading URL: http://api.brain-map.org/api/v2/well_known_file_download/395337225\n",
            "2025-02-13 19:32:24,491 allensdk.api.api.retrieve_file_over_http INFO     Downloading URL: http://api.brain-map.org/api/v2/well_known_file_download/395337019\n",
            "INFO:allensdk.api.api.retrieve_file_over_http:Downloading URL: http://api.brain-map.org/api/v2/well_known_file_download/395337019\n",
            "2025-02-13 19:32:24,620 allensdk.api.api.retrieve_file_over_http INFO     Downloading URL: http://api.brain-map.org/api/v2/well_known_file_download/395337003\n",
            "INFO:allensdk.api.api.retrieve_file_over_http:Downloading URL: http://api.brain-map.org/api/v2/well_known_file_download/395337003\n",
            "2025-02-13 19:32:24,748 allensdk.api.api.retrieve_file_over_http INFO     Downloading URL: http://api.brain-map.org/api/v2/well_known_file_download/395337050\n",
            "INFO:allensdk.api.api.retrieve_file_over_http:Downloading URL: http://api.brain-map.org/api/v2/well_known_file_download/395337050\n",
            "2025-02-13 19:32:24,898 allensdk.api.api.retrieve_file_over_http INFO     Downloading URL: http://api.brain-map.org/api/v2/well_known_file_download/395337042\n",
            "INFO:allensdk.api.api.retrieve_file_over_http:Downloading URL: http://api.brain-map.org/api/v2/well_known_file_download/395337042\n",
            "2025-02-13 19:32:25,069 allensdk.api.api.retrieve_file_over_http INFO     Downloading URL: http://api.brain-map.org/api/v2/well_known_file_download/395337011\n",
            "INFO:allensdk.api.api.retrieve_file_over_http:Downloading URL: http://api.brain-map.org/api/v2/well_known_file_download/395337011\n",
            "2025-02-13 19:32:25,203 allensdk.api.api.retrieve_file_over_http INFO     Downloading URL: http://api.brain-map.org/api/v2/well_known_file_download/395337046\n",
            "INFO:allensdk.api.api.retrieve_file_over_http:Downloading URL: http://api.brain-map.org/api/v2/well_known_file_download/395337046\n",
            "2025-02-13 19:32:25,436 allensdk.api.api.retrieve_file_over_http INFO     Downloading URL: http://api.brain-map.org/api/v2/well_known_file_download/395337015\n",
            "INFO:allensdk.api.api.retrieve_file_over_http:Downloading URL: http://api.brain-map.org/api/v2/well_known_file_download/395337015\n",
            "2025-02-13 19:32:25,574 allensdk.api.api.retrieve_file_over_http INFO     Downloading URL: http://api.brain-map.org/api/v2/well_known_file_download/395337066\n",
            "INFO:allensdk.api.api.retrieve_file_over_http:Downloading URL: http://api.brain-map.org/api/v2/well_known_file_download/395337066\n",
            "2025-02-13 19:32:25,721 allensdk.api.api.retrieve_file_over_http INFO     Downloading URL: http://api.brain-map.org/api/v2/well_known_file_download/464138096\n",
            "INFO:allensdk.api.api.retrieve_file_over_http:Downloading URL: http://api.brain-map.org/api/v2/well_known_file_download/464138096\n",
            "2025-02-13 19:32:29,886 allensdk.api.api.retrieve_file_over_http INFO     Downloading URL: http://api.brain-map.org/api/v2/well_known_file_download/395337007\n",
            "INFO:allensdk.api.api.retrieve_file_over_http:Downloading URL: http://api.brain-map.org/api/v2/well_known_file_download/395337007\n",
            "2025-02-13 19:32:30,019 allensdk.api.api.retrieve_file_over_http INFO     Downloading URL: http://api.brain-map.org/api/v2/well_known_file_download/395337062\n",
            "INFO:allensdk.api.api.retrieve_file_over_http:Downloading URL: http://api.brain-map.org/api/v2/well_known_file_download/395337062\n",
            "2025-02-13 19:32:30,174 allensdk.api.api.retrieve_file_over_http INFO     Downloading URL: http://api.brain-map.org/api/v2/well_known_file_download/491113425\n",
            "INFO:allensdk.api.api.retrieve_file_over_http:Downloading URL: http://api.brain-map.org/api/v2/well_known_file_download/491113425\n",
            "2025-02-13 19:32:32,245 allensdk.api.api.retrieve_file_over_http INFO     Downloading URL: http://api.brain-map.org/api/v2/well_known_file_download/395337070\n",
            "INFO:allensdk.api.api.retrieve_file_over_http:Downloading URL: http://api.brain-map.org/api/v2/well_known_file_download/395337070\n",
            "2025-02-13 19:32:32,386 allensdk.api.api.retrieve_file_over_http INFO     Downloading URL: http://api.brain-map.org/api/v2/well_known_file_download/497236694\n",
            "INFO:allensdk.api.api.retrieve_file_over_http:Downloading URL: http://api.brain-map.org/api/v2/well_known_file_download/497236694\n"
          ]
        }
      ],
      "source": [
        "# Download the cell with passive dendrites\n",
        "bp.cache_stimulus = False # Change to False to not download the large stimulus NWB file\n",
        "bp.cache_data(477878284) # 'id'"
      ]
    },
    {
      "cell_type": "code",
      "source": [
        "# saving the original _fit.json instead.\n",
        "\n",
        "# # store original values\n",
        "# description = Config().load('manifest.json')\n",
        "# utils = Utils(description)\n",
        "# original_fit = utils.description.data\n",
        "# del utils\n",
        "# del description"
      ],
      "metadata": {
        "id": "Nb3wJGCobRdh"
      },
      "execution_count": null,
      "outputs": []
    },
    {
      "cell_type": "markdown",
      "source": [
        "## use segregated modfiles"
      ],
      "metadata": {
        "id": "0FbAS5GMrtvG"
      }
    },
    {
      "cell_type": "code",
      "source": [
        "# replace the modfiles with 'segregated' so the ion channels are 100% closed at voltages that they should not be active at\n",
        "segregate_modfiles = True\n",
        "if segregate_modfiles:\n",
        "  import shutil\n",
        "  shutil.rmtree(\"modfiles/\")\n",
        "  !git clone -b release_candidate https://github.com/V-Marco/ACT/\n",
        "  # move the modfiles from the other repo\n",
        "  # https://github.com/V-Marco/ACT/tree/release_candidate/data/SST/seg/modfiles -> /content/modfiles\n",
        "  !mv ACT/data/SST/seg/modfiles/ /content/modfiles/"
      ],
      "metadata": {
        "colab": {
          "base_uri": "https://localhost:8080/"
        },
        "id": "atSrnPryrtAs",
        "outputId": "62d1a931-73bc-458a-aa0a-2eefbd6f5201"
      },
      "execution_count": null,
      "outputs": [
        {
          "output_type": "stream",
          "name": "stdout",
          "text": [
            "Cloning into 'ACT'...\n",
            "remote: Enumerating objects: 4382, done.\u001b[K\n",
            "remote: Counting objects: 100% (409/409), done.\u001b[K\n",
            "remote: Compressing objects: 100% (292/292), done.\u001b[K\n",
            "remote: Total 4382 (delta 193), reused 259 (delta 98), pack-reused 3973 (from 1)\u001b[K\n",
            "Receiving objects: 100% (4382/4382), 153.06 MiB | 20.14 MiB/s, done.\n",
            "Resolving deltas: 100% (2011/2011), done.\n"
          ]
        }
      ]
    },
    {
      "cell_type": "code",
      "source": [
        "# get synapse modfiles # do here to compile them with the rest.\n",
        "\n",
        "if not 'vecevent.mod' in os.listdir(\"modfiles\"):\n",
        "  !git clone https://github.com/davidfague/Neural-Modeling/\n",
        "  # move the modfiles from the other repo\n",
        "  # https://github.com/davidfague/Neural-Modeling/tree/release_candidate/data/SST/seg/modfiles/{synapse_modfiles} -> /content/modfiles/\n",
        "\n",
        "  !mv Neural-Modeling/modfiles/hay/AMPA_NMDA.mod /content/modfiles/\n",
        "  !mv Neural-Modeling/modfiles/hay/GABA_AB.mod /content/modfiles/\n",
        "  !mv Neural-Modeling/modfiles/hay/vecevent.mod /content/modfiles/"
      ],
      "metadata": {
        "colab": {
          "base_uri": "https://localhost:8080/"
        },
        "id": "MaHTgCWM3hqg",
        "outputId": "657334fe-217e-46c7-eb41-f137c823819f"
      },
      "execution_count": null,
      "outputs": [
        {
          "output_type": "stream",
          "name": "stdout",
          "text": [
            "Cloning into 'Neural-Modeling'...\n",
            "remote: Enumerating objects: 5133, done.\u001b[K\n",
            "remote: Counting objects: 100% (302/302), done.\u001b[K\n",
            "remote: Compressing objects: 100% (91/91), done.\u001b[K\n",
            "remote: Total 5133 (delta 256), reused 228 (delta 210), pack-reused 4831 (from 1)\u001b[K\n",
            "Receiving objects: 100% (5133/5133), 54.02 MiB | 23.60 MiB/s, done.\n",
            "Resolving deltas: 100% (3500/3500), done.\n"
          ]
        }
      ]
    },
    {
      "cell_type": "markdown",
      "source": [
        "## Update the fit.json if needed."
      ],
      "metadata": {
        "id": "EImQsI_iB5D_"
      }
    },
    {
      "cell_type": "code",
      "source": [
        "update_fit = True\n",
        "if update_fit:\n",
        "  # !git clone https://github.com/davidfague/single-cell-tuning.git # get the new file\n",
        "  !git clone https://github.com/cyneuro/single-cell-tuning.git # get the new file\n",
        "  !mv 476686112_fit.json 476686112_allen_fit.json # rename old to save it\n",
        "  !mv single-cell-tuning/476686112_fit.json 476686112_fit.json # replace the file\n",
        "\n",
        "  # alternatively, change the manifest"
      ],
      "metadata": {
        "colab": {
          "base_uri": "https://localhost:8080/"
        },
        "id": "-YPLCMQeB9-r",
        "outputId": "6b470dca-df2a-4b23-b09d-316d398a4b9e"
      },
      "execution_count": null,
      "outputs": [
        {
          "output_type": "stream",
          "name": "stdout",
          "text": [
            "Cloning into 'single-cell-tuning'...\n",
            "remote: Enumerating objects: 33, done.\u001b[K\n",
            "remote: Counting objects:   3% (1/33)\u001b[K\rremote: Counting objects:   6% (2/33)\u001b[K\rremote: Counting objects:   9% (3/33)\u001b[K\rremote: Counting objects:  12% (4/33)\u001b[K\rremote: Counting objects:  15% (5/33)\u001b[K\rremote: Counting objects:  18% (6/33)\u001b[K\rremote: Counting objects:  21% (7/33)\u001b[K\rremote: Counting objects:  24% (8/33)\u001b[K\rremote: Counting objects:  27% (9/33)\u001b[K\rremote: Counting objects:  30% (10/33)\u001b[K\rremote: Counting objects:  33% (11/33)\u001b[K\rremote: Counting objects:  36% (12/33)\u001b[K\rremote: Counting objects:  39% (13/33)\u001b[K\rremote: Counting objects:  42% (14/33)\u001b[K\rremote: Counting objects:  45% (15/33)\u001b[K\rremote: Counting objects:  48% (16/33)\u001b[K\rremote: Counting objects:  51% (17/33)\u001b[K\rremote: Counting objects:  54% (18/33)\u001b[K\rremote: Counting objects:  57% (19/33)\u001b[K\rremote: Counting objects:  60% (20/33)\u001b[K\rremote: Counting objects:  63% (21/33)\u001b[K\rremote: Counting objects:  66% (22/33)\u001b[K\rremote: Counting objects:  69% (23/33)\u001b[K\rremote: Counting objects:  72% (24/33)\u001b[K\rremote: Counting objects:  75% (25/33)\u001b[K\rremote: Counting objects:  78% (26/33)\u001b[K\rremote: Counting objects:  81% (27/33)\u001b[K\rremote: Counting objects:  84% (28/33)\u001b[K\rremote: Counting objects:  87% (29/33)\u001b[K\rremote: Counting objects:  90% (30/33)\u001b[K\rremote: Counting objects:  93% (31/33)\u001b[K\rremote: Counting objects:  96% (32/33)\u001b[K\rremote: Counting objects: 100% (33/33)\u001b[K\rremote: Counting objects: 100% (33/33), done.\u001b[K\n",
            "remote: Compressing objects: 100% (32/32), done.\u001b[K\n",
            "remote: Total 33 (delta 8), reused 0 (delta 0), pack-reused 0 (from 0)\u001b[K\n",
            "Receiving objects: 100% (33/33), 123.94 KiB | 1.77 MiB/s, done.\n",
            "Resolving deltas: 100% (8/8), done.\n"
          ]
        }
      ]
    },
    {
      "cell_type": "markdown",
      "metadata": {
        "id": "L6EW-xKqvmWg"
      },
      "source": [
        "## Build the cell"
      ]
    },
    {
      "cell_type": "code",
      "execution_count": null,
      "metadata": {
        "colab": {
          "base_uri": "https://localhost:8080/"
        },
        "id": "ohqoZc7OotdZ",
        "outputId": "85861c2d-c36f-494e-c968-eeb2cb21a1d9"
      },
      "outputs": [
        {
          "output_type": "stream",
          "name": "stdout",
          "text": [
            "/usr/local/bin/nrnivmodl:10: DeprecationWarning: pkg_resources is deprecated as an API. See https://setuptools.pypa.io/en/latest/pkg_resources.html\n",
            "  from pkg_resources import working_set\n",
            "/content\n",
            "Mod files: \"modfiles/modfiles/AMPA_NMDA.mod\" \"modfiles/modfiles/CaDynamics.mod\" \"modfiles/modfiles/Ca_HVA.mod\" \"modfiles/modfiles/Ca_LVA.mod\" \"modfiles/modfiles/GABA_AB.mod\" \"modfiles/modfiles/Ih.mod\" \"modfiles/modfiles/Im.mod\" \"modfiles/modfiles/Im_v2.mod\" \"modfiles/modfiles/Kd.mod\" \"modfiles/modfiles/K_P.mod\" \"modfiles/modfiles/K_T.mod\" \"modfiles/modfiles/Kv2like.mod\" \"modfiles/modfiles/Kv3_1.mod\" \"modfiles/modfiles/Nap.mod\" \"modfiles/modfiles/NaTa.mod\" \"modfiles/modfiles/NaTs.mod\" \"modfiles/modfiles/NaV.mod\" \"modfiles/modfiles/SK.mod\" \"modfiles/modfiles/vecevent.mod\"\n",
            "\n",
            "Creating 'x86_64' directory for .o files.\n",
            "\n",
            " -> \u001b[32mNMODL\u001b[0m ../modfiles/AMPA_NMDA.mod\n",
            " -> \u001b[32mCompiling\u001b[0m mod_func.cpp\n",
            " -> \u001b[32mNMODL\u001b[0m ../modfiles/CaDynamics.mod\n",
            " -> \u001b[32mNMODL\u001b[0m ../modfiles/Ca_HVA.mod\n",
            "Translating AMPA_NMDA.mod into /content/x86_64/AMPA_NMDA.c\n",
            "Translating CaDynamics.mod into /content/x86_64/CaDynamics.c\n",
            "Thread Safe\n",
            "Thread Safe\n",
            "Translating Ca_HVA.mod into /content/x86_64/Ca_HVA.c\n",
            " -> \u001b[32mNMODL\u001b[0m ../modfiles/Ca_LVA.mod\n",
            "Thread Safe\n",
            " -> \u001b[32mNMODL\u001b[0m ../modfiles/GABA_AB.mod\n",
            " -> \u001b[32mNMODL\u001b[0m ../modfiles/Ih.mod\n",
            "Translating Ca_LVA.mod into /content/x86_64/Ca_LVA.c\n",
            "Translating GABA_AB.mod into /content/x86_64/GABA_AB.c\n",
            "Thread Safe\n",
            "Translating Ih.mod into /content/x86_64/Ih.c\n",
            "Thread Safe\n",
            " -> \u001b[32mNMODL\u001b[0m ../modfiles/Im.mod\n",
            "Thread Safe\n",
            " -> \u001b[32mNMODL\u001b[0m ../modfiles/Im_v2.mod\n",
            " -> \u001b[32mNMODL\u001b[0m ../modfiles/Kd.mod\n",
            "Translating Im.mod into /content/x86_64/Im.c\n",
            "Translating Kd.mod into /content/x86_64/Kd.c\n",
            "Thread Safe\n",
            "Translating Im_v2.mod into /content/x86_64/Im_v2.c\n",
            " -> \u001b[32mNMODL\u001b[0m ../modfiles/K_P.mod\n",
            "Thread Safe\n",
            "Thread Safe\n",
            " -> \u001b[32mNMODL\u001b[0m ../modfiles/K_T.mod\n",
            "Translating K_P.mod into /content/x86_64/K_P.c\n",
            " -> \u001b[32mNMODL\u001b[0m ../modfiles/Kv2like.mod\n",
            "Thread Safe\n",
            " -> \u001b[32mNMODL\u001b[0m ../modfiles/Kv3_1.mod\n",
            "Translating Kv2like.mod into /content/x86_64/Kv2like.c\n",
            "Translating K_T.mod into /content/x86_64/K_T.c\n",
            "Thread Safe\n",
            "Thread Safe\n",
            " -> \u001b[32mNMODL\u001b[0m ../modfiles/Nap.mod\n",
            "Translating Kv3_1.mod into /content/x86_64/Kv3_1.c\n",
            " -> \u001b[32mNMODL\u001b[0m ../modfiles/NaTa.mod\n",
            "Thread Safe\n",
            " -> \u001b[32mNMODL\u001b[0m ../modfiles/NaTs.mod\n",
            "Translating Nap.mod into /content/x86_64/Nap.c\n",
            "Thread Safe\n",
            "Translating NaTa.mod into /content/x86_64/NaTa.c\n",
            "Thread Safe\n",
            "Translating NaTs.mod into /content/x86_64/NaTs.c\n",
            " -> \u001b[32mNMODL\u001b[0m ../modfiles/NaV.mod\n",
            "Thread Safe\n",
            " -> \u001b[32mNMODL\u001b[0m ../modfiles/SK.mod\n",
            " -> \u001b[32mNMODL\u001b[0m ../modfiles/vecevent.mod\n",
            "Translating NaV.mod into /content/x86_64/NaV.c\n",
            "Translating SK.mod into /content/x86_64/SK.c\n",
            "Thread Safe\n",
            "NEURON's CVode method ignores conservation\n",
            "Notice: LINEAR is not thread safe.\n",
            "Translating vecevent.mod into /content/x86_64/vecevent.c\n",
            "Notice: Use of POINTER is not thread safe.\n",
            "Notice: VERBATIM blocks are not thread safe\n",
            "Notice: ARTIFICIAL_CELL is a synonym for POINT_PROCESS which hints that it\n",
            "only affects and is affected by discrete events. As such it is not\n",
            "located in a section and is not associated with an integrator\n",
            " -> \u001b[32mCompiling\u001b[0m AMPA_NMDA.c\n",
            " -> \u001b[32mCompiling\u001b[0m CaDynamics.c\n",
            " -> \u001b[32mCompiling\u001b[0m Ca_HVA.c\n",
            " -> \u001b[32mCompiling\u001b[0m Ca_LVA.c\n",
            " -> \u001b[32mCompiling\u001b[0m GABA_AB.c\n",
            " -> \u001b[32mCompiling\u001b[0m Ih.c\n",
            " -> \u001b[32mCompiling\u001b[0m Im.c\n",
            " -> \u001b[32mCompiling\u001b[0m Im_v2.c\n",
            " -> \u001b[32mCompiling\u001b[0m Kd.c\n",
            " -> \u001b[32mCompiling\u001b[0m K_P.c\n",
            " -> \u001b[32mCompiling\u001b[0m K_T.c\n",
            " -> \u001b[32mCompiling\u001b[0m Kv2like.c\n",
            " -> \u001b[32mCompiling\u001b[0m Kv3_1.c\n",
            " -> \u001b[32mCompiling\u001b[0m Nap.c\n",
            " -> \u001b[32mCompiling\u001b[0m NaTa.c\n",
            " -> \u001b[32mCompiling\u001b[0m NaTs.c\n",
            " -> \u001b[32mCompiling\u001b[0m NaV.c\n",
            " -> \u001b[32mCompiling\u001b[0m SK.c\n",
            " -> \u001b[32mCompiling\u001b[0m vecevent.c\n",
            " => \u001b[32mLINKING\u001b[0m shared library ./libnrnmech.so\n",
            " => \u001b[32mLINKING\u001b[0m executable ./special LDFLAGS are:    -pthread\n",
            "Successfully created x86_64/special\n"
          ]
        }
      ],
      "source": [
        "# Compile the modfiles\n",
        "!nrnivmodl modfiles"
      ]
    },
    {
      "cell_type": "code",
      "source": [
        "# Create the h object\n",
        "description = Config().load('manifest.json')\n",
        "utils = Utils(description)\n",
        "h = utils.h\n",
        "\n",
        "# Convert all \"value\" attributes to floats\n",
        "for dict in utils.description.data['genome']:\n",
        "    for key, value in dict.items():\n",
        "        if key == 'value': dict[key] = float(value)"
      ],
      "metadata": {
        "id": "5CkSERj3_KMj"
      },
      "execution_count": null,
      "outputs": []
    },
    {
      "cell_type": "code",
      "execution_count": null,
      "metadata": {
        "id": "I1YIh3VKpgTq",
        "colab": {
          "base_uri": "https://localhost:8080/"
        },
        "outputId": "202d5597-6a63-4a20-8a85-3c580e393dc0"
      },
      "outputs": [
        {
          "output_type": "stream",
          "name": "stdout",
          "text": [
            "warning ./Sst-IRES-Cre_Ai14-188740.03.02.01_657210399_m.swc: more than one tree:\n",
            "  root at line 4\n",
            "  root at line 14504\n",
            "  root at line 14725\n",
            "  root at line 14798\n",
            "  root at line 15141\n",
            "  root at line 15144\n",
            "  root at line 15156\n",
            "  root at line 15211\n",
            "  root at line 15318\n",
            "  root at line 15496\n",
            "  root at line 15811\n",
            "  root at line 15857\n",
            "  root at line 15883\n",
            "  root at line 16161\n",
            "  root at line 16200\n",
            "  root at line 16210\n",
            "  root at line 16253\n",
            "  root at line 16286\n",
            "  root at line 16301\n",
            "  root at line 16326\n",
            "  root at line 16574\n",
            "  root at line 16613\n",
            "  root at line 16618\n",
            "  root at line 16645\n",
            "  root at line 16695\n",
            "  root at line 16751\n",
            "  root at line 16765\n",
            "  root at line 16768\n"
          ]
        }
      ],
      "source": [
        "# Configure morphology\n",
        "manifest = description.manifest\n",
        "morphology_path = description.manifest.get_path('MORPHOLOGY')\n",
        "utils.generate_morphology(morphology_path.encode('ascii', 'ignore'))\n",
        "utils.load_cell_parameters()"
      ]
    },
    {
      "cell_type": "markdown",
      "source": [
        "### MARK1"
      ],
      "metadata": {
        "id": "d2j1aJ4Ar01W"
      }
    },
    {
      "cell_type": "code",
      "source": [
        "# # try fitting passive properties\n",
        "# # Get this from the built cell\n",
        "# computed_soma_area = 5.036323076932052e-06 # (cm2)\n",
        "\n",
        "# user_provided_Rin = 195.4 * 1e6 # 10e6 # (to Ohm from MOhm)\n",
        "# user_provided_tau = 15.6 * 1e-3 # (to s from ms)\n",
        "# user_provided_Vrest = -71 # (mV)\n",
        "\n",
        "# g_bar_leak = (1 / user_provided_Rin) / computed_soma_area\n",
        "# cm = user_provided_tau * g_bar_leak * 1e6\n",
        "# print(f\"E_leak: {user_provided_Vrest}\")\n",
        "# print(f\"gbarleak: {g_bar_leak}\")\n",
        "# print(f\"Cm: {cm}\")\n",
        "\n",
        "# fit_filename = os.path.join(f\"{specimen_id}_fit.json\")\n",
        "\n",
        "# with open(fit_filename,'r') as file:\n",
        "#     data = json.load(file)\n",
        "\n",
        "\n",
        "# #set all sections cm to the same\n",
        "# for item in data['passive']:\n",
        "#     for field in item['cm']:\n",
        "#         field['cm'] = cm\n",
        "\n",
        "\n",
        "# for item in data[\"genome\"]:\n",
        "#   if (item['name'] == 'g_pas'):\n",
        "#     item['value'] = g_bar_leak\n",
        "\n",
        "\n",
        "# #set e_rev_leak in all sections\n",
        "# data['passive'][0]['e_pas'] = user_provided_Vrest\n",
        "\n",
        "# data['conditions'][0]['v_init'] = user_provided_Vrest\n",
        "\n",
        "# with open(fit_filename, 'w') as file:\n",
        "#     json.dump(data, file, indent=4)"
      ],
      "metadata": {
        "id": "SpX3FEtZHmlf"
      },
      "execution_count": null,
      "outputs": []
    },
    {
      "cell_type": "code",
      "source": [
        "# try turning off everything but leak, Ca, H\n",
        "for item in utils.description.data['genome']:\n",
        "  # if item['name'] not in []\n",
        "  print(item)\n",
        "\n",
        "# utils.load_cell_parameters()"
      ],
      "metadata": {
        "colab": {
          "base_uri": "https://localhost:8080/"
        },
        "id": "JBDvwg6uWHNX",
        "outputId": "43ac12bf-3f08-416d-a962-6722f34cb9f2"
      },
      "execution_count": null,
      "outputs": [
        {
          "output_type": "stream",
          "name": "stdout",
          "text": [
            "{'section': 'soma', 'name': 'gbar_Ih', 'value': 0.0, 'mechanism': 'Ih'}\n",
            "{'section': 'soma', 'name': 'gbar_Nap', 'value': 0.0, 'mechanism': 'Nap'}\n",
            "{'section': 'soma', 'name': 'gbar_NaTa', 'value': 0.0, 'mechanism': 'NaTa'}\n",
            "{'section': 'soma', 'name': 'gbar_Kd', 'value': 8.903838040127954e-11, 'mechanism': 'Kd'}\n",
            "{'section': 'soma', 'name': 'gbar_Kv2like', 'value': 0.0002725790772869774, 'mechanism': 'Kv2like'}\n",
            "{'section': 'soma', 'name': 'gbar_Kv3_1', 'value': 0.10521580755926842, 'mechanism': 'Kv3_1'}\n",
            "{'section': 'soma', 'name': 'gbar_K_T', 'value': 0.0, 'mechanism': 'K_T'}\n",
            "{'section': 'soma', 'name': 'gbar_Im_v2', 'value': 2.8103810231817594e-07, 'mechanism': 'Im_v2'}\n",
            "{'section': 'soma', 'name': 'gbar_SK', 'value': 3.095338402020649e-08, 'mechanism': 'SK'}\n",
            "{'section': 'soma', 'name': 'gbar_Ca_HVA', 'value': 0.0008814678006675907, 'mechanism': 'Ca_HVA'}\n",
            "{'section': 'soma', 'name': 'gbar_Ca_LVA', 'value': 0.002604826842658681, 'mechanism': 'Ca_LVA'}\n",
            "{'section': 'soma', 'name': 'gamma_CaDynamics', 'value': 0.03775272217626989, 'mechanism': 'CaDynamics'}\n",
            "{'section': 'soma', 'name': 'decay_CaDynamics', 'value': 20.047842724993018, 'mechanism': 'CaDynamics'}\n",
            "{'section': 'soma', 'name': 'g_pas', 'value': 0.00015242391688248812, 'mechanism': ''}\n",
            "{'section': 'axon', 'name': 'g_pas', 'value': 0.00015242391688248812, 'mechanism': ''}\n",
            "{'section': 'dend', 'name': 'g_pas', 'value': 0.00015242391688248812, 'mechanism': ''}\n"
          ]
        }
      ]
    },
    {
      "cell_type": "markdown",
      "source": [
        "Now update those in the fit file. Restart the runtime and rebuild the cell."
      ],
      "metadata": {
        "id": "O5f_rw1XmqDi"
      }
    },
    {
      "cell_type": "markdown",
      "source": [
        "### MARK2"
      ],
      "metadata": {
        "id": "KsEIYTTtsFfu"
      }
    },
    {
      "cell_type": "code",
      "source": [
        "# # it is already built and we didn't adjust anything so we don't need to rebuild\n",
        "# # Create the h object\n",
        "# description = Config().load('manifest.json')\n",
        "# utils = Utils(description)\n",
        "# h = utils.h\n",
        "\n",
        "# # Convert all \"value\" attributes to floats\n",
        "# for dict in utils.description.data['genome']:\n",
        "#     for key, value in dict.items():\n",
        "#         if key == 'value': dict[key] = float(value)\n",
        "\n",
        "# # Configure morphology\n",
        "# manifest = description.manifest\n",
        "# morphology_path = description.manifest.get_path('MORPHOLOGY')\n",
        "# utils.generate_morphology(morphology_path.encode('ascii', 'ignore'))\n",
        "# utils.load_cell_parameters()"
      ],
      "metadata": {
        "id": "30ZD_BUOnPsH"
      },
      "execution_count": null,
      "outputs": []
    },
    {
      "cell_type": "code",
      "source": [
        "h.soma[0].diam = h.soma[0].diam * 2"
      ],
      "metadata": {
        "id": "tbha6lZtD4z7"
      },
      "execution_count": null,
      "outputs": []
    },
    {
      "cell_type": "code",
      "execution_count": null,
      "metadata": {
        "id": "0tHDC3moz_Oa"
      },
      "outputs": [],
      "source": [
        "# Set current injection\n",
        "CI_stim = h.IClamp(h.soma[0](0.5))\n",
        "CI_stim.amp = -0.2\n",
        "CI_stim.delay = 300.0\n",
        "CI_stim.dur = 400.0\n",
        "h.tstop = 1000.0\n",
        "h.dt = 0.1\n",
        "h.steps_per_ms = 1 / h.dt"
      ]
    },
    {
      "cell_type": "code",
      "execution_count": null,
      "metadata": {
        "id": "BaIlWMf21BW7"
      },
      "outputs": [],
      "source": [
        "vec = utils.record_values()"
      ]
    },
    {
      "cell_type": "code",
      "execution_count": null,
      "metadata": {
        "colab": {
          "base_uri": "https://localhost:8080/"
        },
        "id": "neUAxcGi1CzG",
        "outputId": "0e790570-39f2-43a5-dab3-4c046b0f759c"
      },
      "outputs": [
        {
          "output_type": "execute_result",
          "data": {
            "text/plain": [
              "0.0"
            ]
          },
          "metadata": {},
          "execution_count": 18
        }
      ],
      "source": [
        "h.finitialize()\n",
        "h.run()"
      ]
    },
    {
      "cell_type": "code",
      "execution_count": null,
      "metadata": {
        "colab": {
          "base_uri": "https://localhost:8080/",
          "height": 467
        },
        "id": "3dPvTUki1Dy_",
        "outputId": "583d7052-7a68-433d-827b-e303c6893d35"
      },
      "outputs": [
        {
          "output_type": "execute_result",
          "data": {
            "text/plain": [
              "Text(0, 0.5, 'Voltage (mV)')"
            ]
          },
          "metadata": {},
          "execution_count": 19
        },
        {
          "output_type": "display_data",
          "data": {
            "text/plain": [
              "<Figure size 640x480 with 1 Axes>"
            ],
            "image/png": "[encoded data removed]"
          },
          "metadata": {}
        }
      ],
      "source": [
        "plt.plot(vec['t'].as_numpy(), vec['v'].as_numpy())\n",
        "plt.xlabel(\"Time (ms)\")\n",
        "plt.ylabel(\"Voltage (mV)\")"
      ]
    },
    {
      "cell_type": "code",
      "source": [
        "# Adjust g-pas to this: (should already be done in the fit file)\n",
        "# 0.00010161594458832541 * 1.5\n",
        "\n",
        "# + Adjust cm to 2.5"
      ],
      "metadata": {
        "id": "YrwZHlv1Ez56"
      },
      "execution_count": null,
      "outputs": []
    },
    {
      "cell_type": "code",
      "source": [
        "import numpy as np\n",
        "def compute_gpp(passive_V: np.ndarray, dt: float, I_t_start: int, I_t_end: int, I_amp: float):\n",
        "    '''\n",
        "    Parameters:\n",
        "    ----------\n",
        "    I_t_start: float\n",
        "        Current injection start time (ms).\n",
        "    '''\n",
        "\n",
        "    index_V_rest = int(I_t_start / dt) - 1\n",
        "\n",
        "    # If there is no h channel, V_final == V_trough\n",
        "    index_V_trough = index_V_rest + np.argmin(passive_V[index_V_rest:])\n",
        "    index_V_final = int(I_t_end / dt) - 1\n",
        "\n",
        "    V_rest = passive_V[index_V_rest]\n",
        "    V_trough = passive_V[index_V_trough]\n",
        "    V_final = passive_V[index_V_final]\n",
        "\n",
        "    # R_in\n",
        "    R_in = (V_rest - V_trough) / (0 - I_amp)\n",
        "\n",
        "    # Tau1\n",
        "    V_tau1 = V_rest - (V_rest - V_trough) * 0.632\n",
        "\n",
        "    index_v_tau1 = next(\n",
        "                index for index, voltage_value in enumerate(list(passive_V[index_V_rest:]))\n",
        "                if voltage_value < V_tau1\n",
        "            )\n",
        "    tau1 = index_v_tau1 * dt\n",
        "\n",
        "    # Tau2\n",
        "    V_tau2 = V_trough - (V_trough - V_final) * 0.632\n",
        "    index_v_tau2 = next(\n",
        "                index for index, voltage_value in enumerate(list(passive_V[index_V_trough:]))\n",
        "                if voltage_value > V_tau2\n",
        "            )\n",
        "    tau2 = index_v_tau2 * dt\n",
        "\n",
        "    # Sag ratio\n",
        "    sag = (V_final - V_trough) / (V_rest - V_trough)\n",
        "\n",
        "    gpp = (R_in, tau1, tau2, sag)\n",
        "    return gpp"
      ],
      "metadata": {
        "id": "_XqKnQvKncwx"
      },
      "execution_count": null,
      "outputs": []
    },
    {
      "cell_type": "code",
      "source": [
        "#R_in, tau1, tau2, sag_ratio)\n",
        "trace = vec['v'].as_numpy()\n",
        "\n",
        "res = list(compute_gpp(trace, h.dt, CI_stim.delay,CI_stim.delay + CI_stim.dur - 5, CI_stim.amp))\n",
        "res.append(trace[int(CI_stim.delay / h.dt) - 1])\n",
        "# print(f\"R_in: {round(res[0],6)}\\ntau1: {round(res[1],6)}\\ntau2: {round(res[2],6)}\\nsag: {round(res[3],6)}\\nRMP: {round(res[4],6)}\")\n",
        "print(f\"RMP: {round(res[4],6)}\\ntau1: {round(res[1],6)}\\ntau2: {round(res[2],6)}\\nsag: {round(res[3],6)}\\nR_in: {round(res[0],6)}\")"
      ],
      "metadata": {
        "colab": {
          "base_uri": "https://localhost:8080/"
        },
        "id": "plOR1aJnnuui",
        "outputId": "ff42855c-2ae9-492b-cfb9-da9a64a379ad"
      },
      "execution_count": null,
      "outputs": [
        {
          "output_type": "stream",
          "name": "stdout",
          "text": [
            "RMP: -65.00314\n",
            "tau1: 13.9\n",
            "tau2: 0.1\n",
            "sag: 0.0\n",
            "R_in: 188.080386\n"
          ]
        }
      ]
    },
    {
      "cell_type": "code",
      "source": [
        "# Biophysical properties (mean±SD)\n",
        "\n",
        "\n",
        "# SST\n",
        "\n",
        "# RMP (mV)\t    -65.75±3.76\n",
        "# Rm (MOhm)\t    188.7±9736\n",
        "# Cm (pF)\t      96.46±50.01\n",
        "# Tau (ms)\t    15.6±8.6\n",
        "# Sag ratio\t    0.85±0.09\n",
        "# Rheobase (pA)\t90±38.25\n",
        "# Rin (MOhm)\t  195.4±75.93\n",
        "\n",
        "#PV (n=15)\n",
        "# RMP (mV)      -71.25+5.6\n",
        "# Rm (MOhm)     88.97±36.3\n",
        "# Cm (pF)       78±50.18\n",
        "# Tau (ms)      5.9±2.9\n",
        "# Sag ratio     0.96±0.02\n",
        "# Rheobase (pA) 225±112.2\n",
        "# Rin (MOhm)    98.9±34.48"
      ],
      "metadata": {
        "id": "0ZRDue_wGByq"
      },
      "execution_count": null,
      "outputs": []
    },
    {
      "cell_type": "markdown",
      "source": [
        "![image.png](data:image/png;base64,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)"
      ],
      "metadata": {
        "id": "PUnRD4iPQdD9"
      }
    },
    {
      "cell_type": "markdown",
      "source": [
        "## Calculating FI"
      ],
      "metadata": {
        "id": "VNjhLxoTwfhe"
      }
    },
    {
      "cell_type": "markdown",
      "source": [
        "Turn on active conductances. Try setting them to allen values."
      ],
      "metadata": {
        "id": "7u0ZUpqrhy-d"
      }
    },
    {
      "cell_type": "code",
      "source": [
        "# Open the allen JSON file and load it into a dictionary\n",
        "with open(\"476686112_allen_fit.json\", \"r\") as file:\n",
        "    allen = json.load(file)"
      ],
      "metadata": {
        "id": "9T8lP9tMiAYW"
      },
      "execution_count": null,
      "outputs": []
    },
    {
      "cell_type": "code",
      "source": [
        "# check what mechanisms are different\n",
        "mechanisms = [mechanism['mechanism'] for mechanism in utils.description.data['genome']]\n",
        "allen_mechanisms = [mechanism['mechanism'] for mechanism in allen['genome']]\n",
        "print(\"mechanisms in current not in allen:\")\n",
        "for mechanism in mechanisms:\n",
        "  if mechanism not in allen_mechanisms:\n",
        "    print(mechanism)\n",
        "\n",
        "print()\n",
        "print(\"mechanisms in allen not in current:\")\n",
        "for mechanism in allen_mechanisms:\n",
        "  if mechanism not in mechanisms:\n",
        "    print(mechanism)"
      ],
      "metadata": {
        "colab": {
          "base_uri": "https://localhost:8080/"
        },
        "id": "Aqs2HmzrmmKb",
        "outputId": "e6a5d277-f3a5-4601-8eb7-7d7f1be7ca86"
      },
      "execution_count": null,
      "outputs": [
        {
          "output_type": "stream",
          "name": "stdout",
          "text": [
            "mechanisms in current not in allen:\n",
            "Nap\n",
            "NaTa\n",
            "\n",
            "mechanisms in allen not in current:\n",
            "NaV\n"
          ]
        }
      ]
    },
    {
      "cell_type": "code",
      "source": [
        "def get_index_with_section_and_name(data, section, name):\n",
        "    indices = [idx for idx, item in enumerate(data['genome']) if item['section']=='soma' and item['name']==name]\n",
        "    if len(indices) != 1:\n",
        "      ValueError(\"should only find 1 indices\")\n",
        "    else:\n",
        "      return indices[0]\n",
        "\n",
        "def set_value_at_index(data, index, value, scale):\n",
        "    data['genome'][index]['value'] = scale * value\n",
        "\n",
        "def get_value_at_index(data, index):\n",
        "    return data['genome'][index]['value']\n",
        "\n",
        "def update_value_from_allen(allen_data, current_data, from_var_name, to_var_name, section='soma', scale = 1):\n",
        "    current_index = get_index_with_section_and_name(current_data, section, to_var_name)\n",
        "    allen_index = get_index_with_section_and_name(allen_data, section, from_var_name)\n",
        "    set_value_at_index(current_data, current_index, get_value_at_index(allen_data, allen_index), scale)\n",
        "    return current_data\n",
        "\n",
        "# set gbar_Ih back\n",
        "utils.description.data = update_value_from_allen(allen, utils.description.data, \"gbar_Ih\", \"gbar_Ih\", scale = 1)\n",
        "\n",
        "# set gbar_Nap to allen gbar_NaV\n",
        "utils.description.data = update_value_from_allen(allen, utils.description.data, \"gbar_NaV\", \"gbar_Nap\", scale=1)\n",
        "\n",
        "# set gbar_NaTa to allen gbar_NaV\n",
        "utils.description.data = update_value_from_allen(allen, utils.description.data, \"gbar_NaV\", \"gbar_NaTa\", scale = 1)\n",
        "\n",
        "# gbar_Kd match already\n",
        "\n",
        "# gbar_Kv2like match already\n",
        "\n",
        "# gbar_Kv3_1 match already\n",
        "\n",
        "# set gbar_K_T to allen gbar_K_T\n",
        "utils.description.data = update_value_from_allen(allen, utils.description.data, \"gbar_K_T\", \"gbar_K_T\", scale = 1)\n",
        "\n",
        "# gbar_Im_v2 match already\n",
        "\n",
        "# gbar_SK match already\n",
        "\n",
        "# gbar_Ca_HVA match already\n",
        "\n",
        "# gbar_Ca_LVA match already\n",
        "\n",
        "# gamma_CaDynamics match already\n",
        "\n",
        "# decay_CaDynamics match already\n",
        "\n",
        "# soma g_pas leave it for passive properties\n",
        "\n",
        "# axon g_pas leave it for passive properties\n",
        "\n",
        "# dend g_pas leave it for passive properties\n",
        "\n",
        "utils.load_cell_parameters() # load new update"
      ],
      "metadata": {
        "id": "PKqBTv6cgU2N"
      },
      "execution_count": null,
      "outputs": []
    },
    {
      "cell_type": "code",
      "source": [
        "# predefine the channels and their currents to record them\n",
        "\n",
        "# dir(h.soma[0](0.5)) # find channels\n",
        "# dir(getattr(h.soma[0](0.5), channels[9])) # find current name of channel\n",
        "\n",
        "channels = ['Ca_HVA', 'Ca_LVA', 'Ih', 'Im_v2', 'K_T', 'Kv2like', 'Kv3_1', 'Nap', 'NaTa', 'SK']\n",
        "predefined_channel_currents = ['ica', 'ica', 'ihcn', 'ik', 'ik', 'ik', 'ik', 'ina', 'ina', 'ik']\n",
        "if len(channels) != len(predefined_channel_currents):\n",
        "  raise ValueError(\"channels and currents must be the same length\")\n",
        "\n",
        "def record_total_currents(): # record total current\n",
        "  # print(\"setting current recorders\")\n",
        "  i_vec = {\"ica\": h.Vector(),\n",
        "          \"ik\": h.Vector(),\n",
        "          \"ina\": h.Vector(),}\n",
        "          #  \"ih\": h.Vector()}\n",
        "  for key in i_vec.keys():\n",
        "    i_vec[key].record(getattr(h.soma[0](0.5), f\"_ref_{key}\"))\n",
        "\n",
        "  return i_vec\n",
        "\n",
        "def record_channel_currents(channels, currents): # record current specific to a channel\n",
        "  i_vec = {}\n",
        "  for channel, current in zip(channels, currents):\n",
        "    i_vec[channel] = h.Vector()\n",
        "    # i_vec[current].record(getattr(h.soma[0](0.5), f\"{channel}.{current}\"))\n",
        "    i_vec[channel].record(getattr(h.soma[0](0.5), f\"_ref_{current}_{channel}\"))\n",
        "  return i_vec\n",
        "\n",
        "def get_currents(i_vec):\n",
        "  return {key: np.array(i_vec[key]) for key in i_vec.keys()}"
      ],
      "metadata": {
        "id": "0G06aYwbtO4u"
      },
      "execution_count": null,
      "outputs": []
    },
    {
      "cell_type": "code",
      "source": [
        "def count_voltage_events(t, v):\n",
        "    \"\"\"\n",
        "    Counts the number of times the voltage goes above -20 mV and the slope changes from positive to negative.\n",
        "\n",
        "    Args:\n",
        "        t: A NumPy array of time points.\n",
        "        v: A NumPy array of voltage values.\n",
        "\n",
        "    Returns:\n",
        "        The number of events.\n",
        "    \"\"\"\n",
        "\n",
        "    # Calculate the slope of the voltage\n",
        "    slope = np.diff(v)\n",
        "\n",
        "    # Find the indices where the voltage is above -20 mV\n",
        "    above_threshold_indices = np.where(v[:-1] > -20)[0]\n",
        "\n",
        "    # Find the indices where the slope changes from positive to negative\n",
        "    positive_to_negative_indices = np.where((slope[:-1] > 0) & (slope[1:] < 0))[0]\n",
        "\n",
        "    # Find the intersection of the two sets of indices\n",
        "    event_indices = np.intersect1d(above_threshold_indices, positive_to_negative_indices)\n",
        "\n",
        "    return len(event_indices)\n",
        "\n",
        "# my code for automatically plotting calculating F/I\n",
        "import numpy as np\n",
        "amplitudes = np.arange(-0.1,0.325,0.025)     #1.1,0.1)\n",
        "firing_rates = []\n",
        "\n",
        "# simulate all and plot voltages stacked\n",
        "for amp in amplitudes:\n",
        "  CI_stim.amp = amp\n",
        "\n",
        "  vec = utils.record_values()\n",
        "  i_vec = record_total_currents()\n",
        "  channel_i_vec = record_channel_currents(channels, predefined_channel_currents)\n",
        "\n",
        "  # simulate\n",
        "  h.finitialize()\n",
        "  h.run()\n",
        "\n",
        "  t = vec['t'].as_numpy()\n",
        "  v = vec['v'].as_numpy()\n",
        "  currents = get_currents(i_vec)\n",
        "  channel_currents = get_currents(channel_i_vec)\n",
        "\n",
        "  # plot\n",
        "  plt.plot(vec['t'].as_numpy(), vec['v'].as_numpy(), label=f\"{(CI_stim.amp*1000):.0f} pA\")\n",
        "  plt.xlabel(\"Time (ms)\")\n",
        "  plt.ylabel(\"Voltage (mV)\")\n",
        "\n",
        "  # Call the function to count the events\n",
        "  num_events = count_voltage_events(t, v)\n",
        "\n",
        "  firing_rates.append(num_events/(CI_stim.dur/1000))\n",
        "\n",
        "amplitudes = np.round(amplitudes*1000,3)\n",
        "plt.legend(amplitudes)\n",
        "plt.show() # voltages\n",
        "\n",
        "# plot currents and voltage of last current injection\n",
        "plt.figure()\n",
        "# plt.subplot(1,3,1)\n",
        "# plt.plot(vec['t'].as_numpy(), vec['v'].as_numpy(), label=f\"{(CI_stim.amp*1000):.0f} pA\")\n",
        "# plt.xlabel(\"Time (ms)\")\n",
        "# plt.ylabel(\"Voltage (mV)\")\n",
        "# plt.legend()\n",
        "plt.subplot(2,1,1)\n",
        "for current_key in currents.keys():\n",
        "  plt.plot(t, currents[current_key], label=current_key)\n",
        "plt.xlabel(\"Time (ms)\")\n",
        "plt.ylabel(\"Total Current (nA)\")\n",
        "plt.legend()\n",
        "# plt.show()\n",
        "plt.subplot(2,1,2)\n",
        "for channel_name,current_name in zip(channels, predefined_channel_currents):\n",
        "  plt.plot(t, channel_currents[channel_name], label=f\"{current_name}_{channel_name}\")\n",
        "plt.xlabel(\"Time (ms)\")\n",
        "plt.ylabel(\"Channel Current (nA)\")\n",
        "plt.legend()\n",
        "plt.show()\n",
        "\n",
        "\n",
        "# plot FI\n",
        "plt.figure()\n",
        "plt.plot(amplitudes, firing_rates)\n",
        "plt.xlabel(\"Injection (pA)\")\n",
        "plt.ylabel(\"Firing Rate (Hz)\")\n",
        "plt.xlim(-200, 400)\n",
        "plt.grid()\n",
        "plt.show() # FI"
      ],
      "metadata": {
        "id": "8LNbrtzqGB1d",
        "colab": {
          "base_uri": "https://localhost:8080/",
          "height": 1000
        },
        "outputId": "4075d019-8058-40ba-c4c0-ad1affc0775a"
      },
      "execution_count": null,
      "outputs": [
        {
          "output_type": "display_data",
          "data": {
            "text/plain": [
              "<Figure size 640x480 with 1 Axes>"
            ],
            "image/png": "[encoded data removed]"
          },
          "metadata": {}
        },
        {
          "output_type": "display_data",
          "data": {
            "text/plain": [
              "<Figure size 640x480 with 2 Axes>"
            ],
            "image/png": "[encoded data removed]"
          },
          "metadata": {}
        },
        {
          "output_type": "display_data",
          "data": {
            "text/plain": [
              "<Figure size 640x480 with 1 Axes>"
            ],
            "image/png": "[encoded data removed]"
          },
          "metadata": {}
        }
      ]
    },
    {
      "cell_type": "markdown",
      "source": [
        "![image.png](data:image/png;base64,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)"
      ],
      "metadata": {
        "id": "t1eprnDjO_1h"
      }
    },
    {
      "cell_type": "markdown",
      "source": [
        "## Adding a synapse"
      ],
      "metadata": {
        "id": "RC2tXTOywho_"
      }
    },
    {
      "cell_type": "code",
      "source": [
        "CI_stim.amp = 0 # turn off current injection\n",
        "\n",
        "# store in lists to make sure you don't create extra objects when rerunning? #update: it is fine as long as you overwrite the previous python variable\n",
        "synapses = [] #if 'synapses' not in locals() else synapses\n",
        "vecstims = [] #if 'vecstims' not in locals() else vecstims\n",
        "netcons = [] #if 'netcons' not in locals() else netcons\n",
        "\n",
        "# init synapse\n",
        "if synapses == []:\n",
        "  syn = h.AMPA_NMDA(h.soma[0](0.5)) # can change section, segment\n",
        "  synapses.append(syn)\n",
        "# change to your synapse. Include your synapse in modfiles/\n",
        "# can change section, segment\n",
        "\n",
        "# customize spike train\n",
        "spike_train = np.array([500])  # [100, 200, 300, 400, 500]) # changing got rid of the other spikes so the first netcon was disabled.\n",
        "\n",
        "# put spike_train into a hoc vector that can be delivered to synapses\n",
        "if vecstims == []:\n",
        "  spike_vec = h.Vector(spike_train)\n",
        "  stim = h.VecStim()\n",
        "  stim.play(spike_vec)\n",
        "  vecstims.append(stim)\n",
        "\n",
        "# deliver spike_train to synapse using netcon\n",
        "if netcons == []:\n",
        "  nc = h.NetCon(stim, syn, 1, 0, 1)\n",
        "  netcons.append(nc)"
      ],
      "metadata": {
        "id": "fGAptb-gwj17"
      },
      "execution_count": null,
      "outputs": []
    },
    {
      "cell_type": "code",
      "source": [
        "# if you wanna update the spike train without rerunning, use this function to turn off other netcons, and adjust code to create new ones\n",
        "netcons[0].active() # show current status\n",
        "# netcons[0].active(False) # inactivate"
      ],
      "metadata": {
        "colab": {
          "base_uri": "https://localhost:8080/"
        },
        "id": "-ioyREsZ6KM1",
        "outputId": "c72cad35-32a8-476c-eaf4-d06a0ef95f7a"
      },
      "execution_count": null,
      "outputs": [
        {
          "output_type": "execute_result",
          "data": {
            "text/plain": [
              "True"
            ]
          },
          "metadata": {},
          "execution_count": 30
        }
      ]
    },
    {
      "cell_type": "code",
      "source": [
        "  vec = utils.record_values()\n",
        "\n",
        "  # simulate\n",
        "  h.finitialize()\n",
        "  h.run()\n",
        "\n",
        "  t = vec['t'].as_numpy()\n",
        "  v = vec['v'].as_numpy()\n",
        "  plt.plot(vec['t'].as_numpy(), vec['v'].as_numpy())\n",
        "  plt.xlabel(\"Time (ms)\")\n",
        "  plt.ylabel(\"Voltage (mV)\")"
      ],
      "metadata": {
        "colab": {
          "base_uri": "https://localhost:8080/",
          "height": 467
        },
        "id": "Ur0BDaom7Msl",
        "outputId": "ac96be22-7c41-40ff-933f-c85cb8caf3a5"
      },
      "execution_count": null,
      "outputs": [
        {
          "output_type": "execute_result",
          "data": {
            "text/plain": [
              "Text(0, 0.5, 'Voltage (mV)')"
            ]
          },
          "metadata": {},
          "execution_count": 31
        },
        {
          "output_type": "display_data",
          "data": {
            "text/plain": [
              "<Figure size 640x480 with 1 Axes>"
            ],
            "image/png": "[encoded data removed]"
          },
          "metadata": {}
        }
      ]
    },
    {
      "cell_type": "markdown",
      "metadata": {
        "id": "wixxvQBb9i0L"
      },
      "source": [
        "## Homework\n",
        "\n",
        "1. Choose any active mouse cell model from the [database](http://celltypes.brain-map.org/data). When searching, put \"Has All-active Biophysical model\" on.\n",
        "2. Simulate the cell for different values of current injection (CI). Plot voltage responses (t vs V) for each CI. Then plot the FI curve."
      ]
    }
  ],
  "metadata": {
    "colab": {
      "provenance": [],
      "include_colab_link": true
    },
    "kernelspec": {
      "display_name": "Python 3",
      "name": "python3"
    },
    "language_info": {
      "name": "python"
    }
  },
  "nbformat": 4,
  "nbformat_minor": 0
}