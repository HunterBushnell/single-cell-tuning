{
  "cells": [
    {
      "cell_type": "markdown",
      "metadata": {
        "id": "ya_Dey7zuksy"
      },
      "source": [
        "# Downloading and building cells from AllenDB\n",
        "\n",
        "Useful links:\n",
        "1. [Database](http://celltypes.brain-map.org/data)\n",
        "2. [Downloading biophysical models](https://allensdk.readthedocs.io/en/latest/biophysical_models.html)\n",
        "3. [Example on building cells](https://alleninstitute.github.io/AllenSDK/_static/examples/nb/pulse_stimulus.html)"
      ]
    },
    {
      "cell_type": "code",
      "execution_count": 1,
      "metadata": {
        "colab": {
          "base_uri": "https://localhost:8080/"
        },
        "id": "ni3ndt_-kYPm",
        "outputId": "589215f2-2cfb-4104-9bc6-7c02715db690"
      },
      "outputs": [
        {
          "output_type": "stream",
          "name": "stdout",
          "text": [
            "Requirement already satisfied: pip in /usr/local/lib/python3.11/dist-packages (24.1.2)\n",
            "Collecting pip\n",
            "  Downloading pip-25.0.1-py3-none-any.whl.metadata (3.7 kB)\n",
            "Downloading pip-25.0.1-py3-none-any.whl (1.8 MB)\n",
            "\u001b[2K   \u001b[90m━━━━━━━━━━━━━━━━━━━━━━━━━━━━━━━━━━━━━━━━\u001b[0m \u001b[32m1.8/1.8 MB\u001b[0m \u001b[31m28.8 MB/s\u001b[0m eta \u001b[36m0:00:00\u001b[0m\n",
            "\u001b[?25hInstalling collected packages: pip\n",
            "  Attempting uninstall: pip\n",
            "    Found existing installation: pip 24.1.2\n",
            "    Uninstalling pip-24.1.2:\n",
            "      Successfully uninstalled pip-24.1.2\n",
            "Successfully installed pip-25.0.1\n",
            "  Installing build dependencies ... \u001b[?25l\u001b[?25hdone\n",
            "  Getting requirements to build wheel ... \u001b[?25l\u001b[?25hdone\n",
            "  Preparing metadata (pyproject.toml) ... \u001b[?25l\u001b[?25hdone\n",
            "\u001b[2K   \u001b[90m━━━━━━━━━━━━━━━━━━━━━━━━━━━━━━━━━━━━━━━━\u001b[0m \u001b[32m3.1/3.1 MB\u001b[0m \u001b[31m52.5 MB/s\u001b[0m eta \u001b[36m0:00:00\u001b[0m\n",
            "\u001b[2K   \u001b[90m━━━━━━━━━━━━━━━━━━━━━━━━━━━━━━━━━━━━━━━━\u001b[0m \u001b[32m12.0/12.0 MB\u001b[0m \u001b[31m113.3 MB/s\u001b[0m eta \u001b[36m0:00:00\u001b[0m\n",
            "\u001b[2K   \u001b[90m━━━━━━━━━━━━━━━━━━━━━━━━━━━━━━━━━━━━━━━━\u001b[0m \u001b[32m15.2/15.2 MB\u001b[0m \u001b[31m103.5 MB/s\u001b[0m eta \u001b[36m0:00:00\u001b[0m\n",
            "\u001b[2K   \u001b[90m━━━━━━━━━━━━━━━━━━━━━━━━━━━━━━━━━━━━━━━━\u001b[0m \u001b[32m17.1/17.1 MB\u001b[0m \u001b[31m106.6 MB/s\u001b[0m eta \u001b[36m0:00:00\u001b[0m\n",
            "\u001b[2K   \u001b[90m━━━━━━━━━━━━━━━━━━━━━━━━━━━━━━━━━━━━━━━━\u001b[0m \u001b[32m34.1/34.1 MB\u001b[0m \u001b[31m51.9 MB/s\u001b[0m eta \u001b[36m0:00:00\u001b[0m\n",
            "\u001b[2K   \u001b[90m━━━━━━━━━━━━━━━━━━━━━━━━━━━━━━━━━━━━━━━━\u001b[0m \u001b[32m973.1/973.1 kB\u001b[0m \u001b[31m35.6 MB/s\u001b[0m eta \u001b[36m0:00:00\u001b[0m\n",
            "\u001b[2K   \u001b[90m━━━━━━━━━━━━━━━━━━━━━━━━━━━━━━━━━━━━━━━━\u001b[0m \u001b[32m2.7/2.7 MB\u001b[0m \u001b[31m70.1 MB/s\u001b[0m eta \u001b[36m0:00:00\u001b[0m\n",
            "\u001b[2K   \u001b[90m━━━━━━━━━━━━━━━━━━━━━━━━━━━━━━━━━━━━━━━━\u001b[0m \u001b[32m1.4/1.4 MB\u001b[0m \u001b[31m38.4 MB/s\u001b[0m eta \u001b[36m0:00:00\u001b[0m\n",
            "\u001b[2K   \u001b[90m━━━━━━━━━━━━━━━━━━━━━━━━━━━━━━━━━━━━━━━━\u001b[0m \u001b[32m3.0/3.0 MB\u001b[0m \u001b[31m55.6 MB/s\u001b[0m eta \u001b[36m0:00:00\u001b[0m\n",
            "\u001b[2K   \u001b[90m━━━━━━━━━━━━━━━━━━━━━━━━━━━━━━━━━━━━━━━━\u001b[0m \u001b[32m14.9/14.9 MB\u001b[0m \u001b[31m82.7 MB/s\u001b[0m eta \u001b[36m0:00:00\u001b[0m\n",
            "\u001b[2K   \u001b[90m━━━━━━━━━━━━━━━━━━━━━━━━━━━━━━━━━━━━━━━━\u001b[0m \u001b[32m52.3/52.3 MB\u001b[0m \u001b[31m45.3 MB/s\u001b[0m eta \u001b[36m0:00:00\u001b[0m\n",
            "\u001b[2K   \u001b[90m━━━━━━━━━━━━━━━━━━━━━━━━━━━━━━━━━━━━━━━━\u001b[0m \u001b[32m4.4/4.4 MB\u001b[0m \u001b[31m67.9 MB/s\u001b[0m eta \u001b[36m0:00:00\u001b[0m\n",
            "\u001b[2K   \u001b[90m━━━━━━━━━━━━━━━━━━━━━━━━━━━━━━━━━━━━━━━━\u001b[0m \u001b[32m13.3/13.3 MB\u001b[0m \u001b[31m116.3 MB/s\u001b[0m eta \u001b[36m0:00:00\u001b[0m\n",
            "\u001b[2K   \u001b[90m━━━━━━━━━━━━━━━━━━━━━━━━━━━━━━━━━━━━━━━━\u001b[0m \u001b[32m739.1/739.1 kB\u001b[0m \u001b[31m29.7 MB/s\u001b[0m eta \u001b[36m0:00:00\u001b[0m\n",
            "\u001b[?25h  Building wheel for argschema (pyproject.toml) ... \u001b[?25l\u001b[?25hdone\n",
            "\u001b[31mERROR: pip's dependency resolver does not currently take into account all the packages that are installed. This behaviour is the source of the following dependency conflicts.\n",
            "google-colab 1.0.0 requires pandas==2.2.2, but you have pandas 1.5.3 which is incompatible.\n",
            "tensorflow 2.18.0 requires numpy<2.1.0,>=1.26.0, but you have numpy 1.23.5 which is incompatible.\n",
            "pymc 5.20.0 requires numpy>=1.25.0, but you have numpy 1.23.5 which is incompatible.\n",
            "bigframes 1.35.0 requires numpy>=1.24.0, but you have numpy 1.23.5 which is incompatible.\n",
            "jaxlib 0.4.33 requires numpy>=1.24, but you have numpy 1.23.5 which is incompatible.\n",
            "cudf-cu12 24.12.0 requires pandas<2.2.4dev0,>=2.0, but you have pandas 1.5.3 which is incompatible.\n",
            "jax 0.4.33 requires numpy>=1.24, but you have numpy 1.23.5 which is incompatible.\n",
            "imbalanced-learn 0.13.0 requires numpy<3,>=1.24.3, but you have numpy 1.23.5 which is incompatible.\n",
            "albumentations 2.0.3 requires numpy>=1.24.4, but you have numpy 1.23.5 which is incompatible.\n",
            "albucore 0.0.23 requires numpy>=1.24.4, but you have numpy 1.23.5 which is incompatible.\n",
            "chex 0.1.88 requires numpy>=1.24.1, but you have numpy 1.23.5 which is incompatible.\n",
            "numba 0.61.0 requires numpy<2.2,>=1.24, but you have numpy 1.23.5 which is incompatible.\n",
            "plotnine 0.14.5 requires pandas>=2.2.0, but you have pandas 1.5.3 which is incompatible.\n",
            "mizani 0.13.1 requires pandas>=2.2.0, but you have pandas 1.5.3 which is incompatible.\u001b[0m\u001b[31m\n",
            "\u001b[0m"
          ]
        }
      ],
      "source": [
        "!pip install --upgrade pip\n",
        "!pip install --quiet allensdk neuron"
      ]
    },
    {
      "cell_type": "code",
      "execution_count": 2,
      "metadata": {
        "id": "Fg6QlbRJvcha"
      },
      "outputs": [],
      "source": [
        "from allensdk.api.queries.biophysical_api import BiophysicalApi\n",
        "from allensdk.model.biophys_sim.config import Config\n",
        "from allensdk.model.biophysical.utils import Utils\n",
        "import os\n",
        "import json\n",
        "import matplotlib.pyplot as plt"
      ]
    },
    {
      "cell_type": "markdown",
      "metadata": {
        "id": "nLm0naZ1vfRB"
      },
      "source": [
        "## Download the cell"
      ]
    },
    {
      "cell_type": "code",
      "execution_count": 5,
      "metadata": {
        "colab": {
          "base_uri": "https://localhost:8080/"
        },
        "id": "jz0Svcsdlxk7",
        "outputId": "14967a3f-4026-4bd6-ed49-02fc093aaecf"
      },
      "outputs": [
        {
          "output_type": "execute_result",
          "data": {
            "text/plain": [
              "[{'id': 477878284,\n",
              "  'name': 'Biophysical - perisomatic_Sst-IRES-Cre;Ai14-188740.03.02.01',\n",
              "  'neuron_reconstruction_id': 491119369,\n",
              "  'neuronal_model_template_id': 329230710,\n",
              "  'specimen_id': 476686112},\n",
              " {'id': 497232660,\n",
              "  'name': 'Biophysical - all active_Sst-IRES-Cre;Ai14-188740.03.02.01',\n",
              "  'neuron_reconstruction_id': 491119369,\n",
              "  'neuronal_model_template_id': 491455321,\n",
              "  'specimen_id': 476686112}]"
            ]
          },
          "metadata": {},
          "execution_count": 5
        }
      ],
      "source": [
        "bp = BiophysicalApi()\n",
        "specimen_id = 476686112\n",
        "# Mouse Layer 5 Primary visual area neuron\n",
        "# http://celltypes.brain-map.org/experiment/electrophysiology/476686112\n",
        "bp.get_neuronal_models(specimen_id)"
      ]
    },
    {
      "cell_type": "code",
      "execution_count": 6,
      "metadata": {
        "colab": {
          "base_uri": "https://localhost:8080/"
        },
        "id": "TiL4l6WVl8eN",
        "outputId": "5fe5cf2b-1469-4de2-ed50-dc2920f92e80"
      },
      "outputs": [
        {
          "output_type": "stream",
          "name": "stderr",
          "text": [
            "2025-02-13 02:25:15,834 allensdk.api.api.retrieve_file_over_http INFO     Downloading URL: http://api.brain-map.org/api/v2/well_known_file_download/657210401\n",
            "INFO:allensdk.api.api.retrieve_file_over_http:Downloading URL: http://api.brain-map.org/api/v2/well_known_file_download/657210401\n",
            "2025-02-13 02:25:15,984 allensdk.api.api.retrieve_file_over_http INFO     Downloading URL: http://api.brain-map.org/api/v2/well_known_file_download/657210404\n",
            "INFO:allensdk.api.api.retrieve_file_over_http:Downloading URL: http://api.brain-map.org/api/v2/well_known_file_download/657210404\n",
            "2025-02-13 02:25:16,034 allensdk.api.api.retrieve_file_over_http INFO     Downloading URL: http://api.brain-map.org/api/v2/well_known_file_download/395337293\n",
            "INFO:allensdk.api.api.retrieve_file_over_http:Downloading URL: http://api.brain-map.org/api/v2/well_known_file_download/395337293\n",
            "2025-02-13 02:25:16,074 allensdk.api.api.retrieve_file_over_http INFO     Downloading URL: http://api.brain-map.org/api/v2/well_known_file_download/395337054\n",
            "INFO:allensdk.api.api.retrieve_file_over_http:Downloading URL: http://api.brain-map.org/api/v2/well_known_file_download/395337054\n",
            "2025-02-13 02:25:16,117 allensdk.api.api.retrieve_file_over_http INFO     Downloading URL: http://api.brain-map.org/api/v2/well_known_file_download/395337225\n",
            "INFO:allensdk.api.api.retrieve_file_over_http:Downloading URL: http://api.brain-map.org/api/v2/well_known_file_download/395337225\n",
            "2025-02-13 02:25:16,161 allensdk.api.api.retrieve_file_over_http INFO     Downloading URL: http://api.brain-map.org/api/v2/well_known_file_download/395337019\n",
            "INFO:allensdk.api.api.retrieve_file_over_http:Downloading URL: http://api.brain-map.org/api/v2/well_known_file_download/395337019\n",
            "2025-02-13 02:25:16,203 allensdk.api.api.retrieve_file_over_http INFO     Downloading URL: http://api.brain-map.org/api/v2/well_known_file_download/395337003\n",
            "INFO:allensdk.api.api.retrieve_file_over_http:Downloading URL: http://api.brain-map.org/api/v2/well_known_file_download/395337003\n",
            "2025-02-13 02:25:16,249 allensdk.api.api.retrieve_file_over_http INFO     Downloading URL: http://api.brain-map.org/api/v2/well_known_file_download/395337050\n",
            "INFO:allensdk.api.api.retrieve_file_over_http:Downloading URL: http://api.brain-map.org/api/v2/well_known_file_download/395337050\n",
            "2025-02-13 02:25:16,291 allensdk.api.api.retrieve_file_over_http INFO     Downloading URL: http://api.brain-map.org/api/v2/well_known_file_download/395337042\n",
            "INFO:allensdk.api.api.retrieve_file_over_http:Downloading URL: http://api.brain-map.org/api/v2/well_known_file_download/395337042\n",
            "2025-02-13 02:25:16,329 allensdk.api.api.retrieve_file_over_http INFO     Downloading URL: http://api.brain-map.org/api/v2/well_known_file_download/395337011\n",
            "INFO:allensdk.api.api.retrieve_file_over_http:Downloading URL: http://api.brain-map.org/api/v2/well_known_file_download/395337011\n",
            "2025-02-13 02:25:16,369 allensdk.api.api.retrieve_file_over_http INFO     Downloading URL: http://api.brain-map.org/api/v2/well_known_file_download/395337046\n",
            "INFO:allensdk.api.api.retrieve_file_over_http:Downloading URL: http://api.brain-map.org/api/v2/well_known_file_download/395337046\n",
            "2025-02-13 02:25:16,413 allensdk.api.api.retrieve_file_over_http INFO     Downloading URL: http://api.brain-map.org/api/v2/well_known_file_download/395337015\n",
            "INFO:allensdk.api.api.retrieve_file_over_http:Downloading URL: http://api.brain-map.org/api/v2/well_known_file_download/395337015\n",
            "2025-02-13 02:25:16,454 allensdk.api.api.retrieve_file_over_http INFO     Downloading URL: http://api.brain-map.org/api/v2/well_known_file_download/395337066\n",
            "INFO:allensdk.api.api.retrieve_file_over_http:Downloading URL: http://api.brain-map.org/api/v2/well_known_file_download/395337066\n",
            "2025-02-13 02:25:16,496 allensdk.api.api.retrieve_file_over_http INFO     Downloading URL: http://api.brain-map.org/api/v2/well_known_file_download/464138096\n",
            "INFO:allensdk.api.api.retrieve_file_over_http:Downloading URL: http://api.brain-map.org/api/v2/well_known_file_download/464138096\n",
            "2025-02-13 02:25:16,537 allensdk.api.api.retrieve_file_over_http INFO     Downloading URL: http://api.brain-map.org/api/v2/well_known_file_download/395337007\n",
            "INFO:allensdk.api.api.retrieve_file_over_http:Downloading URL: http://api.brain-map.org/api/v2/well_known_file_download/395337007\n",
            "2025-02-13 02:25:16,576 allensdk.api.api.retrieve_file_over_http INFO     Downloading URL: http://api.brain-map.org/api/v2/well_known_file_download/395337062\n",
            "INFO:allensdk.api.api.retrieve_file_over_http:Downloading URL: http://api.brain-map.org/api/v2/well_known_file_download/395337062\n",
            "2025-02-13 02:25:16,618 allensdk.api.api.retrieve_file_over_http INFO     Downloading URL: http://api.brain-map.org/api/v2/well_known_file_download/491113425\n",
            "INFO:allensdk.api.api.retrieve_file_over_http:Downloading URL: http://api.brain-map.org/api/v2/well_known_file_download/491113425\n",
            "2025-02-13 02:25:16,661 allensdk.api.api.retrieve_file_over_http INFO     Downloading URL: http://api.brain-map.org/api/v2/well_known_file_download/395337070\n",
            "INFO:allensdk.api.api.retrieve_file_over_http:Downloading URL: http://api.brain-map.org/api/v2/well_known_file_download/395337070\n",
            "2025-02-13 02:25:16,701 allensdk.api.api.retrieve_file_over_http INFO     Downloading URL: http://api.brain-map.org/api/v2/well_known_file_download/497236694\n",
            "INFO:allensdk.api.api.retrieve_file_over_http:Downloading URL: http://api.brain-map.org/api/v2/well_known_file_download/497236694\n"
          ]
        }
      ],
      "source": [
        "# Download the cell with passive dendrites\n",
        "bp.cache_stimulus = False # Change to False to not download the large stimulus NWB file\n",
        "bp.cache_data(477878284) # 'id'"
      ]
    },
    {
      "cell_type": "markdown",
      "source": [
        "## use segregated modfiles"
      ],
      "metadata": {
        "id": "0FbAS5GMrtvG"
      }
    },
    {
      "cell_type": "code",
      "source": [
        "# replace the modfiles with 'segregated' so the ion channels are 100% closed at voltages that they should not be active at\n",
        "segregate_modfiles = True\n",
        "if segregate_modfiles:\n",
        "  import shutil\n",
        "  shutil.rmtree(\"modfiles/\")\n",
        "  !git clone -b release_candidate https://github.com/V-Marco/ACT/\n",
        "  # move the modfiles from the other repo\n",
        "  # https://github.com/V-Marco/ACT/tree/release_candidate/data/SST/seg/modfiles -> /content/modfiles\n",
        "  !mv ACT/data/SST/seg/modfiles/ /content/modfiles/"
      ],
      "metadata": {
        "colab": {
          "base_uri": "https://localhost:8080/"
        },
        "id": "atSrnPryrtAs",
        "outputId": "2ca733f8-5f99-42a6-c665-e448d3950d48"
      },
      "execution_count": 7,
      "outputs": [
        {
          "output_type": "stream",
          "name": "stdout",
          "text": [
            "Cloning into 'ACT'...\n",
            "remote: Enumerating objects: 4382, done.\u001b[K\n",
            "remote: Counting objects: 100% (409/409), done.\u001b[K\n",
            "remote: Compressing objects: 100% (292/292), done.\u001b[K\n",
            "remote: Total 4382 (delta 193), reused 259 (delta 98), pack-reused 3973 (from 1)\u001b[K\n",
            "Receiving objects: 100% (4382/4382), 153.06 MiB | 20.95 MiB/s, done.\n",
            "Resolving deltas: 100% (2011/2011), done.\n"
          ]
        }
      ]
    },
    {
      "cell_type": "code",
      "source": [
        "# get synapse modfiles # do here to compile them with the rest.\n",
        "\n",
        "if not 'vecevent.mod' in os.listdir(\"modfiles\"):\n",
        "  !git clone https://github.com/davidfague/Neural-Modeling/\n",
        "  # move the modfiles from the other repo\n",
        "  # https://github.com/davidfague/Neural-Modeling/tree/release_candidate/data/SST/seg/modfiles/{synapse_modfiles} -> /content/modfiles/\n",
        "\n",
        "  !mv Neural-Modeling/modfiles/hay/AMPA_NMDA.mod /content/modfiles/\n",
        "  !mv Neural-Modeling/modfiles/hay/GABA_AB.mod /content/modfiles/\n",
        "  !mv Neural-Modeling/modfiles/hay/vecevent.mod /content/modfiles/"
      ],
      "metadata": {
        "colab": {
          "base_uri": "https://localhost:8080/"
        },
        "id": "MaHTgCWM3hqg",
        "outputId": "1d6dea1d-aa13-4283-ef9f-3cf2f1d12d6b"
      },
      "execution_count": 8,
      "outputs": [
        {
          "output_type": "stream",
          "name": "stdout",
          "text": [
            "Cloning into 'Neural-Modeling'...\n",
            "remote: Enumerating objects: 5118, done.\u001b[K\n",
            "remote: Counting objects: 100% (287/287), done.\u001b[K\n",
            "remote: Compressing objects: 100% (83/83), done.\u001b[K\n",
            "remote: Total 5118 (delta 249), reused 214 (delta 203), pack-reused 4831 (from 1)\u001b[K\n",
            "Receiving objects: 100% (5118/5118), 54.00 MiB | 26.67 MiB/s, done.\n",
            "Resolving deltas: 100% (3493/3493), done.\n"
          ]
        }
      ]
    },
    {
      "cell_type": "markdown",
      "source": [
        "## Update the fit.json if needed."
      ],
      "metadata": {
        "id": "EImQsI_iB5D_"
      }
    },
    {
      "cell_type": "code",
      "source": [
        "update_fit = True\n",
        "if update_fit:\n",
        "  !git clone https://github.com/davidfague/single-cell-tuning.git # get the new file\n",
        "  !mv single-cell-tuning/476686112_jan_fit.json 476686112_fit.json # replace the file\n",
        "\n",
        "  # alternatively, change the manifest"
      ],
      "metadata": {
        "colab": {
          "base_uri": "https://localhost:8080/"
        },
        "id": "-YPLCMQeB9-r",
        "outputId": "9bd8085e-2383-4c5e-aeef-47f9f7e12dd2"
      },
      "execution_count": 9,
      "outputs": [
        {
          "output_type": "stream",
          "name": "stdout",
          "text": [
            "Cloning into 'single-cell-tuning'...\n",
            "remote: Enumerating objects: 33, done.\u001b[K\n",
            "remote: Counting objects: 100% (33/33), done.\u001b[K\n",
            "remote: Compressing objects: 100% (33/33), done.\u001b[K\n",
            "remote: Total 33 (delta 15), reused 0 (delta 0), pack-reused 0 (from 0)\u001b[K\n",
            "Receiving objects: 100% (33/33), 263.29 KiB | 6.42 MiB/s, done.\n",
            "Resolving deltas: 100% (15/15), done.\n"
          ]
        }
      ]
    },
    {
      "cell_type": "markdown",
      "metadata": {
        "id": "L6EW-xKqvmWg"
      },
      "source": [
        "## Build the cell"
      ]
    },
    {
      "cell_type": "code",
      "execution_count": 227,
      "metadata": {
        "colab": {
          "base_uri": "https://localhost:8080/"
        },
        "id": "ohqoZc7OotdZ",
        "outputId": "26204b18-d413-4b3e-c970-fd2c647ab51e"
      },
      "outputs": [
        {
          "output_type": "stream",
          "name": "stdout",
          "text": [
            "/usr/local/bin/nrnivmodl:10: DeprecationWarning: pkg_resources is deprecated as an API. See https://setuptools.pypa.io/en/latest/pkg_resources.html\n",
            "  from pkg_resources import working_set\n",
            "/content\n",
            "Mod files: \"modfiles/modfiles/AMPA_NMDA.mod\" \"modfiles/modfiles/CaDynamics.mod\" \"modfiles/modfiles/Ca_HVA.mod\" \"modfiles/modfiles/Ca_LVA.mod\" \"modfiles/modfiles/GABA_AB.mod\" \"modfiles/modfiles/Ih.mod\" \"modfiles/modfiles/Im.mod\" \"modfiles/modfiles/Im_v2.mod\" \"modfiles/modfiles/Kd.mod\" \"modfiles/modfiles/K_P.mod\" \"modfiles/modfiles/K_T.mod\" \"modfiles/modfiles/Kv2like.mod\" \"modfiles/modfiles/Kv3_1.mod\" \"modfiles/modfiles/Nap.mod\" \"modfiles/modfiles/NaTa.mod\" \"modfiles/modfiles/NaTs.mod\" \"modfiles/modfiles/NaV.mod\" \"modfiles/modfiles/SK.mod\" \"modfiles/modfiles/vecevent.mod\"\n",
            "\n",
            "Creating 'x86_64' directory for .o files.\n",
            "\n",
            " -> \u001b[32mCompiling\u001b[0m mod_func.cpp\n",
            " -> \u001b[32mNMODL\u001b[0m ../modfiles/AMPA_NMDA.mod\n",
            " -> \u001b[32mNMODL\u001b[0m ../modfiles/CaDynamics.mod\n",
            " -> \u001b[32mNMODL\u001b[0m ../modfiles/Ca_HVA.mod\n",
            "Translating CaDynamics.mod into /content/x86_64/CaDynamics.c\n",
            "Translating AMPA_NMDA.mod into /content/x86_64/AMPA_NMDA.c\n",
            "Thread Safe\n",
            "Translating Ca_HVA.mod into /content/x86_64/Ca_HVA.c\n",
            "Thread Safe\n",
            "Thread Safe\n",
            " -> \u001b[32mNMODL\u001b[0m ../modfiles/Ca_LVA.mod\n",
            " -> \u001b[32mNMODL\u001b[0m ../modfiles/GABA_AB.mod\n",
            " -> \u001b[32mNMODL\u001b[0m ../modfiles/Ih.mod\n",
            "Translating GABA_AB.mod into /content/x86_64/GABA_AB.c\n",
            "Thread Safe\n",
            "Translating Ca_LVA.mod into /content/x86_64/Ca_LVA.c\n",
            "Translating Ih.mod into /content/x86_64/Ih.c\n",
            "Thread Safe\n",
            " -> \u001b[32mNMODL\u001b[0m ../modfiles/Im.mod\n",
            "Thread Safe\n",
            " -> \u001b[32mNMODL\u001b[0m ../modfiles/Im_v2.mod\n",
            "Translating Im.mod into /content/x86_64/Im.c\n",
            " -> \u001b[32mNMODL\u001b[0m ../modfiles/Kd.mod\n",
            "Thread Safe\n",
            "Translating Im_v2.mod into /content/x86_64/Im_v2.c\n",
            "Thread Safe\n",
            " -> \u001b[32mNMODL\u001b[0m ../modfiles/K_P.mod\n",
            "Translating Kd.mod into /content/x86_64/Kd.c\n",
            "Thread Safe\n",
            " -> \u001b[32mNMODL\u001b[0m ../modfiles/K_T.mod\n",
            "Translating K_P.mod into /content/x86_64/K_P.c\n",
            "Thread Safe\n",
            " -> \u001b[32mNMODL\u001b[0m ../modfiles/Kv2like.mod\n",
            "Translating K_T.mod into /content/x86_64/K_T.c\n",
            "Thread Safe\n",
            " -> \u001b[32mNMODL\u001b[0m ../modfiles/Kv3_1.mod\n",
            " -> \u001b[32mNMODL\u001b[0m ../modfiles/Nap.mod\n",
            "Translating Kv2like.mod into /content/x86_64/Kv2like.c\n",
            "Thread Safe\n",
            "Translating Kv3_1.mod into /content/x86_64/Kv3_1.c\n",
            "Thread Safe\n",
            " -> \u001b[32mNMODL\u001b[0m ../modfiles/NaTa.mod\n",
            " -> \u001b[32mNMODL\u001b[0m ../modfiles/NaTs.mod\n",
            "Translating Nap.mod into /content/x86_64/Nap.c\n",
            "Translating NaTa.mod into /content/x86_64/NaTa.c\n",
            "Thread Safe\n",
            "Thread Safe\n",
            " -> \u001b[32mNMODL\u001b[0m ../modfiles/NaV.mod\n",
            "Translating NaTs.mod into /content/x86_64/NaTs.c\n",
            " -> \u001b[32mNMODL\u001b[0m ../modfiles/SK.mod\n",
            "Thread Safe\n",
            "Translating NaV.mod into /content/x86_64/NaV.c\n",
            "NEURON's CVode method ignores conservation\n",
            "Notice: LINEAR is not thread safe.\n",
            " -> \u001b[32mNMODL\u001b[0m ../modfiles/vecevent.mod\n",
            " -> \u001b[32mCompiling\u001b[0m AMPA_NMDA.c\n",
            "Translating SK.mod into /content/x86_64/SK.c\n",
            "Translating vecevent.mod into /content/x86_64/vecevent.c\n",
            "Notice: Use of POINTER is not thread safe.\n",
            "Notice: VERBATIM blocks are not thread safe\n",
            "Notice: ARTIFICIAL_CELL is a synonym for POINT_PROCESS which hints that it\n",
            "only affects and is affected by discrete events. As such it is not\n",
            "located in a section and is not associated with an integrator\n",
            "Thread Safe\n",
            " -> \u001b[32mCompiling\u001b[0m CaDynamics.c\n",
            " -> \u001b[32mCompiling\u001b[0m Ca_HVA.c\n",
            " -> \u001b[32mCompiling\u001b[0m Ca_LVA.c\n",
            " -> \u001b[32mCompiling\u001b[0m GABA_AB.c\n",
            " -> \u001b[32mCompiling\u001b[0m Ih.c\n",
            " -> \u001b[32mCompiling\u001b[0m Im.c\n",
            " -> \u001b[32mCompiling\u001b[0m Im_v2.c\n",
            " -> \u001b[32mCompiling\u001b[0m Kd.c\n",
            " -> \u001b[32mCompiling\u001b[0m K_P.c\n",
            " -> \u001b[32mCompiling\u001b[0m K_T.c\n",
            " -> \u001b[32mCompiling\u001b[0m Kv2like.c\n",
            " -> \u001b[32mCompiling\u001b[0m Kv3_1.c\n",
            " -> \u001b[32mCompiling\u001b[0m Nap.c\n",
            " -> \u001b[32mCompiling\u001b[0m NaTa.c\n",
            " -> \u001b[32mCompiling\u001b[0m NaTs.c\n",
            " -> \u001b[32mCompiling\u001b[0m NaV.c\n",
            " -> \u001b[32mCompiling\u001b[0m SK.c\n",
            " -> \u001b[32mCompiling\u001b[0m vecevent.c\n",
            " => \u001b[32mLINKING\u001b[0m shared library ./libnrnmech.so\n",
            " => \u001b[32mLINKING\u001b[0m executable ./special LDFLAGS are:    -pthread\n",
            "Successfully created x86_64/special\n"
          ]
        }
      ],
      "source": [
        "# Compile the modfiles\n",
        "!nrnivmodl modfiles"
      ]
    },
    {
      "cell_type": "code",
      "source": [
        "# Create the h object\n",
        "description = Config().load('manifest.json')\n",
        "utils = Utils(description)\n",
        "h = utils.h\n",
        "\n",
        "# Convert all \"value\" attributes to floats\n",
        "for dict in utils.description.data['genome']:\n",
        "    for key, value in dict.items():\n",
        "        if key == 'value': dict[key] = float(value)"
      ],
      "metadata": {
        "id": "5CkSERj3_KMj"
      },
      "execution_count": 11,
      "outputs": []
    },
    {
      "cell_type": "code",
      "execution_count": 12,
      "metadata": {
        "id": "I1YIh3VKpgTq",
        "colab": {
          "base_uri": "https://localhost:8080/"
        },
        "outputId": "7137f5a7-9009-40be-f670-2f128ad0339d"
      },
      "outputs": [
        {
          "output_type": "stream",
          "name": "stdout",
          "text": [
            "warning ./Sst-IRES-Cre_Ai14-188740.03.02.01_657210399_m.swc: more than one tree:\n",
            "  root at line 4\n",
            "  root at line 14504\n",
            "  root at line 14725\n",
            "  root at line 14798\n",
            "  root at line 15141\n",
            "  root at line 15144\n",
            "  root at line 15156\n",
            "  root at line 15211\n",
            "  root at line 15318\n",
            "  root at line 15496\n",
            "  root at line 15811\n",
            "  root at line 15857\n",
            "  root at line 15883\n",
            "  root at line 16161\n",
            "  root at line 16200\n",
            "  root at line 16210\n",
            "  root at line 16253\n",
            "  root at line 16286\n",
            "  root at line 16301\n",
            "  root at line 16326\n",
            "  root at line 16574\n",
            "  root at line 16613\n",
            "  root at line 16618\n",
            "  root at line 16645\n",
            "  root at line 16695\n",
            "  root at line 16751\n",
            "  root at line 16765\n",
            "  root at line 16768\n"
          ]
        }
      ],
      "source": [
        "# Configure morphology\n",
        "manifest = description.manifest\n",
        "morphology_path = description.manifest.get_path('MORPHOLOGY')\n",
        "utils.generate_morphology(morphology_path.encode('ascii', 'ignore'))\n",
        "utils.load_cell_parameters()"
      ]
    },
    {
      "cell_type": "markdown",
      "source": [
        "### MARK1"
      ],
      "metadata": {
        "id": "d2j1aJ4Ar01W"
      }
    },
    {
      "cell_type": "code",
      "source": [
        "h.soma[0].diam"
      ],
      "metadata": {
        "colab": {
          "base_uri": "https://localhost:8080/"
        },
        "id": "TwUI_abu_N4H",
        "outputId": "5209b50d-5125-4721-f720-8acf29407a05"
      },
      "execution_count": 184,
      "outputs": [
        {
          "output_type": "execute_result",
          "data": {
            "text/plain": [
              "25.322799682617188"
            ]
          },
          "metadata": {},
          "execution_count": 184
        }
      ]
    },
    {
      "cell_type": "code",
      "source": [
        "# Get this from the built cell\n",
        "computed_soma_area = 5.036323076932052e-06 # (cm2)"
      ],
      "metadata": {
        "id": "B6FOJ9QhqeaH"
      },
      "execution_count": 186,
      "outputs": []
    },
    {
      "cell_type": "code",
      "source": [
        "user_provided_Rin = 195.4 * 10e6 # (Ohm)\n",
        "user_provided_tau = 15.6 * 1e-3 # (s)\n",
        "user_provided_Vrest = -71 # (mV)"
      ],
      "metadata": {
        "id": "9wpMHpndlup3"
      },
      "execution_count": 187,
      "outputs": []
    },
    {
      "cell_type": "code",
      "source": [
        "g_bar_leak = (1 / user_provided_Rin) / computed_soma_area\n",
        "cm = user_provided_tau * g_bar_leak * 1e6\n",
        "print(f\"E_leak: {user_provided_Vrest}\")\n",
        "print(f\"gbarleak: {g_bar_leak}\")\n",
        "print(f\"Cm: {cm}\")"
      ],
      "metadata": {
        "colab": {
          "base_uri": "https://localhost:8080/"
        },
        "id": "7svleoE7mI7e",
        "outputId": "cad721d1-cb1b-4d38-f875-7d5c300cbe3e"
      },
      "execution_count": 188,
      "outputs": [
        {
          "output_type": "stream",
          "name": "stdout",
          "text": [
            "E_leak: -71\n",
            "gbarleak: 0.00010161594458832541\n",
            "Cm: 1.5852087355778763\n"
          ]
        }
      ]
    },
    {
      "cell_type": "code",
      "source": [
        "\n",
        "fit_filename = os.path.join(f\"{specimen_id}_fit.json\")\n",
        "\n",
        "with open(fit_filename,'r') as file:\n",
        "    data = json.load(file)\n",
        "\n",
        "\n",
        "#set all sections cm to the same\n",
        "for item in data['passive']:\n",
        "    for field in item['cm']:\n",
        "        field['cm'] = cm\n",
        "\n",
        "\n",
        "for item in data[\"genome\"]:\n",
        "  if (item['name'] == 'g_pas'):\n",
        "    item['value'] = g_bar_leak\n",
        "\n",
        "\n",
        "#set e_rev_leak in all sections\n",
        "data['passive'][0]['e_pas'] = user_provided_Vrest\n",
        "\n",
        "data['conditions'][0]['v_init'] = user_provided_Vrest\n",
        "\n",
        "with open(fit_filename, 'w') as file:\n",
        "    json.dump(data, file, indent=4)"
      ],
      "metadata": {
        "id": "SpX3FEtZHmlf"
      },
      "execution_count": 189,
      "outputs": []
    },
    {
      "cell_type": "markdown",
      "source": [
        "Now update those in the fit file. Restart the runtime and rebuild the cell."
      ],
      "metadata": {
        "id": "O5f_rw1XmqDi"
      }
    },
    {
      "cell_type": "markdown",
      "source": [
        "### MARK2"
      ],
      "metadata": {
        "id": "KsEIYTTtsFfu"
      }
    },
    {
      "cell_type": "code",
      "source": [
        "# Create the h object\n",
        "description = Config().load('manifest.json')\n",
        "utils = Utils(description)\n",
        "h = utils.h\n",
        "\n",
        "# Convert all \"value\" attributes to floats\n",
        "for dict in utils.description.data['genome']:\n",
        "    for key, value in dict.items():\n",
        "        if key == 'value': dict[key] = float(value)\n",
        "\n",
        "# Configure morphology\n",
        "manifest = description.manifest\n",
        "morphology_path = description.manifest.get_path('MORPHOLOGY')\n",
        "utils.generate_morphology(morphology_path.encode('ascii', 'ignore'))\n",
        "utils.load_cell_parameters()"
      ],
      "metadata": {
        "colab": {
          "base_uri": "https://localhost:8080/"
        },
        "id": "30ZD_BUOnPsH",
        "outputId": "f4a20835-9346-4a16-9c3e-b400ea1fb8aa"
      },
      "execution_count": 341,
      "outputs": [
        {
          "output_type": "stream",
          "name": "stdout",
          "text": [
            "warning ./Sst-IRES-Cre_Ai14-188740.03.02.01_657210399_m.swc: more than one tree:\n",
            "  root at line 4\n",
            "  root at line 14504\n",
            "  root at line 14725\n",
            "  root at line 14798\n",
            "  root at line 15141\n",
            "  root at line 15144\n",
            "  root at line 15156\n",
            "  root at line 15211\n",
            "  root at line 15318\n",
            "  root at line 15496\n",
            "  root at line 15811\n",
            "  root at line 15857\n",
            "  root at line 15883\n",
            "  root at line 16161\n",
            "  root at line 16200\n",
            "  root at line 16210\n",
            "  root at line 16253\n",
            "  root at line 16286\n",
            "  root at line 16301\n",
            "  root at line 16326\n",
            "  root at line 16574\n",
            "  root at line 16613\n",
            "  root at line 16618\n",
            "  root at line 16645\n",
            "  root at line 16695\n",
            "  root at line 16751\n",
            "  root at line 16765\n",
            "  root at line 16768\n"
          ]
        }
      ]
    },
    {
      "cell_type": "code",
      "source": [
        "h.soma[0].diam = h.soma[0].diam * 2"
      ],
      "metadata": {
        "id": "tbha6lZtD4z7"
      },
      "execution_count": 342,
      "outputs": []
    },
    {
      "cell_type": "code",
      "execution_count": 343,
      "metadata": {
        "id": "0tHDC3moz_Oa"
      },
      "outputs": [],
      "source": [
        "# Set current injection\n",
        "CI_stim = h.IClamp(h.soma[0](0.5))\n",
        "CI_stim.amp = -0.2\n",
        "CI_stim.delay = 300.0\n",
        "CI_stim.dur = 400.0\n",
        "h.tstop = 1000.0\n",
        "h.dt = 0.1\n",
        "h.steps_per_ms = 1 / h.dt"
      ]
    },
    {
      "cell_type": "code",
      "execution_count": 344,
      "metadata": {
        "id": "BaIlWMf21BW7"
      },
      "outputs": [],
      "source": [
        "vec = utils.record_values()"
      ]
    },
    {
      "cell_type": "code",
      "execution_count": 345,
      "metadata": {
        "colab": {
          "base_uri": "https://localhost:8080/"
        },
        "id": "neUAxcGi1CzG",
        "outputId": "2b71ba61-d9b6-419c-d278-3fc2a1a645ce"
      },
      "outputs": [
        {
          "output_type": "execute_result",
          "data": {
            "text/plain": [
              "0.0"
            ]
          },
          "metadata": {},
          "execution_count": 345
        }
      ],
      "source": [
        "h.finitialize()\n",
        "h.run()"
      ]
    },
    {
      "cell_type": "code",
      "execution_count": 346,
      "metadata": {
        "colab": {
          "base_uri": "https://localhost:8080/",
          "height": 466
        },
        "id": "3dPvTUki1Dy_",
        "outputId": "878a6936-d85f-4bf5-e261-9a821537f0da"
      },
      "outputs": [
        {
          "output_type": "execute_result",
          "data": {
            "text/plain": [
              "Text(0, 0.5, 'Voltage (mV)')"
            ]
          },
          "metadata": {},
          "execution_count": 346
        },
        {
          "output_type": "display_data",
          "data": {
            "text/plain": [
              "<Figure size 640x480 with 1 Axes>"
            ],
            "image/png": "[encoded data removed]"
          },
          "metadata": {}
        }
      ],
      "source": [
        "plt.plot(vec['t'].as_numpy(), vec['v'].as_numpy())\n",
        "plt.xlabel(\"Time (ms)\")\n",
        "plt.ylabel(\"Voltage (mV)\")"
      ]
    },
    {
      "cell_type": "code",
      "source": [
        "# Adjust g-pas to this:\n",
        "0.00010161594458832541 * 1.5\n",
        "\n",
        "# + Adjust cm to 2.5"
      ],
      "metadata": {
        "colab": {
          "base_uri": "https://localhost:8080/"
        },
        "id": "YrwZHlv1Ez56",
        "outputId": "06b3da76-d8a1-411c-c6d1-d7d3857d95ee"
      },
      "execution_count": 347,
      "outputs": [
        {
          "output_type": "execute_result",
          "data": {
            "text/plain": [
              "0.00015242391688248812"
            ]
          },
          "metadata": {},
          "execution_count": 347
        }
      ]
    },
    {
      "cell_type": "code",
      "source": [
        "import numpy as np\n",
        "def compute_gpp(passive_V: np.ndarray, dt: float, I_t_start: int, I_t_end: int, I_amp: float):\n",
        "    '''\n",
        "    Parameters:\n",
        "    ----------\n",
        "    I_t_start: float\n",
        "        Current injection start time (ms).\n",
        "    '''\n",
        "\n",
        "    index_V_rest = int(I_t_start / dt) - 1\n",
        "\n",
        "    # If there is no h channel, V_final == V_trough\n",
        "    index_V_trough = index_V_rest + np.argmin(passive_V[index_V_rest:])\n",
        "    index_V_final = int(I_t_end / dt) - 1\n",
        "\n",
        "    V_rest = passive_V[index_V_rest]\n",
        "    V_trough = passive_V[index_V_trough]\n",
        "    V_final = passive_V[index_V_final]\n",
        "\n",
        "    # R_in\n",
        "    R_in = (V_rest - V_trough) / (0 - I_amp)\n",
        "\n",
        "    # Tau1\n",
        "    V_tau1 = V_rest - (V_rest - V_trough) * 0.632\n",
        "\n",
        "    index_v_tau1 = next(\n",
        "                index for index, voltage_value in enumerate(list(passive_V[index_V_rest:]))\n",
        "                if voltage_value < V_tau1\n",
        "            )\n",
        "    tau1 = index_v_tau1 * dt\n",
        "\n",
        "    # Tau2\n",
        "    V_tau2 = V_trough - (V_trough - V_final) * 0.632\n",
        "    index_v_tau2 = next(\n",
        "                index for index, voltage_value in enumerate(list(passive_V[index_V_trough:]))\n",
        "                if voltage_value > V_tau2\n",
        "            )\n",
        "    tau2 = index_v_tau2 * dt\n",
        "\n",
        "    # Sag ratio\n",
        "    sag = (V_final - V_trough) / (V_rest - V_trough)\n",
        "\n",
        "    gpp = (R_in, tau1, tau2, sag)\n",
        "    return gpp"
      ],
      "metadata": {
        "id": "_XqKnQvKncwx"
      },
      "execution_count": 348,
      "outputs": []
    },
    {
      "cell_type": "code",
      "source": [
        "#R_in, tau1, tau2, sag_ratio)\n",
        "trace = vec['v'].as_numpy()\n",
        "\n",
        "res = list(compute_gpp(trace, h.dt, CI_stim.delay,CI_stim.delay + CI_stim.dur - 5, CI_stim.amp))\n",
        "res.append(trace[int(CI_stim.delay / h.dt) - 1])\n",
        "print(f\"R_in: {round(res[0],6)}\\ntau1: {round(res[1],6)}\\ntau2: {round(res[2],6)}\\nsag: {round(res[3],6)}\\nRMP: {round(res[4],6)}\")\n"
      ],
      "metadata": {
        "colab": {
          "base_uri": "https://localhost:8080/"
        },
        "id": "plOR1aJnnuui",
        "outputId": "f9f50dba-4175-456e-edcd-93b4f9597185"
      },
      "execution_count": 349,
      "outputs": [
        {
          "output_type": "stream",
          "name": "stdout",
          "text": [
            "R_in: 156.646182\n",
            "tau1: 8.5\n",
            "tau2: 24.9\n",
            "sag: 0.535508\n",
            "RMP: -82.257515\n"
          ]
        }
      ]
    },
    {
      "cell_type": "code",
      "source": [
        "# Biophysical properties (mean±SD)\n",
        "\n",
        "\n",
        "# SST\n",
        "\n",
        "# RMP (mV)\t    -65.75±3.76\n",
        "# Rm (MOhm)\t    188.7±9736\n",
        "# Cm (pF)\t      96.46±50.01\n",
        "# Tau (ms)\t    15.6±8.6\n",
        "# Sag ratio\t    0.85±0.09\n",
        "# Rheobase (pA)\t90±38.25\n",
        "# Rin (MOhm)\t  195.4±75.93\n",
        "\n",
        "#PV (n=15)\n",
        "# RMP (mV)      -71.25+5.6\n",
        "# Rm (MOhm)     88.97±36.3\n",
        "# Cm (pF)       78±50.18\n",
        "# Tau (ms)      5.9±2.9\n",
        "# Sag ratio     0.96±0.02\n",
        "# Rheobase (pA) 225±112.2\n",
        "# Rin (MOhm)    98.9±34.48\n",
        "\n",
        "\n"
      ],
      "metadata": {
        "id": "0ZRDue_wGByq"
      },
      "execution_count": null,
      "outputs": []
    },
    {
      "cell_type": "markdown",
      "source": [
        "## Calculating FI"
      ],
      "metadata": {
        "id": "VNjhLxoTwfhe"
      }
    },
    {
      "cell_type": "code",
      "source": [
        "def count_voltage_events(t, v):\n",
        "    \"\"\"\n",
        "    Counts the number of times the voltage goes above -20 mV and the slope changes from positive to negative.\n",
        "\n",
        "    Args:\n",
        "        t: A NumPy array of time points.\n",
        "        v: A NumPy array of voltage values.\n",
        "\n",
        "    Returns:\n",
        "        The number of events.\n",
        "    \"\"\"\n",
        "\n",
        "    # Calculate the slope of the voltage\n",
        "    slope = np.diff(v)\n",
        "\n",
        "    # Find the indices where the voltage is above -20 mV\n",
        "    above_threshold_indices = np.where(v[:-1] > -20)[0]\n",
        "\n",
        "    # Find the indices where the slope changes from positive to negative\n",
        "    positive_to_negative_indices = np.where((slope[:-1] > 0) & (slope[1:] < 0))[0]\n",
        "\n",
        "    # Find the intersection of the two sets of indices\n",
        "    event_indices = np.intersect1d(above_threshold_indices, positive_to_negative_indices)\n",
        "\n",
        "    return len(event_indices)\n",
        "\n",
        "# my code for automatically plotting calculating F/I\n",
        "import numpy as np\n",
        "amplitudes = np.arange(0,1.1,0.1)\n",
        "firing_rates = []\n",
        "\n",
        "for amp in amplitudes:\n",
        "  CI_stim.amp = amp\n",
        "\n",
        "  vec = utils.record_values()\n",
        "\n",
        "  # simulate\n",
        "  h.finitialize()\n",
        "  h.run()\n",
        "\n",
        "  t = vec['t'].as_numpy()\n",
        "  v = vec['v'].as_numpy()\n",
        "  plt.plot(vec['t'].as_numpy(), vec['v'].as_numpy())\n",
        "  plt.xlabel(\"Time (ms)\")\n",
        "  plt.ylabel(\"Voltage (mV)\")\n",
        "\n",
        "  # Call the function to count the events\n",
        "  num_events = count_voltage_events(t, v)\n",
        "\n",
        "  firing_rates.append(num_events/(CI_stim.dur/1000))\n",
        "\n",
        "\n",
        "plt.legend(amplitudes)\n",
        "plt.show() # voltages\n",
        "\n",
        "import matplotlib.pyplot as plt\n",
        "plt.plot(amplitudes, firing_rates)\n",
        "plt.xlabel(\"Injection (nA)\")\n",
        "plt.ylabel(\"Firing Rate (Hz)\")\n",
        "plt.show() # FI"
      ],
      "metadata": {
        "id": "8LNbrtzqGB1d",
        "colab": {
          "base_uri": "https://localhost:8080/",
          "height": 881
        },
        "outputId": "280f56de-0598-4936-d982-890f8f2ae60e"
      },
      "execution_count": null,
      "outputs": [
        {
          "output_type": "display_data",
          "data": {
            "text/plain": [
              "<Figure size 640x480 with 1 Axes>"
            ],
            "image/png": "[encoded data removed]"
          },
          "metadata": {}
        },
        {
          "output_type": "display_data",
          "data": {
            "text/plain": [
              "<Figure size 640x480 with 1 Axes>"
            ],
            "image/png": "[encoded data removed]"
          },
          "metadata": {}
        }
      ]
    },
    {
      "cell_type": "markdown",
      "source": [
        "## Adding a synapse"
      ],
      "metadata": {
        "id": "RC2tXTOywho_"
      }
    },
    {
      "cell_type": "code",
      "source": [
        "CI_stim.amp = 0 # turn off current injection\n",
        "\n",
        "# store in lists to make sure you don't create extra objects when rerunning? #update: it is fine as long as you overwrite the previous python variable\n",
        "synapses = [] #if 'synapses' not in locals() else synapses\n",
        "vecstims = [] #if 'vecstims' not in locals() else vecstims\n",
        "netcons = [] #if 'netcons' not in locals() else netcons\n",
        "\n",
        "# init synapse\n",
        "if synapses == []:\n",
        "  syn = h.AMPA_NMDA(h.soma[0](0.5)) # can change section, segment\n",
        "  synapses.append(syn)\n",
        "# change to your synapse. Include your synapse in modfiles/\n",
        "# can change section, segment\n",
        "\n",
        "# customize spike train\n",
        "spike_train = np.array([500])  # [100, 200, 300, 400, 500]) # changing got rid of the other spikes so the first netcon was disabled.\n",
        "\n",
        "# put spike_train into a hoc vector that can be delivered to synapses\n",
        "if vecstims == []:\n",
        "  spike_vec = h.Vector(spike_train)\n",
        "  stim = h.VecStim()\n",
        "  stim.play(spike_vec)\n",
        "  vecstims.append(stim)\n",
        "\n",
        "# deliver spike_train to synapse using netcon\n",
        "if netcons == []:\n",
        "  nc = h.NetCon(stim, syn, 1, 0, 1)\n",
        "  netcons.append(nc)"
      ],
      "metadata": {
        "id": "fGAptb-gwj17"
      },
      "execution_count": null,
      "outputs": []
    },
    {
      "cell_type": "code",
      "source": [
        "# if you wanna update the spike train without rerunning, use this function to turn off other netcons, and adjust code to create new ones\n",
        "netcons[0].active() # show current status\n",
        "# netcons[0].active(False) # inactivate"
      ],
      "metadata": {
        "colab": {
          "base_uri": "https://localhost:8080/"
        },
        "id": "-ioyREsZ6KM1",
        "outputId": "48159204-0f51-42dc-a5c8-82b4d4084c23"
      },
      "execution_count": null,
      "outputs": [
        {
          "output_type": "execute_result",
          "data": {
            "text/plain": [
              "True"
            ]
          },
          "metadata": {},
          "execution_count": 29
        }
      ]
    },
    {
      "cell_type": "code",
      "source": [
        "  vec = utils.record_values()\n",
        "\n",
        "  # simulate\n",
        "  h.finitialize()\n",
        "  h.run()\n",
        "\n",
        "  t = vec['t'].as_numpy()\n",
        "  v = vec['v'].as_numpy()\n",
        "  plt.plot(vec['t'].as_numpy(), vec['v'].as_numpy())\n",
        "  plt.xlabel(\"Time (ms)\")\n",
        "  plt.ylabel(\"Voltage (mV)\")"
      ],
      "metadata": {
        "colab": {
          "base_uri": "https://localhost:8080/",
          "height": 466
        },
        "id": "Ur0BDaom7Msl",
        "outputId": "50e62a21-cc3e-48ee-ecf2-b6a7e158e2f6"
      },
      "execution_count": null,
      "outputs": [
        {
          "output_type": "execute_result",
          "data": {
            "text/plain": [
              "Text(0, 0.5, 'Voltage (mV)')"
            ]
          },
          "metadata": {},
          "execution_count": 30
        },
        {
          "output_type": "display_data",
          "data": {
            "text/plain": [
              "<Figure size 640x480 with 1 Axes>"
            ],
            "image/png": "[encoded data removed]"
          },
          "metadata": {}
        }
      ]
    },
    {
      "cell_type": "markdown",
      "metadata": {
        "id": "wixxvQBb9i0L"
      },
      "source": [
        "## Homework\n",
        "\n",
        "1. Choose any active mouse cell model from the [database](http://celltypes.brain-map.org/data). When searching, put \"Has All-active Biophysical model\" on.\n",
        "2. Simulate the cell for different values of current injection (CI). Plot voltage responses (t vs V) for each CI. Then plot the FI curve."
      ]
    }
  ],
  "metadata": {
    "colab": {
      "provenance": []
    },
    "kernelspec": {
      "display_name": "Python 3",
      "name": "python3"
    },
    "language_info": {
      "name": "python"
    }
  },
  "nbformat": 4,
  "nbformat_minor": 0
}